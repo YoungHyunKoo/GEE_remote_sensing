{
  "nbformat": 4,
  "nbformat_minor": 0,
  "metadata": {
    "colab": {
      "provenance": [],
      "include_colab_link": true
    },
    "kernelspec": {
      "name": "python3",
      "display_name": "Python 3"
    },
    "language_info": {
      "name": "python"
    }
  },
  "cells": [
    {
      "cell_type": "markdown",
      "metadata": {
        "id": "view-in-github",
        "colab_type": "text"
      },
      "source": [
        "<a href=\"https://colab.research.google.com/github/YoungHyunKoo/GEE_remote_sensing/blob/main/Week4/4_1_Pixel_based_classification.ipynb\" target=\"_parent\"><img src=\"https://colab.research.google.com/assets/colab-badge.svg\" alt=\"Open In Colab\"/></a>"
      ]
    },
    {
      "cell_type": "markdown",
      "source": [
        "### **[GEO 6083] Remote Sensing Imge Processing - Spring 2024**\n",
        "# **WEEK 4-1. Pixel-based image classification**\n",
        "\n",
        "### OBJECTIVE\n",
        "(1) Implement pixel-based supervised classification\n",
        "\n",
        "(2) Implement pixel-based unsupervised classification\n",
        "\n",
        "(3) Assess the accuracy of classification result\n",
        "\n",
        "Credited by Younghyun Koo (kooala317@gmail.com)\n",
        "\n",
        "\n",
        "\n"
      ],
      "metadata": {
        "id": "spgKDXRFKukv"
      }
    },
    {
      "cell_type": "markdown",
      "source": [
        "# **What is classification?**\n",
        "\n",
        "Remote sensing images cover a large geographical area. To easily understand and derive land use and land cover information, we need to process the image interpretation and image classification. Image classification is this process of assigning land cover classes to image pixels. There are two types of basic classifications: **(1) Suprevised classification** and **(2) Unsupervised classification**.\n",
        "\n",
        "### **(1) Suppervised Classification**\n",
        "In supervised classification, you select \"training\" samples and let the computer classfiy your image based on those samples. These samples represent specific classes and these training samples are used as references for the classification (e.g. vegetation, tree, urban area, water, etc.) of the other pixels. These training samples can be determined by the knowledge of the user. There are a few algorithms for supervised classification, but the fundamental idea is that images are classified and allocated to the classes in which they show the greatest similarities with the training samples based on the statistics results.\n",
        "\n",
        "### **(2) Unsupervised Classification**\n",
        "Unsupervised classification generates clusters based on similar spectral characteristics inherent in the image. The computer uses various techniques to determine which pixels are related and groups them into classes. All this is done without the help of training data or prior knowledge. Since the algorithm cannot determine what class is what land cover, you have to determine the correspondences between the spectral classes that the algorithm defines.\n",
        "\n",
        "<img src = \"https://media.licdn.com/dms/image/C4E12AQGbAM-_eriLMw/article-cover_image-shrink_720_1280/0/1632916005843?e=2147483647&v=beta&t=tK9-0A3zL7uHv_CVIaRZKIiw7vqSsHXfKWg4O2_PS64\" width = 700>\n",
        "\n",
        "<img src = \"https://remotesensinginactionlearningblog.files.wordpress.com/2014/11/capture.jpg?w=640\" width = 700>\n",
        "\n",
        "\n"
      ],
      "metadata": {
        "id": "IFRLGLtYRYxw"
      }
    },
    {
      "cell_type": "markdown",
      "source": [
        "# **Pixel-based v. Object-based classification**\n",
        "One of the traditional way to do classification from remote sensing imagery data is **pixel-based** classification. This classification is only based on pixel value itself, so each pixel is classified into a certain class. We expect a sort of *salt-and-pepper* effect from this pixel-based classification result. Instead, in order to avoid such salt-and-pepper effect, we can also use **object-based** image classification, which groups individual pixels into several objects based on the similarity between neighboring pixels. In this tutorial, first we will learn how to conduct pixel-based image classification using Google Earth Engine.\n",
        "\n",
        "<img src = \"https://www.researchgate.net/publication/271197176/figure/fig3/AS:295146110373904@1447379724740/A-comparison-between-pixel-based-and-object-based-classification-results-The-first-row.png\" width = 800>\n"
      ],
      "metadata": {
        "id": "Ht-9cBDP15px"
      }
    },
    {
      "cell_type": "markdown",
      "source": [
        "# **Practice supervised classification**\n",
        "\n",
        "First, let's start with the pixel-based **supervised** classification."
      ],
      "metadata": {
        "id": "a2ueCQDcLDHW"
      }
    },
    {
      "cell_type": "code",
      "source": [
        "# Import ee library\n",
        "import ee\n",
        "\n",
        "# Authenticate\n",
        "ee.Authenticate()\n",
        "\n",
        "# Initialize with your own project.\n",
        "ee.Initialize(project = \"utsa-spring2024\")"
      ],
      "metadata": {
        "id": "zk5LXlUWLqoQ"
      },
      "execution_count": null,
      "outputs": []
    },
    {
      "cell_type": "code",
      "source": [
        "# Import geemap library\n",
        "import geemap"
      ],
      "metadata": {
        "id": "AIlkKXylLseO"
      },
      "execution_count": null,
      "outputs": []
    },
    {
      "cell_type": "code",
      "source": [
        "# Import geopandas and pandas library\n",
        "import geopandas as gpd\n",
        "import pandas as pd"
      ],
      "metadata": {
        "id": "YhlKLtYvgPUW"
      },
      "execution_count": null,
      "outputs": []
    },
    {
      "cell_type": "code",
      "source": [
        "# Mount to Google Drive (save files)\n",
        "from google.colab import drive\n",
        "drive.mount('/content/drive')"
      ],
      "metadata": {
        "id": "TcTkEToKEdUJ"
      },
      "execution_count": null,
      "outputs": []
    },
    {
      "cell_type": "markdown",
      "source": [
        "Google Earth Engine provides the `Classifier` packages for supervised classification. The `Classifier` package allows us to handle supervised classification by traditional algorithms, including CART, RandomForest, NaiveBayes, and SVM (support vector machine). Please see this link for more details: [link](https://developers.google.com/earth-engine/guides/classification). The general workflow for classification is following:\n",
        "\n",
        "**(1) Collect training data**: Assemble features which have a property that stores the known class label and properties storing numeric values for the predictors.\n",
        "\n",
        "**(2) Instantiate a classifier**: Set its parameters if necessary.\n",
        "\n",
        "**(3) Train the classifier**: Use the training dataset.\n",
        "\n",
        "**(4) Classify images**\n",
        "\n",
        "**(5) Estimate classification error**: Use independent validation dataset."
      ],
      "metadata": {
        "id": "V78fk5ySXfNP"
      }
    },
    {
      "cell_type": "markdown",
      "source": [
        "First, let's import a Landsat imagery."
      ],
      "metadata": {
        "id": "wPXkUiE-_Pg1"
      }
    },
    {
      "cell_type": "code",
      "source": [
        "# Region of interest - San Antonio\n",
        "point = ee.Geometry.Point([-98.47, 29.43])\n",
        "\n",
        "image = (\n",
        "    ee.ImageCollection(\"LANDSAT/LC08/C02/T1_L2\")\n",
        "    .filterBounds(point)\n",
        "    .filterDate('2016-01-01', '2016-12-31')\n",
        "    .sort('CLOUD_COVER')\n",
        "    .first()\n",
        "    .select('SR_B[1-7]')\n",
        ").multiply(2.75e-05).add(-0.2)\n",
        "\n",
        "box = ee.Geometry.Rectangle(\n",
        "  [\n",
        "    [-98.95, 29.02],\n",
        "    [-98.05, 29.74]\n",
        "  ]\n",
        ")\n",
        "\n",
        "image = image.clip(box)\n",
        "\n",
        "bands = ['SR_B4', 'SR_B3', 'SR_B2']\n",
        "vis_params = {'min': 0, 'max': 0.3, 'bands': bands, 'alpha': 1.0}\n",
        "\n",
        "Map = geemap.Map()\n",
        "\n",
        "Map.centerObject(image, 10)\n",
        "Map.addLayer(image, vis_params, \"Landsat-8\")\n",
        "\n",
        "Map"
      ],
      "metadata": {
        "id": "wCwwC_JPqBnA"
      },
      "execution_count": null,
      "outputs": []
    },
    {
      "cell_type": "markdown",
      "source": [
        "## Collect trainig samples by yourself"
      ],
      "metadata": {
        "id": "zks36xraSqPn"
      }
    },
    {
      "cell_type": "markdown",
      "source": [
        "Now, you will get points of different land types for the surface classification. In this tutorial, we will assume there are 5 surface types in this area: (1) Quarry & Concrete, (2) Water, (3) Tree/Forest, (4) Grass, and (5) Bare soil."
      ],
      "metadata": {
        "id": "mkVb3x8Ej5y7"
      }
    },
    {
      "cell_type": "markdown",
      "source": [
        "(1) Quarry & Concrete\n",
        "\n",
        "In general, quarry & concrete structures should look very bright and white in the true color image."
      ],
      "metadata": {
        "id": "AZ749YE4kzNt"
      }
    },
    {
      "cell_type": "code",
      "source": [
        "Map = geemap.Map()\n",
        "\n",
        "Map.centerObject(image, 10)\n",
        "Map.addLayer(image, vis_params, \"Landsat-8\")\n",
        "\n",
        "Map"
      ],
      "metadata": {
        "id": "YUK_ZZEgj47z"
      },
      "execution_count": null,
      "outputs": []
    },
    {
      "cell_type": "code",
      "source": [
        "roi = ee.FeatureCollection(Map.draw_features)\n",
        "concrete = geemap.ee_to_gdf(roi)\n",
        "concrete['label'] = \"concrete\"\n",
        "concrete['id'] = 0\n",
        "concrete"
      ],
      "metadata": {
        "id": "KiLe6S1fhWMB"
      },
      "execution_count": null,
      "outputs": []
    },
    {
      "cell_type": "code",
      "source": [
        "# Save table as csv file\n",
        "concrete.to_csv('drive/MyDrive/samples_concrete.csv')\n",
        "\n",
        "# Restore samples from csv file\n",
        "df = pd.read_csv('drive/MyDrive/samples_concrete.csv', index_col = 0)\n",
        "\n",
        "# Convert pandas dataframe to geopandas geodataframe (contains geometry information)\n",
        "s = gpd.GeoSeries.from_wkt(df.geometry, crs=4326) # CRS: WGS84 (latitude, longitude)\n",
        "gdf = gpd.GeoDataFrame(data=df, geometry=s)"
      ],
      "metadata": {
        "id": "BWH74GnVFQbL"
      },
      "execution_count": null,
      "outputs": []
    },
    {
      "cell_type": "code",
      "source": [
        "concrete_ee = geemap.gdf_to_ee(gdf)\n",
        "\n",
        "Map.addLayer(concrete_ee, {}, 'Concrete samples')\n",
        "Map"
      ],
      "metadata": {
        "id": "6spR8UxjGBzx"
      },
      "execution_count": null,
      "outputs": []
    },
    {
      "cell_type": "markdown",
      "source": [
        "(2) Water\n",
        "\n",
        "Let's digitize waterbodies. There are three large lakes near San Antonio."
      ],
      "metadata": {
        "id": "b67dSW6yk0w8"
      }
    },
    {
      "cell_type": "code",
      "source": [
        "Map = geemap.Map()\n",
        "\n",
        "Map.centerObject(image, 10)\n",
        "Map.addLayer(image, vis_params, \"Landsat-8\")\n",
        "\n",
        "Map"
      ],
      "metadata": {
        "id": "bvIb6F3Xhu6Y"
      },
      "execution_count": null,
      "outputs": []
    },
    {
      "cell_type": "code",
      "source": [
        "roi = ee.FeatureCollection(Map.draw_features)\n",
        "water = geemap.ee_to_gdf(roi)\n",
        "water['label'] = \"water\"\n",
        "water['id'] = 1\n",
        "water"
      ],
      "metadata": {
        "id": "z0h8-0lkk4rc"
      },
      "execution_count": null,
      "outputs": []
    },
    {
      "cell_type": "code",
      "source": [
        "# Save table as csv file\n",
        "water.to_csv('drive/MyDrive/samples_water.csv')\n",
        "\n",
        "# Restore samples from csv file\n",
        "df = pd.read_csv('drive/MyDrive/samples_water.csv', index_col = 0)\n",
        "\n",
        "# Convert pandas dataframe to geopandas geodataframe (contains geometry information)\n",
        "s = gpd.GeoSeries.from_wkt(df.geometry, crs=4326) # CRS: WGS84 (latitude, longitude)\n",
        "gdf = gpd.GeoDataFrame(data=df, geometry=s)\n",
        "\n",
        "# Convert geodataframe to earth engine feature collection\n",
        "water_ee = geemap.gdf_to_ee(gdf)"
      ],
      "metadata": {
        "id": "D47PEEhcHiyo"
      },
      "execution_count": null,
      "outputs": []
    },
    {
      "cell_type": "markdown",
      "source": [
        "(3) Tree / forest\n",
        "\n",
        "Next, we will find tree or forest land cover."
      ],
      "metadata": {
        "id": "JLqiqbjAlENE"
      }
    },
    {
      "cell_type": "code",
      "source": [
        "Map = geemap.Map()\n",
        "\n",
        "Map.centerObject(image, 10)\n",
        "Map.addLayer(image, vis_params, \"Landsat-8\")\n",
        "\n",
        "Map"
      ],
      "metadata": {
        "id": "9b3RilRalHtk"
      },
      "execution_count": null,
      "outputs": []
    },
    {
      "cell_type": "code",
      "source": [
        "roi = ee.FeatureCollection(Map.draw_features)\n",
        "tree = geemap.ee_to_gdf(roi)\n",
        "tree['label'] = \"tree\"\n",
        "tree['id'] = 2\n",
        "tree"
      ],
      "metadata": {
        "id": "awR9vjKNlHwL"
      },
      "execution_count": null,
      "outputs": []
    },
    {
      "cell_type": "code",
      "source": [
        "# Save table as csv file\n",
        "tree.to_csv('drive/MyDrive/samples_tree.csv')\n",
        "\n",
        "# Restore samples from csv file\n",
        "df = pd.read_csv('drive/MyDrive/samples_tree.csv', index_col = 0)\n",
        "\n",
        "# Convert pandas dataframe to geopandas geodataframe (contains geometry information)\n",
        "s = gpd.GeoSeries.from_wkt(df.geometry, crs=4326) # CRS: WGS84 (latitude, longitude)\n",
        "gdf = gpd.GeoDataFrame(data=df, geometry=s)\n",
        "\n",
        "# Convert geodataframe to earth engine feature collection\n",
        "tree_ee = geemap.gdf_to_ee(gdf)"
      ],
      "metadata": {
        "id": "HXEpIhXfH3-0"
      },
      "execution_count": null,
      "outputs": []
    },
    {
      "cell_type": "markdown",
      "source": [
        "(4) Grass\n",
        "\n",
        "Next, we will define grass land covers."
      ],
      "metadata": {
        "id": "uZcDcK7Dl44N"
      }
    },
    {
      "cell_type": "code",
      "source": [
        "Map = geemap.Map()\n",
        "\n",
        "Map.centerObject(image, 10)\n",
        "Map.addLayer(image, vis_params, \"Landsat-8\")\n",
        "\n",
        "Map"
      ],
      "metadata": {
        "id": "1iq24w2wl2W8"
      },
      "execution_count": null,
      "outputs": []
    },
    {
      "cell_type": "code",
      "source": [
        "roi = ee.FeatureCollection(Map.draw_features)\n",
        "grass = geemap.ee_to_gdf(roi)\n",
        "grass['label'] = \"grass\"\n",
        "grass['id'] = 3\n",
        "grass"
      ],
      "metadata": {
        "id": "uGj2q9r4l2Zs"
      },
      "execution_count": null,
      "outputs": []
    },
    {
      "cell_type": "code",
      "source": [
        "# Save table as csv file\n",
        "grass.to_csv('drive/MyDrive/samples_grass.csv')\n",
        "\n",
        "# Restore samples from csv file\n",
        "df = pd.read_csv('drive/MyDrive/samples_grass.csv', index_col = 0)\n",
        "\n",
        "# Convert pandas dataframe to geopandas geodataframe (contains geometry information)\n",
        "s = gpd.GeoSeries.from_wkt(df.geometry, crs=4326) # CRS: WGS84 (latitude, longitude)\n",
        "gdf = gpd.GeoDataFrame(data=df, geometry=s)\n",
        "\n",
        "# Convert geodataframe to earth engine feature collection\n",
        "grass_ee = geemap.gdf_to_ee(gdf)"
      ],
      "metadata": {
        "id": "Z1Lv148DIa6d"
      },
      "execution_count": null,
      "outputs": []
    },
    {
      "cell_type": "markdown",
      "source": [
        "(5) Bare soil\n",
        "\n",
        "Finally, we will define bare soil land covers. Or you can think this land cover as cropland or any other types."
      ],
      "metadata": {
        "id": "qiraErvWl_n-"
      }
    },
    {
      "cell_type": "code",
      "source": [
        "Map = geemap.Map()\n",
        "\n",
        "Map.centerObject(image, 10)\n",
        "Map.addLayer(image, vis_params, \"Landsat-8\")\n",
        "\n",
        "Map"
      ],
      "metadata": {
        "id": "HpsHHEi2oN3l"
      },
      "execution_count": null,
      "outputs": []
    },
    {
      "cell_type": "code",
      "source": [
        "roi = ee.FeatureCollection(Map.draw_features)\n",
        "soil = geemap.ee_to_gdf(roi)\n",
        "soil['label'] = \"soil\"\n",
        "soil['id'] = 4\n",
        "soil"
      ],
      "metadata": {
        "id": "Hwfq_VhfoQPP"
      },
      "execution_count": null,
      "outputs": []
    },
    {
      "cell_type": "code",
      "source": [
        "# Save table as csv file\n",
        "soil.to_csv('drive/MyDrive/samples_soil.csv')\n",
        "\n",
        "# Restore samples from csv file\n",
        "df = pd.read_csv('drive/MyDrive/samples_soil.csv', index_col = 0)\n",
        "\n",
        "# Convert pandas dataframe to geopandas geodataframe (contains geometry information)\n",
        "s = gpd.GeoSeries.from_wkt(df.geometry, crs=4326) # CRS: WGS84 (latitude, longitude)\n",
        "gdf = gpd.GeoDataFrame(data=df, geometry=s)\n",
        "\n",
        "# Convert geodataframe to earth engine feature collection\n",
        "soil_ee = geemap.gdf_to_ee(gdf)"
      ],
      "metadata": {
        "id": "4iyY36UoI_gN"
      },
      "execution_count": null,
      "outputs": []
    },
    {
      "cell_type": "markdown",
      "source": [
        "Now, let's collect all of the training samples together. We will store these samples as a geodataframe of `geopandas`."
      ],
      "metadata": {
        "id": "tNtCvrf3oU_A"
      }
    },
    {
      "cell_type": "code",
      "source": [
        "gdf = pd.concat([concrete, water, tree, grass, soil]).reset_index(drop = True)\n",
        "gdf[\"latitude\"] = gdf.geometry.y\n",
        "gdf[\"longitude\"] = gdf.geometry.x\n",
        "gdf"
      ],
      "metadata": {
        "id": "zPeTlK-Jou1E"
      },
      "execution_count": null,
      "outputs": []
    },
    {
      "cell_type": "code",
      "source": [
        "# Convert geodataframe into ee feature collection\n",
        "training = geemap.gdf_to_ee(gdf)"
      ],
      "metadata": {
        "id": "m4MEUjKZrc8r"
      },
      "execution_count": null,
      "outputs": []
    },
    {
      "cell_type": "code",
      "source": [
        "# Check the size of the training samples\n",
        "training.size().getInfo()"
      ],
      "metadata": {
        "id": "CvnQ2i8Cs7vy"
      },
      "execution_count": null,
      "outputs": []
    },
    {
      "cell_type": "markdown",
      "source": [
        "## Train classifier\n",
        "\n",
        "Now the training dataset is ready! We will train a CART (Classification and Regression Trees) classifier using this training dataset. CART is a decision tree algorithm that is used for both classification and regression tasks. This algorithm is provided as a built-in function of Google Earth Engine, so you can easily import and use this function. You can find more details about this algorithm here:\n",
        "- [\"Classification and Regression Trees\" by Leo Breiman](https://www.taylorfrancis.com/books/mono/10.1201/9781315139470/classification-regression-trees-leo-breiman-jerome-friedman-olshen-charles-stone)\n",
        "- [ee.Classifier.smileCart](https://developers.google.com/earth-engine/apidocs/ee-classifier-smilecart)"
      ],
      "metadata": {
        "id": "aONUJYQT9HO5"
      }
    },
    {
      "cell_type": "code",
      "source": [
        "# Use these bands for prediction.\n",
        "bands = ['SR_B1', 'SR_B2', 'SR_B3', 'SR_B4', 'SR_B5', 'SR_B6', 'SR_B7']\n",
        "\n",
        "# This property of the table stores the land cover labels.\n",
        "label = 'id'\n",
        "\n",
        "# Overlay the points on the imagery to get training.\n",
        "sample = image.select(bands).sampleRegions(\n",
        "    **{'collection': training, 'properties': [label], 'scale': 30}\n",
        ")\n",
        "\n",
        "# Train a CART classifier with default parameters.\n",
        "classifier = ee.Classifier.smileCart().train(sample, label, bands)"
      ],
      "metadata": {
        "id": "-WhA8axzou37"
      },
      "execution_count": null,
      "outputs": []
    },
    {
      "cell_type": "markdown",
      "source": [
        "## Apply classifier to the entire image\n",
        "\n",
        "The CART classifier is trained with the training samples. Now let's apply this trained classifier to the entire image pixels."
      ],
      "metadata": {
        "id": "zuC_9-_x-ZY1"
      }
    },
    {
      "cell_type": "code",
      "source": [
        "# Classify the image with the same bands used for training.\n",
        "result = image.select(bands).classify(classifier)\n",
        "\n",
        "Map = geemap.Map()\n",
        "\n",
        "Map.centerObject(image, 10)\n",
        "\n",
        "# Original image\n",
        "Map.addLayer(image, vis_params, \"Landsat-8\")\n",
        "\n",
        "# Display the clusters with random colors.\n",
        "# Map.addLayer(result.randomVisualizer(), {}, 'classified')\n",
        "Map.addLayer(result, {'palette': ['red', 'blue', 'green', 'cyan', 'yellow'], 'min':0, 'max':4}, 'classified')\n",
        "\n",
        "Map"
      ],
      "metadata": {
        "id": "BP7Lbq7-ou6o"
      },
      "execution_count": null,
      "outputs": []
    },
    {
      "cell_type": "markdown",
      "source": [
        "### Collect training sampels from external ground truth data sources\n",
        "\n",
        "During the previous steps, we defined our own training samples by manually digitize 5 different land covers. However, if we have any ground truth data, we can just import this data and use it as training samples. In this example, we will use the [USGS Nataional Land cover databased (NLCD)](https://https://developers.google.com/earth-engine/datasets/catalog/USGS_NLCD) to create labeled dataset for training."
      ],
      "metadata": {
        "id": "yqCXOB9-uVfu"
      }
    },
    {
      "cell_type": "code",
      "source": [
        "# Visualize this land cover dataset\n",
        "nlcd = ee.Image('USGS/NLCD/NLCD2016').select('landcover').clip(image.geometry())\n",
        "\n",
        "Map = geemap.Map()\n",
        "\n",
        "Map.centerObject(image, 10)\n",
        "\n",
        "Map.addLayer(image, vis_params, \"Landsat-8\")\n",
        "\n",
        "Map.addLayer(nlcd, {}, 'NLCD')\n",
        "Map.add_legend(builtin_legend='NLCD')\n",
        "\n",
        "Map"
      ],
      "metadata": {
        "id": "HeNfMfbn_ejd"
      },
      "execution_count": null,
      "outputs": []
    },
    {
      "cell_type": "code",
      "source": [
        "# Randomly sample the training points from the NLCD land cover data\n",
        "\n",
        "points = nlcd.sample(\n",
        "    **{\n",
        "        'region': image.geometry(),\n",
        "        'scale': 30,\n",
        "        'numPixels': 1000,\n",
        "        'seed': 0,\n",
        "        'geometries': True,  # Set this to False to ignore geometries\n",
        "    }\n",
        ")\n",
        "\n",
        "Map.addLayer(points, {}, 'training')\n",
        "Map"
      ],
      "metadata": {
        "id": "zOJjD5O3AoiX"
      },
      "execution_count": null,
      "outputs": []
    },
    {
      "cell_type": "code",
      "source": [
        "# Number of training sample points\n",
        "print(points.size().getInfo())"
      ],
      "metadata": {
        "id": "G3UTGBkJBAC-"
      },
      "execution_count": null,
      "outputs": []
    },
    {
      "cell_type": "code",
      "source": [
        "# Information of the first sample point\n",
        "print(points.first().getInfo())"
      ],
      "metadata": {
        "id": "KoOscBMyBBZ-"
      },
      "execution_count": null,
      "outputs": []
    },
    {
      "cell_type": "markdown",
      "source": [
        "Now we will train the classifier using these training samples. Here we are gonna use the same CART classifier."
      ],
      "metadata": {
        "id": "5xZFqyc9BPjm"
      }
    },
    {
      "cell_type": "code",
      "source": [
        "# Use these bands for prediction.\n",
        "bands = ['SR_B1', 'SR_B2', 'SR_B3', 'SR_B4', 'SR_B5', 'SR_B6', 'SR_B7']\n",
        "\n",
        "# This property of the table stores the land cover labels.\n",
        "label = 'landcover'\n",
        "\n",
        "# Overlay the points on the imagery to get training.\n",
        "sample = image.select(bands).sampleRegions(\n",
        "    **{'collection': points, 'properties': [label], 'scale': 30}\n",
        ")\n",
        "\n",
        "# Train a CART classifier with default parameters.\n",
        "classifier = ee.Classifier.smileCart().train(sample, label, bands)"
      ],
      "metadata": {
        "id": "iJbfwsopBPGf"
      },
      "execution_count": null,
      "outputs": []
    },
    {
      "cell_type": "code",
      "source": [
        "# Classify the image with the same bands used for training.\n",
        "result = image.select(bands).classify(classifier)"
      ],
      "metadata": {
        "id": "_AL19y7rBaed"
      },
      "execution_count": null,
      "outputs": []
    },
    {
      "cell_type": "code",
      "source": [
        "# Use the symbology style of the NLCD database to the classified image.\n",
        "Map = geemap.Map()\n",
        "\n",
        "class_values = nlcd.get('landcover_class_values').getInfo()\n",
        "class_values\n",
        "\n",
        "class_palette = nlcd.get('landcover_class_palette').getInfo()\n",
        "class_palette\n",
        "\n",
        "landcover = result.set('classification_class_values', class_values)\n",
        "landcover = landcover.set('classification_class_palette', class_palette)\n",
        "\n",
        "Map.addLayer(image, vis_params, \"VIS\")\n",
        "Map.addLayer(nlcd, {}, 'Reference')\n",
        "Map.addLayer(landcover, {}, 'Land cover')\n",
        "\n",
        "Map.add_legend(builtin_legend='NLCD')\n",
        "Map.centerObject(image, 10)\n",
        "Map"
      ],
      "metadata": {
        "id": "9MO94kBeB9po"
      },
      "execution_count": null,
      "outputs": []
    },
    {
      "cell_type": "code",
      "source": [
        "# Visualize and comapre the classificaiton result and the reference data\n",
        "print('Change layer opacity:')\n",
        "cluster_layer = Map.layers[-1]\n",
        "cluster_layer.interact(opacity=(0, 1, 0.1))"
      ],
      "metadata": {
        "id": "3oe2g5QnIoYM"
      },
      "execution_count": null,
      "outputs": []
    },
    {
      "cell_type": "markdown",
      "source": [
        "**[Question]**\n",
        "\n",
        "Please compare the classified image and NLCD reference land cover. How do they look like? Do they have similar land covers?"
      ],
      "metadata": {
        "id": "fPiZ3py3ChoA"
      }
    },
    {
      "cell_type": "markdown",
      "source": [
        "***DO IT YOURSELF!!***\n",
        "- Please try another classifier as the training model. (e.g., SVM, random forest)\n",
        "- SVM: [how to use](https://developers.google.com/earth-engine/apidocs/ee-classifier-libsvm)\n",
        "- Random forest: [how to use](https://developers.google.com/earth-engine/apidocs/ee-classifier-smilerandomforest)"
      ],
      "metadata": {
        "id": "sx-T3YCyqcC9"
      }
    },
    {
      "cell_type": "code",
      "source": [
        "# Use SVM\n"
      ],
      "metadata": {
        "id": "dhMwRDdgnuLY"
      },
      "execution_count": null,
      "outputs": []
    },
    {
      "cell_type": "code",
      "source": [
        "# Use Random forest\n"
      ],
      "metadata": {
        "id": "qetH0uWiEhQ5"
      },
      "execution_count": null,
      "outputs": []
    },
    {
      "cell_type": "markdown",
      "source": [
        "##**Accuracy assessment of the classifier**"
      ],
      "metadata": {
        "id": "1Mh7IUbxG2Tr"
      }
    },
    {
      "cell_type": "markdown",
      "source": [
        "Now we will assess the accuracy of the classifier. For assessment of the classifier, we need to divide all the samples into two datasets: training and test. We will assess the training accuracy with the trainig dataset and test accuracy with the test dataset."
      ],
      "metadata": {
        "id": "9cYwtfWeLuhO"
      }
    },
    {
      "cell_type": "code",
      "source": [
        "# Adds a column of deterministic pseudorandom numbers.\n",
        "sample = sample.randomColumn()\n",
        "\n",
        "split = 0.7\n",
        "\n",
        "training = sample.filter(ee.Filter.lt('random', split)) # Traing data set: 70 % of the samples\n",
        "test = sample.filter(ee.Filter.gte('random', split)) # Test data set: 30 % of the samples\n",
        "\n",
        "# Train a CART classifier with default parameters.\n",
        "classifier = ee.Classifier.smileCart().train(training, label, bands)"
      ],
      "metadata": {
        "id": "aQ3ubB1kNQYM"
      },
      "execution_count": null,
      "outputs": []
    },
    {
      "cell_type": "code",
      "source": [
        "# train accuracy\n",
        "train_accuracy = classifier.confusionMatrix()\n",
        "train_accuracy.accuracy().getInfo()"
      ],
      "metadata": {
        "id": "4xpT2zvNG9RZ"
      },
      "execution_count": null,
      "outputs": []
    },
    {
      "cell_type": "code",
      "source": [
        "# test accuracy\n",
        "tested = test.classify(classifier)\n",
        "test_accuracy = tested.errorMatrix('landcover', 'classification')\n",
        "\n",
        "test_accuracy.accuracy().getInfo()"
      ],
      "metadata": {
        "id": "ECcR1DZdG8AB"
      },
      "execution_count": null,
      "outputs": []
    },
    {
      "cell_type": "markdown",
      "source": [
        "# **Practice unsupervised Classification**"
      ],
      "metadata": {
        "id": "g-bTO8Qm0C0r"
      }
    },
    {
      "cell_type": "markdown",
      "source": [
        "While the `Classifier` package handles the supervised classification problems, the `Clusterer` package handles unsupervised classification (or clustering) in GEE.\n",
        "\n",
        "Clusterers are used in the same manner as classifiers in Earth Engine. The general workflow for clustering is:\n",
        "\n",
        "**(1) Assemble features** with numeric properties in which to find clusters.\n",
        "\n",
        "**(2) Instantiate a clusterer**: Set its parameters if necessary.\n",
        "\n",
        "**(3) Train the clusterer**: Use the training data.\n",
        "\n",
        "**(4) Apply the clusterer** to an image or feature collection.\n",
        "\n",
        "**(5) Label the clusters**\n",
        "\n",
        "\n",
        "Unlike `Classifier`, no input class value is required for an `Clusterer`. Once a `Clusterer` trained, it can be applied to an image or table. It assigns an unique integer cluster ID to each pixel or feature."
      ],
      "metadata": {
        "id": "X2D8VGBiExdK"
      }
    },
    {
      "cell_type": "code",
      "source": [
        "Map = geemap.Map()\n",
        "\n",
        "Map.centerObject(image, 10)\n",
        "Map.addLayer(image, vis_params, \"Landsat-8\")\n",
        "\n",
        "Map"
      ],
      "metadata": {
        "id": "Qfyd3JMPx8ll"
      },
      "execution_count": null,
      "outputs": []
    },
    {
      "cell_type": "markdown",
      "source": [
        "As similar to the previous supervised classification practice, we will sample a few trainig sites."
      ],
      "metadata": {
        "id": "ImSNsOtI1VrE"
      }
    },
    {
      "cell_type": "code",
      "source": [
        "# Make the training dataset.\n",
        "training = image.sample(\n",
        "    **{\n",
        "        #     'region': region,\n",
        "        'scale': 30,\n",
        "        'numPixels': 5000,\n",
        "        'seed': 0,\n",
        "        'geometries': True,  # Set this to False to ignore geometries\n",
        "    }\n",
        ")\n",
        "\n",
        "Map.addLayer(training, {}, 'training')\n",
        "Map"
      ],
      "metadata": {
        "id": "O8-kSU8Zx8nr"
      },
      "execution_count": null,
      "outputs": []
    },
    {
      "cell_type": "markdown",
      "source": [
        "We will use K-means cluster algorithm, which is the most popular unsupervised algorithm in remote sensing.\n",
        "\n"
      ],
      "metadata": {
        "id": "Z4lrXRe2JhMG"
      }
    },
    {
      "cell_type": "code",
      "source": [
        "# Instantiate the clusterer and train it.\n",
        "n_clusters = 5\n",
        "clusterer = ee.Clusterer.wekaKMeans(n_clusters).train(training)"
      ],
      "metadata": {
        "id": "f-Wgmu22F0oz"
      },
      "execution_count": null,
      "outputs": []
    },
    {
      "cell_type": "code",
      "source": [
        "# Cluster the input using the trained clusterer.\n",
        "result = image.cluster(clusterer)\n",
        "\n",
        "# Display the clusters with random colors.\n",
        "Map.addLayer(result.randomVisualizer(), {}, 'clusters')\n",
        "Map"
      ],
      "metadata": {
        "id": "lIupb8AfF-Pq"
      },
      "execution_count": null,
      "outputs": []
    },
    {
      "cell_type": "code",
      "source": [
        "nlcd = ee.Image('USGS/NLCD/NLCD2016').select('landcover').clip(image.geometry())\n",
        "Map.addLayer(nlcd, {}, 'NLCD')\n",
        "Map"
      ],
      "metadata": {
        "id": "E1IG6rNmI7l7"
      },
      "execution_count": null,
      "outputs": []
    },
    {
      "cell_type": "code",
      "source": [
        "print('Change layer opacity:')\n",
        "cluster_layer = Map.layers[-1]\n",
        "cluster_layer.interact(opacity=(0, 1, 0.1))"
      ],
      "metadata": {
        "id": "-cJG962wGBNK"
      },
      "execution_count": null,
      "outputs": []
    },
    {
      "cell_type": "markdown",
      "source": [
        "**[Question]**\n",
        "\n",
        "- Please compare the clusters from the K-means algorithm and NLCD reference land cover. How do they look like? Do they have similar land covers?\n",
        "- In your opinion, what land cover is represented by each cluster?"
      ],
      "metadata": {
        "id": "sCyM336jJct8"
      }
    },
    {
      "cell_type": "markdown",
      "source": [
        "***DO IT YOURSELF!!***\n",
        "- In the previous example, we set the number of clusters as 5, so the result only has 5 clusters (classes). However, you can also change the number of clusters. Please change the number of clusters and see how the result is changed. When you compare the result with the reference NLCD data, how many cluster is the best for the classification?"
      ],
      "metadata": {
        "id": "QJ-z3e47KMdl"
      }
    },
    {
      "cell_type": "markdown",
      "source": [
        "## References\n",
        "- https://geemap.org/tutorials/#geemap-tutorials\n",
        "- https://developers.google.com/earth-engine/guides/classification\n",
        "- https://developers.google.com/earth-engine/guides/clustering\n",
        "- https://developers.google.com/earth-engine/apidocs/ee-classifier-smilecart"
      ],
      "metadata": {
        "id": "LlhmFRm-W8LJ"
      }
    }
  ]
}