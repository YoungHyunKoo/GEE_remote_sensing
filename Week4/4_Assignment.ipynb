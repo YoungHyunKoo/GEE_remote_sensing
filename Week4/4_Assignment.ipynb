{
  "nbformat": 4,
  "nbformat_minor": 0,
  "metadata": {
    "colab": {
      "provenance": [],
      "authorship_tag": "ABX9TyNwi63NJn9S3863KfV8EDHp",
      "include_colab_link": true
    },
    "kernelspec": {
      "name": "python3",
      "display_name": "Python 3"
    },
    "language_info": {
      "name": "python"
    }
  },
  "cells": [
    {
      "cell_type": "markdown",
      "metadata": {
        "id": "view-in-github",
        "colab_type": "text"
      },
      "source": [
        "<a href=\"https://colab.research.google.com/github/YoungHyunKoo/GEE_remote_sensing/blob/main/Week4/4_Assignment.ipynb\" target=\"_parent\"><img src=\"https://colab.research.google.com/assets/colab-badge.svg\" alt=\"Open In Colab\"/></a>"
      ]
    },
    {
      "cell_type": "markdown",
      "source": [
        "### **[GEO 6083] Remote Sensing Imge Processing - Spring 2025**\n",
        "# **WEEK 4 Assignments**\n",
        "\n",
        "*** Due by 04/14/2024 (Mon) 06:00 pm ***\n",
        "\n",
        "### Submission instructions\n",
        "- Please copy this notebook in your Google Drive. (File > Save a copy in Drive)\n",
        "- Rename the notebook into ***2025_4_Assignments_LASTNAME***. Put your lastname.\n",
        "- Once you complete the tasks, please press the \"Share\" button on the top right corner. Change the \"General Access\" to ***Anyone with this link*** and ***Viewer***.\n",
        "- Press the \"Copy link\" button. Paste this link and submit to Canvas."
      ],
      "metadata": {
        "id": "aiIlOPRIElwe"
      }
    },
    {
      "cell_type": "markdown",
      "source": [
        "## **1. Task 1 (100 pts)**\n",
        "\n",
        "Please conduct the following classification for the below provided imagery.\n",
        "\n",
        "- Pixel-based Unsupervised classification (K-means cluster or any other `ee.Clusterer`) **[30 pts]**\n",
        "- Pixel-based Supervised classification (choose either smileRandomForest or smilerCart, or any other `ee.Classifier`) **[35 pts]**\n",
        "- Object-based Supervised classification (choose either smileRandomForest or smilerCart, or any other `ee.Classifier`) **[35 pts]**\n",
        "\n",
        "\n",
        "Data source: [NAIP: National Agriculture Imagery Program](https://developers.google.com/earth-engine/datasets/catalog/USDA_NAIP_DOQQ)\n",
        "\n",
        "**NOTE**\n",
        "- This image has four bands (R, G, B, NIR). You can use the raw 4-band image, or you can also add any other bands (e.g., NDVI, Entropy) by yourself as we did in the tutorials."
      ],
      "metadata": {
        "id": "xlvWswNS4Aui"
      }
    },
    {
      "cell_type": "code",
      "source": [
        "import ee\n",
        "\n",
        "# Authenticate\n",
        "ee.Authenticate()\n",
        "\n",
        "# Initialize with your own project.\n",
        "ee.Initialize(project = \"utsa-spring2024\")\n",
        "\n",
        "import geemap"
      ],
      "metadata": {
        "id": "QBJt043Csmsu"
      },
      "execution_count": null,
      "outputs": []
    },
    {
      "cell_type": "code",
      "source": [
        "AOI = ee.Geometry.Rectangle(\n",
        "    [\n",
        "        [-80.314, 27.223],\n",
        "        [-80.303, 27.230]\n",
        "     ]\n",
        ")\n",
        "\n",
        "# This is the image you will classify (img)\n",
        "img = ee.Image('USDA/NAIP/DOQQ/m_2708054_ne_17_1_20160104').clip(AOI)"
      ],
      "metadata": {
        "colab": {
          "base_uri": "https://localhost:8080/",
          "height": 17
        },
        "id": "EIF3ccsQwp1v",
        "outputId": "5a9b721d-9527-4f92-b655-2d9add067045"
      },
      "execution_count": null,
      "outputs": [
        {
          "output_type": "display_data",
          "data": {
            "text/plain": [
              "<IPython.core.display.HTML object>"
            ],
            "text/html": [
              "\n",
              "            <style>\n",
              "                .geemap-dark {\n",
              "                    --jp-widgets-color: white;\n",
              "                    --jp-widgets-label-color: white;\n",
              "                    --jp-ui-font-color1: white;\n",
              "                    --jp-layout-color2: #454545;\n",
              "                    background-color: #383838;\n",
              "                }\n",
              "\n",
              "                .geemap-dark .jupyter-button {\n",
              "                    --jp-layout-color3: #383838;\n",
              "                }\n",
              "\n",
              "                .geemap-colab {\n",
              "                    background-color: var(--colab-primary-surface-color, white);\n",
              "                }\n",
              "\n",
              "                .geemap-colab .jupyter-button {\n",
              "                    --jp-layout-color3: var(--colab-primary-surface-color, white);\n",
              "                }\n",
              "            </style>\n",
              "            "
            ]
          },
          "metadata": {}
        }
      ]
    },
    {
      "cell_type": "code",
      "source": [
        "img.getInfo()"
      ],
      "metadata": {
        "colab": {
          "base_uri": "https://localhost:8080/",
          "height": 867
        },
        "id": "3KVV6LU4yd_C",
        "outputId": "733d2fd3-6931-4ace-ba6a-e17e34b7c1d4"
      },
      "execution_count": null,
      "outputs": [
        {
          "output_type": "display_data",
          "data": {
            "text/plain": [
              "<IPython.core.display.HTML object>"
            ],
            "text/html": [
              "\n",
              "            <style>\n",
              "                .geemap-dark {\n",
              "                    --jp-widgets-color: white;\n",
              "                    --jp-widgets-label-color: white;\n",
              "                    --jp-ui-font-color1: white;\n",
              "                    --jp-layout-color2: #454545;\n",
              "                    background-color: #383838;\n",
              "                }\n",
              "\n",
              "                .geemap-dark .jupyter-button {\n",
              "                    --jp-layout-color3: #383838;\n",
              "                }\n",
              "\n",
              "                .geemap-colab {\n",
              "                    background-color: var(--colab-primary-surface-color, white);\n",
              "                }\n",
              "\n",
              "                .geemap-colab .jupyter-button {\n",
              "                    --jp-layout-color3: var(--colab-primary-surface-color, white);\n",
              "                }\n",
              "            </style>\n",
              "            "
            ]
          },
          "metadata": {}
        },
        {
          "output_type": "execute_result",
          "data": {
            "text/plain": [
              "{'type': 'Image',\n",
              " 'bands': [{'id': 'R',\n",
              "   'data_type': {'type': 'PixelType',\n",
              "    'precision': 'int',\n",
              "    'min': 0,\n",
              "    'max': 255},\n",
              "   'dimensions': [1095, 783],\n",
              "   'origin': [164, 2546],\n",
              "   'crs': 'EPSG:26917',\n",
              "   'crs_transform': [1, 0, 567759, 0, -1, 3014649]},\n",
              "  {'id': 'G',\n",
              "   'data_type': {'type': 'PixelType',\n",
              "    'precision': 'int',\n",
              "    'min': 0,\n",
              "    'max': 255},\n",
              "   'dimensions': [1095, 783],\n",
              "   'origin': [164, 2546],\n",
              "   'crs': 'EPSG:26917',\n",
              "   'crs_transform': [1, 0, 567759, 0, -1, 3014649]},\n",
              "  {'id': 'B',\n",
              "   'data_type': {'type': 'PixelType',\n",
              "    'precision': 'int',\n",
              "    'min': 0,\n",
              "    'max': 255},\n",
              "   'dimensions': [1095, 783],\n",
              "   'origin': [164, 2546],\n",
              "   'crs': 'EPSG:26917',\n",
              "   'crs_transform': [1, 0, 567759, 0, -1, 3014649]},\n",
              "  {'id': 'N',\n",
              "   'data_type': {'type': 'PixelType',\n",
              "    'precision': 'int',\n",
              "    'min': 0,\n",
              "    'max': 255},\n",
              "   'dimensions': [1095, 783],\n",
              "   'origin': [164, 2546],\n",
              "   'crs': 'EPSG:26917',\n",
              "   'crs_transform': [1, 0, 567759, 0, -1, 3014649]}],\n",
              " 'version': 1493666800679000.0,\n",
              " 'id': 'USDA/NAIP/DOQQ/m_2708054_ne_17_1_20160104',\n",
              " 'properties': {'system:footprint': {'type': 'Polygon',\n",
              "   'coordinates': [[[-80.314, 27.223],\n",
              "     [-80.303, 27.223],\n",
              "     [-80.303, 27.230000000000004],\n",
              "     [-80.314, 27.230000000000004],\n",
              "     [-80.314, 27.223]]]},\n",
              "  'system:time_start': 1451865600000,\n",
              "  'system:time_end': 1451952000000,\n",
              "  'system:asset_size': 202542515,\n",
              "  'system:index': 'm_2708054_ne_17_1_20160104'}}"
            ]
          },
          "metadata": {},
          "execution_count": 28
        }
      ]
    }
  ]
}
