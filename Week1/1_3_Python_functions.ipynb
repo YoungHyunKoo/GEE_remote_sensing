{
  "nbformat": 4,
  "nbformat_minor": 0,
  "metadata": {
    "colab": {
      "provenance": [],
      "toc_visible": true,
      "authorship_tag": "ABX9TyMIqiYVsCwu0X15m5zX4052",
      "include_colab_link": true
    },
    "kernelspec": {
      "name": "python3",
      "display_name": "Python 3"
    },
    "language_info": {
      "name": "python"
    }
  },
  "cells": [
    {
      "cell_type": "markdown",
      "metadata": {
        "id": "view-in-github",
        "colab_type": "text"
      },
      "source": [
        "<a href=\"https://colab.research.google.com/github/YoungHyunKoo/GEE_remote_sensing/blob/main/Week1/1_3_Python_functions.ipynb\" target=\"_parent\"><img src=\"https://colab.research.google.com/assets/colab-badge.svg\" alt=\"Open In Colab\"/></a>"
      ]
    },
    {
      "cell_type": "markdown",
      "source": [
        "### **[GEO 6083] Remote Sensing Imge Processing - Spring 2024**\n",
        "# **WEEK 1-3. Python functions**\n",
        "\n",
        "### OBJECTIVES\n",
        "1. Understand the structure of Python functions\n",
        "2. Import and use necessary Python libraries\n",
        "3. Learn how to use numpy libraries and important functions\n",
        "\n",
        "Credited by Younghyun Koo (kooala317@gmail.com)"
      ],
      "metadata": {
        "id": "QiDKnF1bx4zv"
      }
    },
    {
      "cell_type": "markdown",
      "source": [
        "## **1. Functions**\n",
        "\n",
        "A function is a group of statements that exist within a program for the\n",
        "purpose of performing a specific task.\n",
        "\n",
        "### **Void function vs. Value-returning function**\n",
        "- When you call a **void function**, it simply executes the statements it contains and then terminates. It does not return any results.\n",
        "- When you call a **value-returning function**, it executes the statements that it contains, then returns a value back to the statement that called it.\n",
        "\n",
        "<img src=\"https://media.geeksforgeeks.org/wp-content/uploads/20220721172423/51.png\" width=\"600\">"
      ],
      "metadata": {
        "id": "p5P3rDX_wGAc"
      }
    },
    {
      "cell_type": "code",
      "source": [
        "# First, we define a function named message.\n",
        "def message():\n",
        "  print('I am Arthur,')\n",
        "  print('King of the Britons.')\n",
        "\n",
        "# Call the message function.\n",
        "message()"
      ],
      "metadata": {
        "id": "Qv7Wo4tVJdj4",
        "colab": {
          "base_uri": "https://localhost:8080/"
        },
        "outputId": "19ea07d2-e1b9-4118-f42e-47062377f4fa"
      },
      "execution_count": null,
      "outputs": [
        {
          "output_type": "stream",
          "name": "stdout",
          "text": [
            "I am Arthur,\n",
            "King of the Britons.\n"
          ]
        }
      ]
    },
    {
      "cell_type": "markdown",
      "source": [
        "Information can be passed into functions as `arguments`. Arguments are specified after the function name, inside the parentheses. You can add as many arguments as you want, just separate them with a comma."
      ],
      "metadata": {
        "id": "a6zTinwVBBAG"
      }
    },
    {
      "cell_type": "code",
      "source": [
        "# Function to say hello (no output)\n",
        "def hello(name):\n",
        "  # argument: name\n",
        "  print(\"Howdy! Ny name is \" + name)"
      ],
      "metadata": {
        "id": "hSZLaksYhCeQ"
      },
      "execution_count": null,
      "outputs": []
    },
    {
      "cell_type": "code",
      "source": [
        "hello(\"Tomas\")"
      ],
      "metadata": {
        "id": "8WF0jCIqhYm_",
        "colab": {
          "base_uri": "https://localhost:8080/"
        },
        "outputId": "4c23e494-9027-48f9-fa88-63b1d5164d55"
      },
      "execution_count": null,
      "outputs": [
        {
          "output_type": "stream",
          "name": "stdout",
          "text": [
            "Howdy! Ny name is Tomas\n"
          ]
        }
      ]
    },
    {
      "cell_type": "code",
      "source": [
        "hello(\"Young\")"
      ],
      "metadata": {
        "colab": {
          "base_uri": "https://localhost:8080/"
        },
        "id": "BQDJkIAcK562",
        "outputId": "1191b567-ecda-45d6-c60c-d381b2a577d6"
      },
      "execution_count": null,
      "outputs": [
        {
          "output_type": "stream",
          "name": "stdout",
          "text": [
            "Howdy! Ny name is Young\n"
          ]
        }
      ]
    },
    {
      "cell_type": "code",
      "source": [],
      "metadata": {
        "id": "cHkvNWMvLAT9"
      },
      "execution_count": null,
      "outputs": []
    },
    {
      "cell_type": "code",
      "execution_count": null,
      "metadata": {
        "id": "U2zGg2sexsg0"
      },
      "outputs": [],
      "source": [
        "# Function to repeat string (return output)\n",
        "def repeat(s, times):\n",
        "  # Argument\n",
        "  # s: string, times: how many times you will repeat\n",
        "  result = s * times\n",
        "  return result"
      ]
    },
    {
      "cell_type": "code",
      "source": [
        "a = repeat(\"Wow \", 4)"
      ],
      "metadata": {
        "id": "b08jSIMUhkyk"
      },
      "execution_count": null,
      "outputs": []
    },
    {
      "cell_type": "code",
      "source": [
        "a"
      ],
      "metadata": {
        "colab": {
          "base_uri": "https://localhost:8080/",
          "height": 36
        },
        "id": "RVG7R4zMLUK6",
        "outputId": "b8d3de76-551f-4134-97f1-4ea72147b84b"
      },
      "execution_count": null,
      "outputs": [
        {
          "output_type": "execute_result",
          "data": {
            "text/plain": [
              "'Wow Wow Wow Wow '"
            ],
            "application/vnd.google.colaboratory.intrinsic+json": {
              "type": "string"
            }
          },
          "metadata": {},
          "execution_count": 19
        }
      ]
    },
    {
      "cell_type": "code",
      "source": [
        "# Function to return square of a number.\n",
        "def square(num):\n",
        "  result = num ** 2\n",
        "  return result"
      ],
      "metadata": {
        "id": "IX4nEeST5717"
      },
      "execution_count": null,
      "outputs": []
    },
    {
      "cell_type": "code",
      "source": [
        "a = square(12)\n",
        "a"
      ],
      "metadata": {
        "id": "iFWGGzCA6Bf3",
        "colab": {
          "base_uri": "https://localhost:8080/"
        },
        "outputId": "df668199-039b-4663-cf50-25e962c48205"
      },
      "execution_count": null,
      "outputs": [
        {
          "output_type": "execute_result",
          "data": {
            "text/plain": [
              "144"
            ]
          },
          "metadata": {},
          "execution_count": 21
        }
      ]
    },
    {
      "cell_type": "code",
      "source": [
        "square(236)"
      ],
      "metadata": {
        "colab": {
          "base_uri": "https://localhost:8080/"
        },
        "id": "jHwwkV-ILgEh",
        "outputId": "980be452-dd2f-4dce-ba2f-e191835caa06"
      },
      "execution_count": null,
      "outputs": [
        {
          "output_type": "execute_result",
          "data": {
            "text/plain": [
              "55696"
            ]
          },
          "metadata": {},
          "execution_count": 22
        }
      ]
    },
    {
      "cell_type": "code",
      "source": [
        "# Passing multiple inputs\n",
        "def cal_sum(num1, num2):\n",
        "  result = num1 + num2\n",
        "  return result"
      ],
      "metadata": {
        "id": "66-cHBV56_TL"
      },
      "execution_count": null,
      "outputs": []
    },
    {
      "cell_type": "code",
      "source": [
        "cal_sum(19, 36)"
      ],
      "metadata": {
        "id": "AAKucdKy7Il4",
        "colab": {
          "base_uri": "https://localhost:8080/"
        },
        "outputId": "2be563ec-98c0-49f4-ae61-15ed24c5340e"
      },
      "execution_count": null,
      "outputs": [
        {
          "output_type": "execute_result",
          "data": {
            "text/plain": [
              "55"
            ]
          },
          "metadata": {},
          "execution_count": 24
        }
      ]
    },
    {
      "cell_type": "code",
      "source": [
        "cal_sum(850, 946)"
      ],
      "metadata": {
        "colab": {
          "base_uri": "https://localhost:8080/"
        },
        "id": "8MRIrgc6Lu5H",
        "outputId": "71e4e8e5-9e3f-4b22-d1ca-fc05e9c0b5c6"
      },
      "execution_count": null,
      "outputs": [
        {
          "output_type": "execute_result",
          "data": {
            "text/plain": [
              "1796"
            ]
          },
          "metadata": {},
          "execution_count": 25
        }
      ]
    },
    {
      "cell_type": "code",
      "source": [
        "# Passing multiple inputs and return multiple outputs\n",
        "def cal_sum_and_mul(num1, num2):\n",
        "  result1 = num1 + num2\n",
        "  result2 = num1 * num2\n",
        "  return result1, result2"
      ],
      "metadata": {
        "id": "nEg6kFfc7LKW"
      },
      "execution_count": null,
      "outputs": []
    },
    {
      "cell_type": "code",
      "source": [
        "a, b = cal_sum_and_mul(6, 8)\n",
        "print(a, b)"
      ],
      "metadata": {
        "id": "Xjq-srn37F6b",
        "colab": {
          "base_uri": "https://localhost:8080/"
        },
        "outputId": "a0ea5875-347e-43cd-efab-f2c305cae508"
      },
      "execution_count": null,
      "outputs": [
        {
          "output_type": "stream",
          "name": "stdout",
          "text": [
            "14 48\n"
          ]
        }
      ]
    },
    {
      "cell_type": "markdown",
      "source": [
        "Now, let's design a function to calculate Normalized Difference Vegetation Index (NDVI). NDVI measures the greenness and the density of the vegetation in a satellite imagery. Healthy vegetation has a high reflectance at near infrared (NIR) and a low reflectance at red wavelength. Therefore, NDVI can be calculated by normalized difference between NIR and red bands.\n",
        "\n",
        "<img src=\"https://ece.montana.edu/seniordesign/archive/SP15/OpticalWeedMapping/uploads/4/9/2/7/49273335/1429843234.png\" width=\"400\">\n",
        "\n"
      ],
      "metadata": {
        "id": "FTdZ5aSGhFmI"
      }
    },
    {
      "cell_type": "code",
      "source": [
        "# Function to calculate NDVI\n",
        "def NDVI(NIR, red):\n",
        "  return (NIR-red)/(NIR+red)"
      ],
      "metadata": {
        "id": "InuxpVInhpNV"
      },
      "execution_count": null,
      "outputs": []
    },
    {
      "cell_type": "code",
      "source": [
        "NDVI(0.6, 0.4)"
      ],
      "metadata": {
        "id": "eNVqz-S2xosE",
        "colab": {
          "base_uri": "https://localhost:8080/"
        },
        "outputId": "1308a6dc-7cf0-439f-d313-10295fb93708"
      },
      "execution_count": null,
      "outputs": [
        {
          "output_type": "execute_result",
          "data": {
            "text/plain": [
              "0.19999999999999996"
            ]
          },
          "metadata": {},
          "execution_count": 30
        }
      ]
    },
    {
      "cell_type": "markdown",
      "source": [
        "**Question.** Why the NDVI value is not exactly 0.2?"
      ],
      "metadata": {
        "id": "vGhTrfmn5cXl"
      }
    },
    {
      "cell_type": "markdown",
      "source": [
        "### **Benefits of Modularizing a Program with Functions**\n",
        "\n",
        "- **Simpler Code**: A program’s code tends to be simpler and easier to understand when it is broken down into functions. Several small functions are much easier to read than one long sequence of statements.\n",
        "- **Code Reuse**: Functions also reduce the duplication of code within a program. If a specific operation is performed in several places in a program, a function can be written once to perform that operation, then be executed any time it is needed.\n",
        "- **Better Testing & debugging**: When each task within a program is contained in its own function, testing and debugging becomes simpler. Programmers can test each function in a program individually, to determine whether it correctly performs its operation. This makes it easier to isolate and fix errors.\n",
        "- **Faster Development**: Functions can be written for the commonly needed tasks, and those functions can be incorporated into each program that needs them.\n",
        "- **Easier Facilitation of Teamwork**: Functions make it easier for programmers to work in teams. When a program is developed as a set of functions that each performs an individual task, then different programmers can be assigned the job of writing different functions."
      ],
      "metadata": {
        "id": "5TLIwbuL6Ht6"
      }
    },
    {
      "cell_type": "markdown",
      "source": [
        "## **2. Use libraries in Python**\n",
        "\n",
        "Python, as well as most programming languages, comes with a standard library of functions that have already been written for you. These functions, known as library functions, make a programmer’s job easier because they perform many of the tasks that programmers commonly need to perform. In fact, you have already used several of Python’s library functions: for example, `len`, `print`,  `range`, etc.\n",
        "These library functions are built into the Python interpreter. If you want to use one of these built-in functions in a program, you simply call the function.\n",
        "\n",
        "However, many of the functions in the standard library are stored in files that are known as `modules`. These `modules` are copied to your computer when you install Python and help organize the standard library functions. In order to call a function that is stored in a `module`, you have to write an `import` statement at the top of your program. An `import` statement tells the interpreter the name of the module that contains the function."
      ],
      "metadata": {
        "id": "FHzM-yoWxu3M"
      }
    },
    {
      "cell_type": "markdown",
      "source": [
        "### `math` library\n",
        "\n",
        "One of the Python standard modules is named `math`. The `math` module contains various mathematical functions that work with floatingpoint\n",
        "numbers. If you want to use any of the `math` module’s functions in a program, you should write the following import statement at the top of the program:\n",
        "\n",
        "`import math`"
      ],
      "metadata": {
        "id": "hh6VsIwWofxp"
      }
    },
    {
      "cell_type": "code",
      "source": [
        "import math"
      ],
      "metadata": {
        "id": "jUn5GLht9VZf"
      },
      "execution_count": null,
      "outputs": []
    },
    {
      "cell_type": "code",
      "source": [
        "# Get the square root of the number.\n",
        "sqr = math.sqrt(16)\n",
        "print(sqr)"
      ],
      "metadata": {
        "id": "jaRmeSq89WkO",
        "colab": {
          "base_uri": "https://localhost:8080/"
        },
        "outputId": "de8964ee-8480-4b54-b414-ddf4ceaa652e"
      },
      "execution_count": null,
      "outputs": [
        {
          "output_type": "stream",
          "name": "stdout",
          "text": [
            "4.0\n"
          ]
        }
      ]
    },
    {
      "cell_type": "code",
      "source": [
        "# Get the cosine (note: input is radian).\n",
        "c = math.cos(1)\n",
        "print(c)"
      ],
      "metadata": {
        "id": "36DkI37I9dVe",
        "colab": {
          "base_uri": "https://localhost:8080/"
        },
        "outputId": "4ddfb47c-4e0d-434a-e543-56c5b60f3b49"
      },
      "execution_count": null,
      "outputs": [
        {
          "output_type": "stream",
          "name": "stdout",
          "text": [
            "0.5403023058681398\n"
          ]
        }
      ]
    },
    {
      "cell_type": "code",
      "source": [
        "# Get the cosine of pi.\n",
        "c = math.cos(math.pi)\n",
        "print(c)"
      ],
      "metadata": {
        "id": "Xlusowib90Tn",
        "colab": {
          "base_uri": "https://localhost:8080/"
        },
        "outputId": "6168dc5a-a054-4db9-e16b-43ba0ff90a86"
      },
      "execution_count": null,
      "outputs": [
        {
          "output_type": "stream",
          "name": "stdout",
          "text": [
            "-1.0\n"
          ]
        }
      ]
    },
    {
      "cell_type": "code",
      "source": [
        "# Get the log.\n",
        "c = math.log(6)\n",
        "print(c)"
      ],
      "metadata": {
        "id": "Dk99Bpmo-E54",
        "colab": {
          "base_uri": "https://localhost:8080/"
        },
        "outputId": "0959b9ef-cc24-40f3-bb34-aa697cbafe23"
      },
      "execution_count": null,
      "outputs": [
        {
          "output_type": "stream",
          "name": "stdout",
          "text": [
            "1.791759469228055\n"
          ]
        }
      ]
    },
    {
      "cell_type": "code",
      "source": [
        "# Get the log of e.\n",
        "c = math.log(math.e)\n",
        "print(c)"
      ],
      "metadata": {
        "id": "6jrzXpCx-HIW",
        "colab": {
          "base_uri": "https://localhost:8080/"
        },
        "outputId": "981c3129-89aa-46b9-c083-ce80f33e03df"
      },
      "execution_count": null,
      "outputs": [
        {
          "output_type": "stream",
          "name": "stdout",
          "text": [
            "1.0\n"
          ]
        }
      ]
    },
    {
      "cell_type": "markdown",
      "source": [
        "### `numpy` library\n",
        "\n",
        "Another very popular module is `numpy`. This `numpy` module is useful in working with arrays. It also has functions for working in domain of linear algebra, fourier transform, and matrices."
      ],
      "metadata": {
        "id": "Rwm3NWWF980I"
      }
    },
    {
      "cell_type": "code",
      "source": [
        "# Import numpy module as a name \"np\"\n",
        "import numpy as np"
      ],
      "metadata": {
        "id": "u2ig7cMdxxPz"
      },
      "execution_count": null,
      "outputs": []
    },
    {
      "cell_type": "code",
      "source": [
        "# Define arrays\n",
        "a = np.array([2, 3, 4])\n",
        "b = np.array([4, 5, 6])"
      ],
      "metadata": {
        "id": "zhUMHoubxrl0"
      },
      "execution_count": null,
      "outputs": []
    },
    {
      "cell_type": "code",
      "source": [
        "a"
      ],
      "metadata": {
        "id": "LWfBqpjvXxPT",
        "colab": {
          "base_uri": "https://localhost:8080/"
        },
        "outputId": "73738070-afc4-43da-9dc3-20ed8e5524ac"
      },
      "execution_count": null,
      "outputs": [
        {
          "output_type": "execute_result",
          "data": {
            "text/plain": [
              "array([2, 3, 4])"
            ]
          },
          "metadata": {},
          "execution_count": 39
        }
      ]
    },
    {
      "cell_type": "code",
      "source": [
        "# arange function\n",
        "np.arange(10, 30, 0.5)"
      ],
      "metadata": {
        "id": "DLyFejlpy-EN",
        "colab": {
          "base_uri": "https://localhost:8080/"
        },
        "outputId": "5022cf65-c920-491e-b365-d77184f644c1"
      },
      "execution_count": null,
      "outputs": [
        {
          "output_type": "execute_result",
          "data": {
            "text/plain": [
              "array([10. , 10.5, 11. , 11.5, 12. , 12.5, 13. , 13.5, 14. , 14.5, 15. ,\n",
              "       15.5, 16. , 16.5, 17. , 17.5, 18. , 18.5, 19. , 19.5, 20. , 20.5,\n",
              "       21. , 21.5, 22. , 22.5, 23. , 23.5, 24. , 24.5, 25. , 25.5, 26. ,\n",
              "       26.5, 27. , 27.5, 28. , 28.5, 29. , 29.5])"
            ]
          },
          "metadata": {},
          "execution_count": 40
        }
      ]
    },
    {
      "cell_type": "code",
      "source": [
        "theta = np.arange(0, 1, 0.1) * np.pi\n",
        "print(theta)"
      ],
      "metadata": {
        "id": "SJXRI0cEyByk",
        "colab": {
          "base_uri": "https://localhost:8080/"
        },
        "outputId": "4d738a29-e5db-496e-fb7f-acb7bd58fadb"
      },
      "execution_count": null,
      "outputs": [
        {
          "output_type": "stream",
          "name": "stdout",
          "text": [
            "[0.         0.31415927 0.62831853 0.9424778  1.25663706 1.57079633\n",
            " 1.88495559 2.19911486 2.51327412 2.82743339]\n"
          ]
        }
      ]
    },
    {
      "cell_type": "code",
      "source": [
        "print(np.cos(theta)) # cos function\n",
        "print(np.sin(theta)) # sin function\n",
        "print(np.tan(theta)) # tan function"
      ],
      "metadata": {
        "id": "4894s1y1zkFW",
        "colab": {
          "base_uri": "https://localhost:8080/"
        },
        "outputId": "defb506f-6b75-451e-c714-ccc82884450e"
      },
      "execution_count": null,
      "outputs": [
        {
          "output_type": "stream",
          "name": "stdout",
          "text": [
            "[ 1.00000000e+00  9.51056516e-01  8.09016994e-01  5.87785252e-01\n",
            "  3.09016994e-01  6.12323400e-17 -3.09016994e-01 -5.87785252e-01\n",
            " -8.09016994e-01 -9.51056516e-01]\n",
            "[0.         0.30901699 0.58778525 0.80901699 0.95105652 1.\n",
            " 0.95105652 0.80901699 0.58778525 0.30901699]\n",
            "[ 0.00000000e+00  3.24919696e-01  7.26542528e-01  1.37638192e+00\n",
            "  3.07768354e+00  1.63312394e+16 -3.07768354e+00 -1.37638192e+00\n",
            " -7.26542528e-01 -3.24919696e-01]\n"
          ]
        }
      ]
    },
    {
      "cell_type": "code",
      "source": [
        "# Multi-dimension array\n",
        "b = np.arange(12).reshape(3, 4)\n",
        "b"
      ],
      "metadata": {
        "id": "OyAod0hRz22F",
        "colab": {
          "base_uri": "https://localhost:8080/"
        },
        "outputId": "e2aeab15-bd0a-4cb6-c08f-6111f39402d4"
      },
      "execution_count": null,
      "outputs": [
        {
          "output_type": "execute_result",
          "data": {
            "text/plain": [
              "array([[ 0,  1,  2,  3],\n",
              "       [ 4,  5,  6,  7],\n",
              "       [ 8,  9, 10, 11]])"
            ]
          },
          "metadata": {},
          "execution_count": 43
        }
      ]
    },
    {
      "cell_type": "code",
      "source": [
        "np.sum(b) # calculate sum"
      ],
      "metadata": {
        "id": "NXLTHjTwz6CV",
        "colab": {
          "base_uri": "https://localhost:8080/"
        },
        "outputId": "a0f40a86-31ff-4594-ab4e-6a830437282b"
      },
      "execution_count": null,
      "outputs": [
        {
          "output_type": "execute_result",
          "data": {
            "text/plain": [
              "66"
            ]
          },
          "metadata": {},
          "execution_count": 44
        }
      ]
    },
    {
      "cell_type": "code",
      "source": [
        "np.sum(b, axis = 0) # calculate sum by axis (sum by row)"
      ],
      "metadata": {
        "id": "akedGQtJz8u0",
        "colab": {
          "base_uri": "https://localhost:8080/"
        },
        "outputId": "e784bd17-6e82-4a76-bc90-8ad315db68f7"
      },
      "execution_count": null,
      "outputs": [
        {
          "output_type": "execute_result",
          "data": {
            "text/plain": [
              "array([12, 15, 18, 21])"
            ]
          },
          "metadata": {},
          "execution_count": 46
        }
      ]
    },
    {
      "cell_type": "code",
      "source": [
        "np.mean(b) # calculte mean"
      ],
      "metadata": {
        "id": "p1hDXx52z_bd",
        "colab": {
          "base_uri": "https://localhost:8080/"
        },
        "outputId": "a9af04e2-3325-4a3a-b638-2c4013220a70"
      },
      "execution_count": null,
      "outputs": [
        {
          "output_type": "execute_result",
          "data": {
            "text/plain": [
              "5.5"
            ]
          },
          "metadata": {},
          "execution_count": 47
        }
      ]
    },
    {
      "cell_type": "code",
      "source": [
        "np.mean(b, axis = 1)"
      ],
      "metadata": {
        "id": "HBmdCAKW0A5N",
        "colab": {
          "base_uri": "https://localhost:8080/"
        },
        "outputId": "3fb8a28c-22e7-4dc1-f180-af117c232342"
      },
      "execution_count": null,
      "outputs": [
        {
          "output_type": "execute_result",
          "data": {
            "text/plain": [
              "array([1.5, 5.5, 9.5])"
            ]
          },
          "metadata": {},
          "execution_count": 48
        }
      ]
    },
    {
      "cell_type": "code",
      "source": [
        "np.std(b, axis = 0) # calculate standard deviation"
      ],
      "metadata": {
        "id": "aRQBPb100CaE",
        "colab": {
          "base_uri": "https://localhost:8080/"
        },
        "outputId": "d746cdf5-1253-4a1a-a922-03cdc0c8f62d"
      },
      "execution_count": null,
      "outputs": [
        {
          "output_type": "execute_result",
          "data": {
            "text/plain": [
              "array([3.26598632, 3.26598632, 3.26598632, 3.26598632])"
            ]
          },
          "metadata": {},
          "execution_count": 49
        }
      ]
    },
    {
      "cell_type": "code",
      "source": [
        "np.min(b, axis = 0) # calculate minimum"
      ],
      "metadata": {
        "id": "eQ7hbhSS0H4-",
        "colab": {
          "base_uri": "https://localhost:8080/"
        },
        "outputId": "c118edcf-e9f4-41ef-bff7-2e26c3af6a5e"
      },
      "execution_count": null,
      "outputs": [
        {
          "output_type": "execute_result",
          "data": {
            "text/plain": [
              "array([0, 1, 2, 3])"
            ]
          },
          "metadata": {},
          "execution_count": 50
        }
      ]
    },
    {
      "cell_type": "code",
      "source": [
        "np.max(b, axis = 0) # calculate maximum"
      ],
      "metadata": {
        "id": "T-D64lm80IuV",
        "colab": {
          "base_uri": "https://localhost:8080/"
        },
        "outputId": "e0f9515a-f0a3-4c13-9ce5-e70b9e967a2c"
      },
      "execution_count": null,
      "outputs": [
        {
          "output_type": "execute_result",
          "data": {
            "text/plain": [
              "array([ 8,  9, 10, 11])"
            ]
          },
          "metadata": {},
          "execution_count": 51
        }
      ]
    },
    {
      "cell_type": "markdown",
      "source": [
        "### `matplotlib` library\n",
        "\n",
        "Finally, the `matplotlib` package is another useful library for creating two-dimensional charts and graphs. The `matplotlib` library contains a module named `pyplot` that you will need to import in order to create graphs."
      ],
      "metadata": {
        "id": "h9CsdMSOlBq8"
      }
    },
    {
      "cell_type": "code",
      "source": [
        "# Import matplotlib\n",
        "import matplotlib.pyplot as plt"
      ],
      "metadata": {
        "id": "Ah3bm3GulW7w"
      },
      "execution_count": null,
      "outputs": []
    },
    {
      "cell_type": "code",
      "source": [
        "# Line graph\n",
        "# Create lists with the X and Y coordinates of each data point.\n",
        "x_coords = [0, 1, 2, 3, 4]\n",
        "y_coords = [0, 3, 1, 5, 2]\n",
        "\n",
        "# Build the line graph.\n",
        "plt.plot(x_coords, y_coords)\n",
        "\n",
        "# Add a title.\n",
        "plt.title('Sample Data')\n",
        "\n",
        "plt.show()"
      ],
      "metadata": {
        "id": "DsUynhF2la_U",
        "colab": {
          "base_uri": "https://localhost:8080/",
          "height": 452
        },
        "outputId": "c382471b-293f-4353-f14d-49cd4026ebbb"
      },
      "execution_count": null,
      "outputs": [
        {
          "output_type": "display_data",
          "data": {
            "text/plain": [
              "<Figure size 640x480 with 1 Axes>"
            ],
            "image/png": "[encoded data removed]"
          },
          "metadata": {}
        }
      ]
    },
    {
      "cell_type": "code",
      "source": [
        "# Bar chart\n",
        "# Create a list with the X coordinates of each bar's left edge.\n",
        "left_edges = [0, 10, 20, 30, 40]\n",
        "\n",
        "# Create a list with the heights of each bar.\n",
        "heights = [100, 200, 300, 400, 500]\n",
        "\n",
        "# Build the bar chart.\n",
        "plt.bar(left_edges, heights)\n",
        "\n",
        "# Title of the plot\n",
        "plt.title('Bar chart')\n",
        "\n",
        "# X label\n",
        "plt.xlabel(\"Categories\")\n",
        "\n",
        "# Y label\n",
        "plt.ylabel(\"Values\")\n",
        "\n",
        "plt.show()"
      ],
      "metadata": {
        "id": "H_jFPDDBlqbt",
        "colab": {
          "base_uri": "https://localhost:8080/",
          "height": 472
        },
        "outputId": "789705ec-27d1-41a9-d372-b8a0399c4f3e"
      },
      "execution_count": null,
      "outputs": [
        {
          "output_type": "display_data",
          "data": {
            "text/plain": [
              "<Figure size 640x480 with 1 Axes>"
            ],
            "image/png": "[encoded data removed]"
          },
          "metadata": {}
        }
      ]
    },
    {
      "cell_type": "code",
      "source": [
        "# Draw image\n",
        "\n",
        "# Multi-dimension array\n",
        "b = np.arange(100).reshape(10, 10)\n",
        "\n",
        "# show image\n",
        "plt.imshow(b)\n",
        "\n",
        "# add a color bar\n",
        "plt.colorbar()\n",
        "\n",
        "plt.show()"
      ],
      "metadata": {
        "id": "W2irbWSqlwAN",
        "colab": {
          "base_uri": "https://localhost:8080/",
          "height": 430
        },
        "outputId": "417cf584-d896-4a97-9374-fbc568fab908"
      },
      "execution_count": null,
      "outputs": [
        {
          "output_type": "display_data",
          "data": {
            "text/plain": [
              "<Figure size 640x480 with 2 Axes>"
            ],
            "image/png": "[encoded data removed]"
          },
          "metadata": {}
        }
      ]
    },
    {
      "cell_type": "markdown",
      "source": [
        "## **References**\n",
        "- Tony Gaddis. 2017. Starting Out with Python (4th Edition). Pearson.\n",
        "- https://www.w3schools.com/python/python_functions.asp\n",
        "- https://www.geeksforgeeks.org/python-functions/\n"
      ],
      "metadata": {
        "id": "c8EqeoqNm0rB"
      }
    }
  ]
}
