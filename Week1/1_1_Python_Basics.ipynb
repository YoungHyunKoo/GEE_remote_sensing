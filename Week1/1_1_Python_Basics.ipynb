{
  "nbformat": 4,
  "nbformat_minor": 0,
  "metadata": {
    "colab": {
      "provenance": [],
      "toc_visible": true,
      "authorship_tag": "ABX9TyOY+ujmoG+lb7W14wDPmqCO",
      "include_colab_link": true
    },
    "kernelspec": {
      "name": "python3",
      "display_name": "Python 3"
    },
    "language_info": {
      "name": "python"
    }
  },
  "cells": [
    {
      "cell_type": "markdown",
      "metadata": {
        "id": "view-in-github",
        "colab_type": "text"
      },
      "source": [
        "<a href=\"https://colab.research.google.com/github/YoungHyunKoo/GEE_remote_sensing/blob/main/Week1/1_1_Python_Basics.ipynb\" target=\"_parent\"><img src=\"https://colab.research.google.com/assets/colab-badge.svg\" alt=\"Open In Colab\"/></a>"
      ]
    },
    {
      "cell_type": "markdown",
      "source": [
        "### **[GEO 6083] Remote Sensing Imge Processing - Spring 2024**\n",
        "# **WEEK 1-1. Python basics**\n",
        "\n",
        "### OBJECTIVES\n",
        "1. Understand numeric and string data types of Python\n",
        "2. Understand `list` object of Python\n",
        "3. Understand `dictionary` object of Python\n",
        "\n",
        "Credited by Younghyun Koo (kooala317@gmail.com) *italicized text*"
      ],
      "metadata": {
        "id": "JwKQpqpwDBhY"
      }
    },
    {
      "cell_type": "markdown",
      "source": [
        "## **1. Data types**\n",
        "\n",
        "There are several data types you can use in Python (similar to any other computer programming languages). Data types specify the type of data that can be stored inside a variable. Since everything is an object in Python programming, data types are classes and variables are instances (objects) of these classes.\n",
        "\n",
        "<img src=\"https://www.jcchouinard.com/wp-content/uploads/2023/07/Python-Data-Types.png\" width=\"500\">"
      ],
      "metadata": {
        "id": "1hr0mmMrYYDf"
      }
    },
    {
      "cell_type": "markdown",
      "source": [
        "## **2. Numberic data types**\n",
        "\n",
        "There are three numeric data types: integer, float, and complex number. These values are defined as Python `int`, Python `float`, and Python `complex` classes.\n",
        "\n",
        "- **Integers** - This value is represented by `int` class. It contains positive or negative whole numbers (without fractions or decimals).\n",
        "- **Float** – This value is represented by the `float` class. It is a real number with a floating-point representation. It is specified by a decimal point.\n",
        "- **Complex Numbers** – A complex number is represented by a `complex` class. It is specified as (real part) + (imaginary part)j. (e.g., 2+3j)"
      ],
      "metadata": {
        "id": "2EeNTaHFuSOC"
      }
    },
    {
      "cell_type": "code",
      "source": [
        "# Define an integer variable a\n",
        "a = 6"
      ],
      "metadata": {
        "id": "LNugYrLrDDw4"
      },
      "execution_count": null,
      "outputs": []
    },
    {
      "cell_type": "code",
      "source": [
        "# Print the datatype of variable a; use type() function\n",
        "print(a, 'is of type', type(a))"
      ],
      "metadata": {
        "id": "kxIVJ4c8zdqV",
        "colab": {
          "base_uri": "https://localhost:8080/"
        },
        "outputId": "e9b319fe-f395-4f7c-faee-8d13b2547ddc"
      },
      "execution_count": null,
      "outputs": [
        {
          "output_type": "stream",
          "name": "stdout",
          "text": [
            "6 is of type <class 'int'>\n"
          ]
        }
      ]
    },
    {
      "cell_type": "code",
      "source": [
        "# Define a new integer variable b\n",
        "b = 10"
      ],
      "metadata": {
        "id": "0YMxO8erZHqY"
      },
      "execution_count": null,
      "outputs": []
    },
    {
      "cell_type": "code",
      "source": [
        "# Plus operator\n",
        "c = a + b"
      ],
      "metadata": {
        "id": "uHE8T39iZJI_"
      },
      "execution_count": null,
      "outputs": []
    },
    {
      "cell_type": "code",
      "source": [
        "print(c, 'is of type', type(c))"
      ],
      "metadata": {
        "id": "XtczieF20qtJ",
        "colab": {
          "base_uri": "https://localhost:8080/"
        },
        "outputId": "022ded56-67fe-4389-e7c9-5828c18a9e64"
      },
      "execution_count": null,
      "outputs": [
        {
          "output_type": "stream",
          "name": "stdout",
          "text": [
            "16 is of type <class 'int'>\n"
          ]
        }
      ]
    },
    {
      "cell_type": "code",
      "source": [
        "# Multiplication operator\n",
        "d = a * b"
      ],
      "metadata": {
        "id": "7TjlMM5nwvqZ"
      },
      "execution_count": null,
      "outputs": []
    },
    {
      "cell_type": "code",
      "source": [
        "print(d, 'is of type', type(d))"
      ],
      "metadata": {
        "id": "HrQ9tNoQ0v3a",
        "colab": {
          "base_uri": "https://localhost:8080/"
        },
        "outputId": "567c5079-6a3c-4a50-a598-1d6000d2f2c8"
      },
      "execution_count": null,
      "outputs": [
        {
          "output_type": "stream",
          "name": "stdout",
          "text": [
            "60 is of type <class 'int'>\n"
          ]
        }
      ]
    },
    {
      "cell_type": "code",
      "source": [
        "# Divide operator\n",
        "e = a / b"
      ],
      "metadata": {
        "id": "83JT0QVnwyW3"
      },
      "execution_count": null,
      "outputs": []
    },
    {
      "cell_type": "code",
      "source": [
        "print(e, 'is of type', type(e))"
      ],
      "metadata": {
        "id": "40F287Uh08u7",
        "colab": {
          "base_uri": "https://localhost:8080/"
        },
        "outputId": "1a7e5502-b13c-4692-c68d-e9af2ab6d4a7"
      },
      "execution_count": null,
      "outputs": [
        {
          "output_type": "stream",
          "name": "stdout",
          "text": [
            "0.6 is of type <class 'float'>\n"
          ]
        }
      ]
    },
    {
      "cell_type": "code",
      "source": [
        "# Define a float variable\n",
        "a = 9.5"
      ],
      "metadata": {
        "id": "nOvWquw0ZLDv"
      },
      "execution_count": null,
      "outputs": []
    },
    {
      "cell_type": "code",
      "source": [
        "print(a, 'is of type', type(a))"
      ],
      "metadata": {
        "id": "QOvNi_3L1Ikt",
        "colab": {
          "base_uri": "https://localhost:8080/"
        },
        "outputId": "c39defe6-4215-4090-8df2-cd43af13dd62"
      },
      "execution_count": null,
      "outputs": [
        {
          "output_type": "stream",
          "name": "stdout",
          "text": [
            "9.5 is of type <class 'float'>\n"
          ]
        }
      ]
    },
    {
      "cell_type": "code",
      "source": [
        "a + 4"
      ],
      "metadata": {
        "id": "08AiRkNoZVT-",
        "colab": {
          "base_uri": "https://localhost:8080/"
        },
        "outputId": "c27cc308-c4e0-4ff5-c918-be792207edc0"
      },
      "execution_count": null,
      "outputs": [
        {
          "output_type": "execute_result",
          "data": {
            "text/plain": [
              "13.5"
            ]
          },
          "metadata": {},
          "execution_count": 16
        }
      ]
    },
    {
      "cell_type": "code",
      "source": [
        "print(type(a + 4))"
      ],
      "metadata": {
        "id": "vAOkAOal1MQ1",
        "colab": {
          "base_uri": "https://localhost:8080/"
        },
        "outputId": "29380774-5b84-412c-a176-44c05724d013"
      },
      "execution_count": null,
      "outputs": [
        {
          "output_type": "stream",
          "name": "stdout",
          "text": [
            "<class 'float'>\n"
          ]
        }
      ]
    },
    {
      "cell_type": "code",
      "source": [
        "A = 4\n",
        "print(a)\n",
        "print(A)\n",
        "print(A+a)\n",
        "# Python is case-sensative (i.e., A is not equal to a)"
      ],
      "metadata": {
        "id": "uFovG8U5eGsM",
        "colab": {
          "base_uri": "https://localhost:8080/"
        },
        "outputId": "ce15fab6-fead-4fbd-a03a-112f67c02b35"
      },
      "execution_count": null,
      "outputs": [
        {
          "output_type": "stream",
          "name": "stdout",
          "text": [
            "9.5\n",
            "4\n",
            "13.5\n"
          ]
        }
      ]
    },
    {
      "cell_type": "markdown",
      "source": [
        "## **2. String data type**\n",
        "\n",
        "String is a sequence of characters represented by either single or double quotes. The string type in Python is called `str` class."
      ],
      "metadata": {
        "id": "9LMAPyUtZboR"
      }
    },
    {
      "cell_type": "code",
      "source": [
        "# Define a string with doble quotes.\n",
        "s1 = \"Hello\""
      ],
      "metadata": {
        "id": "w8iuvY4aZFT-"
      },
      "execution_count": null,
      "outputs": []
    },
    {
      "cell_type": "code",
      "source": [
        "s1"
      ],
      "metadata": {
        "id": "ArsSjkb3ZhJP",
        "colab": {
          "base_uri": "https://localhost:8080/",
          "height": 36
        },
        "outputId": "ba4293d0-e358-47a7-faa4-7ce8b2e21b2d"
      },
      "execution_count": null,
      "outputs": [
        {
          "output_type": "execute_result",
          "data": {
            "text/plain": [
              "'Hello'"
            ],
            "application/vnd.google.colaboratory.intrinsic+json": {
              "type": "string"
            }
          },
          "metadata": {},
          "execution_count": 20
        }
      ]
    },
    {
      "cell_type": "code",
      "source": [
        "# The number of characters\n",
        "len(s1)"
      ],
      "metadata": {
        "id": "GJZ5HRdUZhh_",
        "colab": {
          "base_uri": "https://localhost:8080/"
        },
        "outputId": "77dca3e8-ee47-488a-f557-92396ab16058"
      },
      "execution_count": null,
      "outputs": [
        {
          "output_type": "execute_result",
          "data": {
            "text/plain": [
              "5"
            ]
          },
          "metadata": {},
          "execution_count": 21
        }
      ]
    },
    {
      "cell_type": "code",
      "source": [
        "# Define antother string\n",
        "s2 = \"David\""
      ],
      "metadata": {
        "id": "kHxdG5o_ZkGP"
      },
      "execution_count": null,
      "outputs": []
    },
    {
      "cell_type": "code",
      "source": [
        "# The plus operator of numbers means addition.\n",
        "6 + 6"
      ],
      "metadata": {
        "id": "1J98WysRMxJ_",
        "colab": {
          "base_uri": "https://localhost:8080/"
        },
        "outputId": "b96bc693-1550-49cc-ade5-c226e62a9c58"
      },
      "execution_count": null,
      "outputs": [
        {
          "output_type": "execute_result",
          "data": {
            "text/plain": [
              "12"
            ]
          },
          "metadata": {},
          "execution_count": 23
        }
      ]
    },
    {
      "cell_type": "code",
      "source": [
        "# What does the plus operator mean for string data types?\n",
        "s1 + s2"
      ],
      "metadata": {
        "id": "zAuIBwE7ZpLP",
        "colab": {
          "base_uri": "https://localhost:8080/",
          "height": 36
        },
        "outputId": "ee1e881f-ee06-4de4-98c4-5ccd16dd6aa8"
      },
      "execution_count": null,
      "outputs": [
        {
          "output_type": "execute_result",
          "data": {
            "text/plain": [
              "'HelloDavid'"
            ],
            "application/vnd.google.colaboratory.intrinsic+json": {
              "type": "string"
            }
          },
          "metadata": {},
          "execution_count": 24
        }
      ]
    },
    {
      "cell_type": "code",
      "source": [
        "## This line will cause error; Why?\n",
        "s1 + 2"
      ],
      "metadata": {
        "id": "eHKVEn7fZrNa",
        "colab": {
          "base_uri": "https://localhost:8080/",
          "height": 158
        },
        "outputId": "b60e7a24-91d1-4b38-8598-35ae85ce3531"
      },
      "execution_count": null,
      "outputs": [
        {
          "output_type": "error",
          "ename": "TypeError",
          "evalue": "can only concatenate str (not \"int\") to str",
          "traceback": [
            "\u001b[0;31m---------------------------------------------------------------------------\u001b[0m",
            "\u001b[0;31mTypeError\u001b[0m                                 Traceback (most recent call last)",
            "\u001b[0;32m<ipython-input-25-b59b9a6956b6>\u001b[0m in \u001b[0;36m<cell line: 2>\u001b[0;34m()\u001b[0m\n\u001b[1;32m      1\u001b[0m \u001b[0;31m## This line will cause error; Why?\u001b[0m\u001b[0;34m\u001b[0m\u001b[0;34m\u001b[0m\u001b[0m\n\u001b[0;32m----> 2\u001b[0;31m \u001b[0ms1\u001b[0m \u001b[0;34m+\u001b[0m \u001b[0;36m2\u001b[0m\u001b[0;34m\u001b[0m\u001b[0;34m\u001b[0m\u001b[0m\n\u001b[0m",
            "\u001b[0;31mTypeError\u001b[0m: can only concatenate str (not \"int\") to str"
          ]
        }
      ]
    },
    {
      "cell_type": "code",
      "source": [
        "# Then, is there any way we can convert numerical to string or vice versa?\n",
        "# Add \"str\" function to convert number to string\n",
        "s1 + str(2)"
      ],
      "metadata": {
        "id": "FqmwoditZwXv",
        "colab": {
          "base_uri": "https://localhost:8080/",
          "height": 36
        },
        "outputId": "eab3992e-0b67-470b-c8f0-535f63507e02"
      },
      "execution_count": null,
      "outputs": [
        {
          "output_type": "execute_result",
          "data": {
            "text/plain": [
              "'Hello2'"
            ],
            "application/vnd.google.colaboratory.intrinsic+json": {
              "type": "string"
            }
          },
          "metadata": {},
          "execution_count": 26
        }
      ]
    },
    {
      "cell_type": "markdown",
      "source": [
        "For sequence data types such as string and list, you can use indexing to extract the components of certain locations.\n",
        "\n",
        "<img src=\"https://miro.medium.com/v2/resize:fit:1400/1*6xXLjk-Jq23LRNBTDGK3Uw.png\" width=\"500\">"
      ],
      "metadata": {
        "id": "LKLk1O6gbpe5"
      }
    },
    {
      "cell_type": "code",
      "source": [
        "s1 = \"Hello World!\""
      ],
      "metadata": {
        "id": "HnQKZ0WWNVJu"
      },
      "execution_count": null,
      "outputs": []
    },
    {
      "cell_type": "code",
      "source": [
        "# String indexing\n",
        "s1[0]"
      ],
      "metadata": {
        "id": "PIpeyNyIZ2sP",
        "colab": {
          "base_uri": "https://localhost:8080/",
          "height": 36
        },
        "outputId": "21d02209-0ac0-4476-ec24-55108dc497af"
      },
      "execution_count": null,
      "outputs": [
        {
          "output_type": "execute_result",
          "data": {
            "text/plain": [
              "'H'"
            ],
            "application/vnd.google.colaboratory.intrinsic+json": {
              "type": "string"
            }
          },
          "metadata": {},
          "execution_count": 28
        }
      ]
    },
    {
      "cell_type": "code",
      "source": [
        "s1[2]"
      ],
      "metadata": {
        "id": "8wMYl8eKl1wC",
        "colab": {
          "base_uri": "https://localhost:8080/",
          "height": 36
        },
        "outputId": "896ae3ba-abd0-41c2-ebab-6534b5956b33"
      },
      "execution_count": null,
      "outputs": [
        {
          "output_type": "execute_result",
          "data": {
            "text/plain": [
              "'l'"
            ],
            "application/vnd.google.colaboratory.intrinsic+json": {
              "type": "string"
            }
          },
          "metadata": {},
          "execution_count": 29
        }
      ]
    },
    {
      "cell_type": "code",
      "source": [
        "## This line will cause error; Why?\n",
        "s1[13]"
      ],
      "metadata": {
        "id": "VwSOqhh0l7KJ",
        "colab": {
          "base_uri": "https://localhost:8080/",
          "height": 158
        },
        "outputId": "a7a14f03-cf6c-45fb-b7ec-4aac1296685c"
      },
      "execution_count": null,
      "outputs": [
        {
          "output_type": "error",
          "ename": "IndexError",
          "evalue": "string index out of range",
          "traceback": [
            "\u001b[0;31m---------------------------------------------------------------------------\u001b[0m",
            "\u001b[0;31mIndexError\u001b[0m                                Traceback (most recent call last)",
            "\u001b[0;32m<ipython-input-30-98bd8345366b>\u001b[0m in \u001b[0;36m<cell line: 2>\u001b[0;34m()\u001b[0m\n\u001b[1;32m      1\u001b[0m \u001b[0;31m## This line will cause error; Why?\u001b[0m\u001b[0;34m\u001b[0m\u001b[0;34m\u001b[0m\u001b[0m\n\u001b[0;32m----> 2\u001b[0;31m \u001b[0ms1\u001b[0m\u001b[0;34m[\u001b[0m\u001b[0;36m13\u001b[0m\u001b[0;34m]\u001b[0m\u001b[0;34m\u001b[0m\u001b[0;34m\u001b[0m\u001b[0m\n\u001b[0m",
            "\u001b[0;31mIndexError\u001b[0m: string index out of range"
          ]
        }
      ]
    },
    {
      "cell_type": "code",
      "source": [
        "# Negative indexing\n",
        "s1[-1]"
      ],
      "metadata": {
        "id": "0hpTkKUfl81J",
        "colab": {
          "base_uri": "https://localhost:8080/",
          "height": 36
        },
        "outputId": "96e905f1-6394-4438-cfee-0d081a651643"
      },
      "execution_count": null,
      "outputs": [
        {
          "output_type": "execute_result",
          "data": {
            "text/plain": [
              "'!'"
            ],
            "application/vnd.google.colaboratory.intrinsic+json": {
              "type": "string"
            }
          },
          "metadata": {},
          "execution_count": 31
        }
      ]
    },
    {
      "cell_type": "code",
      "source": [
        "s1[-2]"
      ],
      "metadata": {
        "id": "u-vrsHDMmMMq",
        "colab": {
          "base_uri": "https://localhost:8080/",
          "height": 36
        },
        "outputId": "226108a9-3799-44cd-c280-8c214c87e15e"
      },
      "execution_count": null,
      "outputs": [
        {
          "output_type": "execute_result",
          "data": {
            "text/plain": [
              "'d'"
            ],
            "application/vnd.google.colaboratory.intrinsic+json": {
              "type": "string"
            }
          },
          "metadata": {},
          "execution_count": 32
        }
      ]
    },
    {
      "cell_type": "code",
      "source": [
        "s1"
      ],
      "metadata": {
        "id": "cOhlvR4GOUEX",
        "colab": {
          "base_uri": "https://localhost:8080/",
          "height": 36
        },
        "outputId": "8d20f40e-44de-4a36-a36e-94ca300e6c8a"
      },
      "execution_count": null,
      "outputs": [
        {
          "output_type": "execute_result",
          "data": {
            "text/plain": [
              "'Hello World!'"
            ],
            "application/vnd.google.colaboratory.intrinsic+json": {
              "type": "string"
            }
          },
          "metadata": {},
          "execution_count": 33
        }
      ]
    },
    {
      "cell_type": "code",
      "source": [
        "s1[1:3]"
      ],
      "metadata": {
        "id": "r108E0CrmBiC",
        "colab": {
          "base_uri": "https://localhost:8080/",
          "height": 36
        },
        "outputId": "09779235-6b93-403a-b31e-231e5a2be208"
      },
      "execution_count": null,
      "outputs": [
        {
          "output_type": "execute_result",
          "data": {
            "text/plain": [
              "'el'"
            ],
            "application/vnd.google.colaboratory.intrinsic+json": {
              "type": "string"
            }
          },
          "metadata": {},
          "execution_count": 34
        }
      ]
    },
    {
      "cell_type": "code",
      "source": [
        "s1[:3]"
      ],
      "metadata": {
        "id": "L_009l-OmD5q",
        "colab": {
          "base_uri": "https://localhost:8080/",
          "height": 36
        },
        "outputId": "18a79224-ff80-4bdd-b1ee-69afbe48423a"
      },
      "execution_count": null,
      "outputs": [
        {
          "output_type": "execute_result",
          "data": {
            "text/plain": [
              "'Hel'"
            ],
            "application/vnd.google.colaboratory.intrinsic+json": {
              "type": "string"
            }
          },
          "metadata": {},
          "execution_count": 35
        }
      ]
    },
    {
      "cell_type": "code",
      "source": [
        "s1[3:]"
      ],
      "metadata": {
        "id": "Xel1GCH-mFnj",
        "colab": {
          "base_uri": "https://localhost:8080/",
          "height": 36
        },
        "outputId": "e5d31516-0d47-4849-af15-2d920f7be82c"
      },
      "execution_count": null,
      "outputs": [
        {
          "output_type": "execute_result",
          "data": {
            "text/plain": [
              "'lo World!'"
            ],
            "application/vnd.google.colaboratory.intrinsic+json": {
              "type": "string"
            }
          },
          "metadata": {},
          "execution_count": 36
        }
      ]
    },
    {
      "cell_type": "markdown",
      "source": [
        "You can use several functions specialized for string data type. We will try two functions here: `split` and `replace` funcdtions."
      ],
      "metadata": {
        "id": "yk8_dA8Rckjb"
      }
    },
    {
      "cell_type": "code",
      "source": [
        "# Define a string variable.\n",
        "text = \"Hello my name is Steve.\""
      ],
      "metadata": {
        "id": "5VTC2RfGqwa0"
      },
      "execution_count": null,
      "outputs": []
    },
    {
      "cell_type": "code",
      "source": [
        "# Split: The split() method splits a string into a list.\n",
        "# You can specify the separator; default separator is any whitespace.\n",
        "text.split()"
      ],
      "metadata": {
        "id": "DxrAC9EQq8yd",
        "colab": {
          "base_uri": "https://localhost:8080/"
        },
        "outputId": "b3073d0b-fab5-44b5-ec0f-0d51eed54913"
      },
      "execution_count": null,
      "outputs": [
        {
          "output_type": "execute_result",
          "data": {
            "text/plain": [
              "['Hello', 'my', 'name', 'is', 'Steve.']"
            ]
          },
          "metadata": {},
          "execution_count": 38
        }
      ]
    },
    {
      "cell_type": "code",
      "source": [
        "# Change separator\n",
        "text.split(\"my\")"
      ],
      "metadata": {
        "id": "0SqjFQTrq2tT",
        "colab": {
          "base_uri": "https://localhost:8080/"
        },
        "outputId": "c93cc5fe-8ec2-414a-d3a0-0d422731b324"
      },
      "execution_count": null,
      "outputs": [
        {
          "output_type": "execute_result",
          "data": {
            "text/plain": [
              "['Hello ', ' name is Steve.']"
            ]
          },
          "metadata": {},
          "execution_count": 39
        }
      ]
    },
    {
      "cell_type": "code",
      "source": [
        "# Replace a certain part into another string.\n",
        "text.replace(\"my\", \"your\")"
      ],
      "metadata": {
        "id": "THwkaZlYq677",
        "colab": {
          "base_uri": "https://localhost:8080/",
          "height": 36
        },
        "outputId": "8ff526ae-7a7b-406e-cc55-f22277c63d54"
      },
      "execution_count": null,
      "outputs": [
        {
          "output_type": "execute_result",
          "data": {
            "text/plain": [
              "'Hello your name is Steve.'"
            ],
            "application/vnd.google.colaboratory.intrinsic+json": {
              "type": "string"
            }
          },
          "metadata": {},
          "execution_count": 40
        }
      ]
    },
    {
      "cell_type": "markdown",
      "source": [
        "## **3. List**\n",
        "\n",
        "`Lists` are used to store multiple items in a single variable.\n",
        "\n",
        "- Lists are created using square brackets: `[]`\n",
        "- List items are ordered, changeable (mutable), and allow duplicate values.\n",
        "- List items can store any datatypes: numeric, string, boolean, etc.\n",
        "- List items can be indexed: e.g., the first item has index 0, the second item has index 1, etc. You can also use negative indexing.\n",
        "\n",
        "\n",
        "\n"
      ],
      "metadata": {
        "id": "kG4kbqIGm8BT"
      }
    },
    {
      "cell_type": "code",
      "source": [
        "# Define a list consisting of names of colors (strings)\n",
        "colors = ['red', 'blue', 'green'] # use square bracket\n",
        "print(colors[0])    ## red\n",
        "print(colors[2])    ## green\n",
        "print(len(colors))  ## length (i.e., number of items) of the list"
      ],
      "metadata": {
        "id": "qDcbJGdwfLGk",
        "colab": {
          "base_uri": "https://localhost:8080/"
        },
        "outputId": "49f665de-14df-4174-b03a-89c2679662c9"
      },
      "execution_count": null,
      "outputs": [
        {
          "output_type": "stream",
          "name": "stdout",
          "text": [
            "red\n",
            "green\n",
            "3\n"
          ]
        }
      ]
    },
    {
      "cell_type": "code",
      "source": [
        "# Define a list consisting of numbers\n",
        "numbers = [3,4,5,6,7,8,9]\n",
        "print(numbers[0])    ## 3\n",
        "print(numbers[2])    ## 5\n",
        "print(len(numbers))  ## length of the list"
      ],
      "metadata": {
        "id": "VBX55RU6nNeq",
        "colab": {
          "base_uri": "https://localhost:8080/"
        },
        "outputId": "19e9f05e-1ccc-416f-950b-3e78da9b382e"
      },
      "execution_count": null,
      "outputs": [
        {
          "output_type": "stream",
          "name": "stdout",
          "text": [
            "3\n",
            "5\n",
            "7\n"
          ]
        }
      ]
    },
    {
      "cell_type": "code",
      "source": [
        "# List slicing\n",
        "numbers[1:4]"
      ],
      "metadata": {
        "id": "2COiMZjReivH",
        "colab": {
          "base_uri": "https://localhost:8080/"
        },
        "outputId": "60a69f9a-eb37-4de3-9286-c174749f4f2f"
      },
      "execution_count": null,
      "outputs": [
        {
          "output_type": "execute_result",
          "data": {
            "text/plain": [
              "[4, 5, 6]"
            ]
          },
          "metadata": {},
          "execution_count": 43
        }
      ]
    },
    {
      "cell_type": "code",
      "source": [
        "# Define a list consisting of mixed data types\n",
        "list1 = [1, 2, 3, 'apple', 'banana']\n",
        "print(list1[0])    ## 1\n",
        "print(list1[-1])    ## banana\n",
        "print(len(list1))  ## length of the list"
      ],
      "metadata": {
        "id": "l6BRjozI7jc-",
        "colab": {
          "base_uri": "https://localhost:8080/"
        },
        "outputId": "99197fa9-fd74-4037-8e42-5bcdcbec816d"
      },
      "execution_count": null,
      "outputs": [
        {
          "output_type": "stream",
          "name": "stdout",
          "text": [
            "1\n",
            "banana\n",
            "5\n"
          ]
        }
      ]
    },
    {
      "cell_type": "markdown",
      "source": [
        "There are several funcetions you can use for list.\n",
        "\n",
        "- `list.append(x)`: Add an item to the **end** of the list.\n",
        "- `list.insert(i, x)`: Insert an item `x` **at a given position** `i`. `i` is the index of the element before which to insert.\n",
        "- `list.remove(x)`: Remove the first item from the list whose value is equal to `x`. It raises a ValueError if there is no such item.\n",
        "- `list.pop(i)` : Remove the item at the given position `i` in the list, and return it. If no index is specified, `a.pop()` removes and returns the last item in the list. It raises an IndexError if the list is empty or the index is outside the list range.\n",
        "- `list.index(x)`: Return zero-based index in the list of the first item whose value is equal to `x`. Raises a ValueError if there is no such item.\n",
        "- `list.sort()`: Sort the items of the list in place.\n",
        "- `list.reverse()`: Reverse the elements of the list in place."
      ],
      "metadata": {
        "id": "Y-zXqRln7_OZ"
      }
    },
    {
      "cell_type": "code",
      "source": [
        "# Append\n",
        "fruits = ['orange', 'apple', 'pear', 'banana', 'kiwi', 'banana']\n",
        "print(fruits)\n",
        "fruits.append('grape')\n",
        "print(fruits)"
      ],
      "metadata": {
        "id": "N3Gel9X69vWX",
        "colab": {
          "base_uri": "https://localhost:8080/"
        },
        "outputId": "bdf530a6-1ca2-430f-e454-b29674ecc9b1"
      },
      "execution_count": null,
      "outputs": [
        {
          "output_type": "stream",
          "name": "stdout",
          "text": [
            "['orange', 'apple', 'pear', 'banana', 'kiwi', 'banana']\n",
            "['orange', 'apple', 'pear', 'banana', 'kiwi', 'banana', 'grape']\n"
          ]
        }
      ]
    },
    {
      "cell_type": "code",
      "source": [
        "# Insert\n",
        "fruits.insert(2, 'mango')\n",
        "print(fruits)"
      ],
      "metadata": {
        "id": "lCBrIJY7-C3N",
        "colab": {
          "base_uri": "https://localhost:8080/"
        },
        "outputId": "676aaa45-5b14-469f-fc5c-af20f85812bb"
      },
      "execution_count": null,
      "outputs": [
        {
          "output_type": "stream",
          "name": "stdout",
          "text": [
            "['orange', 'apple', 'mango', 'pear', 'banana', 'kiwi', 'banana', 'grape']\n"
          ]
        }
      ]
    },
    {
      "cell_type": "code",
      "source": [
        "# Remove\n",
        "fruits.remove('kiwi')\n",
        "print(fruits)"
      ],
      "metadata": {
        "id": "9L5k6tZk_pO1",
        "colab": {
          "base_uri": "https://localhost:8080/"
        },
        "outputId": "e056dffd-d41d-4417-b488-d7fdf608aee7"
      },
      "execution_count": null,
      "outputs": [
        {
          "output_type": "stream",
          "name": "stdout",
          "text": [
            "['orange', 'apple', 'mango', 'pear', 'banana', 'banana', 'grape']\n"
          ]
        }
      ]
    },
    {
      "cell_type": "code",
      "source": [
        "# Pop\n",
        "fruits.pop(3)\n",
        "print(fruits)"
      ],
      "metadata": {
        "id": "BSxBK0Hi-iQ7",
        "colab": {
          "base_uri": "https://localhost:8080/"
        },
        "outputId": "2241f86c-fa90-4bd5-e61f-3a7407b09e88"
      },
      "execution_count": null,
      "outputs": [
        {
          "output_type": "stream",
          "name": "stdout",
          "text": [
            "['orange', 'apple', 'mango', 'banana', 'banana', 'grape']\n"
          ]
        }
      ]
    },
    {
      "cell_type": "code",
      "source": [
        "# Index\n",
        "fruits.index('banana')"
      ],
      "metadata": {
        "id": "umxtVP7q-kZp",
        "colab": {
          "base_uri": "https://localhost:8080/"
        },
        "outputId": "436cc008-dfcb-4a6e-cf93-c2ff8bf174b8"
      },
      "execution_count": null,
      "outputs": [
        {
          "output_type": "execute_result",
          "data": {
            "text/plain": [
              "3"
            ]
          },
          "metadata": {},
          "execution_count": 50
        }
      ]
    },
    {
      "cell_type": "code",
      "source": [
        "# Index\n",
        "fruits.index('blueberry')"
      ],
      "metadata": {
        "id": "p6aPy4FQ_BeW",
        "colab": {
          "base_uri": "https://localhost:8080/",
          "height": 158
        },
        "outputId": "178a6bbb-d571-4341-d6e7-ee8166c006cd"
      },
      "execution_count": null,
      "outputs": [
        {
          "output_type": "error",
          "ename": "ValueError",
          "evalue": "'blueberry' is not in list",
          "traceback": [
            "\u001b[0;31m---------------------------------------------------------------------------\u001b[0m",
            "\u001b[0;31mValueError\u001b[0m                                Traceback (most recent call last)",
            "\u001b[0;32m<ipython-input-51-d79b7ed4dc1c>\u001b[0m in \u001b[0;36m<cell line: 2>\u001b[0;34m()\u001b[0m\n\u001b[1;32m      1\u001b[0m \u001b[0;31m# Index\u001b[0m\u001b[0;34m\u001b[0m\u001b[0;34m\u001b[0m\u001b[0m\n\u001b[0;32m----> 2\u001b[0;31m \u001b[0mfruits\u001b[0m\u001b[0;34m.\u001b[0m\u001b[0mindex\u001b[0m\u001b[0;34m(\u001b[0m\u001b[0;34m'blueberry'\u001b[0m\u001b[0;34m)\u001b[0m\u001b[0;34m\u001b[0m\u001b[0;34m\u001b[0m\u001b[0m\n\u001b[0m",
            "\u001b[0;31mValueError\u001b[0m: 'blueberry' is not in list"
          ]
        }
      ]
    },
    {
      "cell_type": "code",
      "source": [
        "# Sort\n",
        "fruits.sort()\n",
        "print(fruits)"
      ],
      "metadata": {
        "id": "XyLV2lTw_Ei0",
        "colab": {
          "base_uri": "https://localhost:8080/"
        },
        "outputId": "e547e737-e66e-4651-a1b6-d5fced2b1153"
      },
      "execution_count": null,
      "outputs": [
        {
          "output_type": "stream",
          "name": "stdout",
          "text": [
            "['apple', 'banana', 'banana', 'grape', 'mango', 'orange']\n"
          ]
        }
      ]
    },
    {
      "cell_type": "code",
      "source": [
        "# Sort (reverse)\n",
        "fruits.sort(reverse = True)\n",
        "print(fruits)"
      ],
      "metadata": {
        "id": "lRJ6Qwdg_PEj",
        "colab": {
          "base_uri": "https://localhost:8080/"
        },
        "outputId": "6f9e0d52-9b19-46f5-dafd-77e706e3c756"
      },
      "execution_count": null,
      "outputs": [
        {
          "output_type": "stream",
          "name": "stdout",
          "text": [
            "['orange', 'mango', 'grape', 'banana', 'banana', 'apple']\n"
          ]
        }
      ]
    },
    {
      "cell_type": "code",
      "source": [
        "# Reverse\n",
        "fruits = ['orange', 'apple', 'pear', 'banana', 'kiwi', 'banana']\n",
        "fruits.reverse()\n",
        "print(fruits)"
      ],
      "metadata": {
        "id": "1IkHqa3-_RL7",
        "colab": {
          "base_uri": "https://localhost:8080/"
        },
        "outputId": "a93c7600-a4d7-45e1-cebc-0c32d2906cf9"
      },
      "execution_count": null,
      "outputs": [
        {
          "output_type": "stream",
          "name": "stdout",
          "text": [
            "['banana', 'kiwi', 'banana', 'pear', 'apple', 'orange']\n"
          ]
        }
      ]
    },
    {
      "cell_type": "markdown",
      "source": [
        "Let's practice with another list."
      ],
      "metadata": {
        "id": "scVP4CqN_y6f"
      }
    },
    {
      "cell_type": "code",
      "source": [
        "numbers = [12, 5, 9, 8, 4, 7, 15, 20]\n",
        "numbers.append(35)\n",
        "print(numbers)"
      ],
      "metadata": {
        "id": "G9DjtaQRqm9N",
        "colab": {
          "base_uri": "https://localhost:8080/"
        },
        "outputId": "4f9320e1-3dc1-4f67-c12e-b77e44c081b1"
      },
      "execution_count": null,
      "outputs": [
        {
          "output_type": "stream",
          "name": "stdout",
          "text": [
            "[12, 5, 9, 8, 4, 7, 15, 20, 35]\n"
          ]
        }
      ]
    },
    {
      "cell_type": "code",
      "source": [
        "numbers.insert(1, 11)\n",
        "print(numbers)"
      ],
      "metadata": {
        "id": "DBmijOOmrOcs",
        "colab": {
          "base_uri": "https://localhost:8080/"
        },
        "outputId": "5915ce57-2554-455f-e1cf-16c4bcea0bf0"
      },
      "execution_count": null,
      "outputs": [
        {
          "output_type": "stream",
          "name": "stdout",
          "text": [
            "[12, 11, 5, 9, 8, 4, 7, 15, 20, 35]\n"
          ]
        }
      ]
    },
    {
      "cell_type": "code",
      "source": [
        "numbers.remove(9)\n",
        "print(numbers)"
      ],
      "metadata": {
        "id": "e_ba8gL_rYnL",
        "colab": {
          "base_uri": "https://localhost:8080/"
        },
        "outputId": "528768d0-5609-4f29-8509-ca50e2fe9142"
      },
      "execution_count": null,
      "outputs": [
        {
          "output_type": "stream",
          "name": "stdout",
          "text": [
            "[12, 11, 5, 8, 4, 7, 15, 20, 35]\n"
          ]
        }
      ]
    },
    {
      "cell_type": "code",
      "source": [
        "numbers.index(15)"
      ],
      "metadata": {
        "id": "_mXBsNoJri08",
        "colab": {
          "base_uri": "https://localhost:8080/"
        },
        "outputId": "b729c52a-4004-4e4c-80cb-dd74b6662fb3"
      },
      "execution_count": null,
      "outputs": [
        {
          "output_type": "execute_result",
          "data": {
            "text/plain": [
              "6"
            ]
          },
          "metadata": {},
          "execution_count": 58
        }
      ]
    },
    {
      "cell_type": "markdown",
      "source": [
        "## **4. Dictionary**\n",
        "\n",
        "Dictionaries are used to store data values in **key:value** pairs.\n",
        "\n",
        "- Dictionaries are created using curly brackets: `{}`\n",
        "- Dictionaries are ordered, changeable, and do now allow duplicated keys.\n",
        "- The keys of dictionaries should be any immutable data type (e.g., strings, numbers), but the values can be of any type."
      ],
      "metadata": {
        "id": "y3jpW7vHtp9j"
      }
    },
    {
      "cell_type": "code",
      "source": [
        "## Build up a dict by starting with the the empty dict {}\n",
        "alphabet = {}"
      ],
      "metadata": {
        "id": "aAozZOnKto9H"
      },
      "execution_count": null,
      "outputs": []
    },
    {
      "cell_type": "code",
      "source": [
        "## Storing key/value pairs into the dict like this:\n",
        "## dict[key] = value-for-that-key\n",
        "alphabet['a'] = 'alpha' # Key='a', value='alpha'\n",
        "alphabet['g'] = 'gamma' # Key='g', value='gamma'\n",
        "alphabet['o'] = 'omega' # Key='o', value='omega'\n",
        "\n",
        "print(alphabet) ## {'a': 'alpha', 'o': 'omega', 'g': 'gamma'}"
      ],
      "metadata": {
        "id": "GKM3B8xtvKcI",
        "colab": {
          "base_uri": "https://localhost:8080/"
        },
        "outputId": "b6d160dc-b2c6-47aa-d9a3-da7f54fd861b"
      },
      "execution_count": null,
      "outputs": [
        {
          "output_type": "stream",
          "name": "stdout",
          "text": [
            "{'a': 'alpha', 'g': 'gamma', 'o': 'omega'}\n"
          ]
        }
      ]
    },
    {
      "cell_type": "code",
      "source": [
        "alphabet = {'a': 'alpha', 'g': 'gamma', 'o': 'omega'}\n",
        "alphabet"
      ],
      "metadata": {
        "colab": {
          "base_uri": "https://localhost:8080/"
        },
        "id": "waDvf5NnDNjg",
        "outputId": "ba5a34d4-a620-4834-e9e9-62650c0f27c1"
      },
      "execution_count": null,
      "outputs": [
        {
          "output_type": "execute_result",
          "data": {
            "text/plain": [
              "{'a': 'alpha', 'g': 'gamma', 'o': 'omega'}"
            ]
          },
          "metadata": {},
          "execution_count": 61
        }
      ]
    },
    {
      "cell_type": "code",
      "source": [
        "alphabet[0]"
      ],
      "metadata": {
        "id": "dVHYzY4NTDYI",
        "colab": {
          "base_uri": "https://localhost:8080/",
          "height": 141
        },
        "outputId": "7496bcc1-7bbb-4f8c-e3b7-ec85619992c8"
      },
      "execution_count": null,
      "outputs": [
        {
          "output_type": "error",
          "ename": "KeyError",
          "evalue": "0",
          "traceback": [
            "\u001b[0;31m---------------------------------------------------------------------------\u001b[0m",
            "\u001b[0;31mKeyError\u001b[0m                                  Traceback (most recent call last)",
            "\u001b[0;32m<ipython-input-62-85c067d1da84>\u001b[0m in \u001b[0;36m<cell line: 1>\u001b[0;34m()\u001b[0m\n\u001b[0;32m----> 1\u001b[0;31m \u001b[0malphabet\u001b[0m\u001b[0;34m[\u001b[0m\u001b[0;36m0\u001b[0m\u001b[0;34m]\u001b[0m\u001b[0;34m\u001b[0m\u001b[0;34m\u001b[0m\u001b[0m\n\u001b[0m",
            "\u001b[0;31mKeyError\u001b[0m: 0"
          ]
        }
      ]
    },
    {
      "cell_type": "code",
      "source": [
        "print(alphabet['a'])     ## Simple lookup, returns 'alpha'\n",
        "alphabet['a'] = 6       ## Put new key/value into dict\n",
        "alphabet"
      ],
      "metadata": {
        "id": "w6ppxI0Hvgrt",
        "colab": {
          "base_uri": "https://localhost:8080/"
        },
        "outputId": "6347b917-59d9-459b-810e-dac4a7cee7a3"
      },
      "execution_count": null,
      "outputs": [
        {
          "output_type": "stream",
          "name": "stdout",
          "text": [
            "6\n"
          ]
        },
        {
          "output_type": "execute_result",
          "data": {
            "text/plain": [
              "{'a': 6, 'g': 'gamma', 'o': 'omega'}"
            ]
          },
          "metadata": {},
          "execution_count": 64
        }
      ]
    },
    {
      "cell_type": "code",
      "source": [
        "alphabet"
      ],
      "metadata": {
        "id": "9MziHJCKvr9Q"
      },
      "execution_count": null,
      "outputs": []
    },
    {
      "cell_type": "markdown",
      "source": [
        "- `get()`: Returns the value of the specified key\n",
        "- `items()`: Returns a list containing a tuple for each key value pair\n",
        "- `keys()`: Returns a list containing the dictionary's keys\n",
        "- `pop()`: Removes the element with the specified key\n",
        "- `values()`:\tReturns a list of all the values in the dictionary"
      ],
      "metadata": {
        "id": "1EMBd77VDpJq"
      }
    },
    {
      "cell_type": "markdown",
      "source": [
        "Let's practice with another dictionary."
      ],
      "metadata": {
        "id": "ItP0JMbSCsyq"
      }
    },
    {
      "cell_type": "code",
      "source": [
        "grades = {'John': 80, 'Alice': 85, 'Daniel': 90, 'Mary': 78}"
      ],
      "metadata": {
        "id": "hJvAr9jdCqUb"
      },
      "execution_count": null,
      "outputs": []
    },
    {
      "cell_type": "code",
      "source": [
        "grades.keys()"
      ],
      "metadata": {
        "id": "1oJ0PmkCD945",
        "colab": {
          "base_uri": "https://localhost:8080/"
        },
        "outputId": "d944aafc-2f21-4686-9dae-818a61722254"
      },
      "execution_count": null,
      "outputs": [
        {
          "output_type": "execute_result",
          "data": {
            "text/plain": [
              "dict_keys(['John', 'Alice', 'Daniel', 'Mary'])"
            ]
          },
          "metadata": {},
          "execution_count": 66
        }
      ]
    },
    {
      "cell_type": "code",
      "source": [
        "grades.get('John')"
      ],
      "metadata": {
        "id": "-ZlEb3U8EDtn",
        "colab": {
          "base_uri": "https://localhost:8080/"
        },
        "outputId": "954a1eba-9b14-4663-af41-6fe3d5d26f61"
      },
      "execution_count": null,
      "outputs": [
        {
          "output_type": "execute_result",
          "data": {
            "text/plain": [
              "80"
            ]
          },
          "metadata": {},
          "execution_count": 67
        }
      ]
    },
    {
      "cell_type": "code",
      "source": [
        "grades.items()"
      ],
      "metadata": {
        "id": "dUg7i-A4EdF5",
        "colab": {
          "base_uri": "https://localhost:8080/"
        },
        "outputId": "17ca269b-d43e-44eb-a87f-47e958e027f2"
      },
      "execution_count": null,
      "outputs": [
        {
          "output_type": "execute_result",
          "data": {
            "text/plain": [
              "dict_items([('John', 80), ('Alice', 85), ('Daniel', 90), ('Mary', 78)])"
            ]
          },
          "metadata": {},
          "execution_count": 68
        }
      ]
    },
    {
      "cell_type": "code",
      "source": [
        "grades.pop('Mary')\n",
        "grades"
      ],
      "metadata": {
        "id": "INrmM8YFEf5W",
        "colab": {
          "base_uri": "https://localhost:8080/"
        },
        "outputId": "802e2e7a-243d-42d1-88e7-768723c5084d"
      },
      "execution_count": null,
      "outputs": [
        {
          "output_type": "execute_result",
          "data": {
            "text/plain": [
              "{'John': 80, 'Alice': 85, 'Daniel': 90}"
            ]
          },
          "metadata": {},
          "execution_count": 69
        }
      ]
    },
    {
      "cell_type": "code",
      "source": [
        "grades.values()"
      ],
      "metadata": {
        "id": "zRnsG5MbEkG9",
        "colab": {
          "base_uri": "https://localhost:8080/"
        },
        "outputId": "a73ab437-1d0d-42ff-a69a-369e8977c131"
      },
      "execution_count": null,
      "outputs": [
        {
          "output_type": "execute_result",
          "data": {
            "text/plain": [
              "dict_values([80, 85, 90])"
            ]
          },
          "metadata": {},
          "execution_count": 70
        }
      ]
    },
    {
      "cell_type": "markdown",
      "source": [
        "## **References**\n",
        "- Tony Gaddis. 2017. Starting Out with Python (4th Edition). Pearson.\n",
        "- https://www.jcchouinard.com/python-data-types/\n",
        "- https://www.geeksforgeeks.org/difference-between-list-and-dictionary-in-python/"
      ],
      "metadata": {
        "id": "HR_WBFrMntSV"
      }
    }
  ]
}