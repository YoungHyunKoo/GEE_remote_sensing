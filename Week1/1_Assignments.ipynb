{
  "nbformat": 4,
  "nbformat_minor": 0,
  "metadata": {
    "colab": {
      "provenance": [],
      "authorship_tag": "ABX9TyObdx1xoQiMpUtdOQoB1YX3",
      "include_colab_link": true
    },
    "kernelspec": {
      "name": "python3",
      "display_name": "Python 3"
    },
    "language_info": {
      "name": "python"
    }
  },
  "cells": [
    {
      "cell_type": "markdown",
      "metadata": {
        "id": "view-in-github",
        "colab_type": "text"
      },
      "source": [
        "<a href=\"https://colab.research.google.com/github/YoungHyunKoo/GEE_remote_sensing/blob/main/Week1/1_Assignments.ipynb\" target=\"_parent\"><img src=\"https://colab.research.google.com/assets/colab-badge.svg\" alt=\"Open In Colab\"/></a>"
      ]
    },
    {
      "cell_type": "markdown",
      "source": [
        "### **[GEO 6083] Remote Sensing Imge Processing - Spring 2024**\n",
        "# **WEEK 1 Assignments**\n",
        "\n",
        "*** Due by 03/24/2025 (Mon) 06:00 pm ***\n",
        "\n",
        "### Submission instructions\n",
        "- Please copy this notebook in your Google Drive. (File > Save a copy in Drive)\n",
        "- Rename the notebook into ***2025_1_Assignments_LASTNAME***. Put your lastname.\n",
        "- Once you complete the tasks, please press the \"Share\" button on the top right corner. Change the \"General Access\" to ***Anyone with this link*** and ***Viewer***.\n",
        "- Press the \"Copy link\" button. Paste this link and submit to Canvas."
      ],
      "metadata": {
        "id": "QiDKnF1bx4zv"
      }
    },
    {
      "cell_type": "markdown",
      "source": [
        "## **1. Quarter of the year (30 pts)**\n",
        "\n",
        "Write a function that determines whether a month is in the first quarter, the second quarter, or the fourth quarter of the year. This function should **take a number as an argument and display a message** indicating what quarter this month belongs to. This function do not need to return any values. Following are the guidelines:\n",
        "- If the number is either 1, 2, or 3, the month is in the first quarter.\n",
        "- If the number is either 4, 5, or 6, the month is in the second quarter.\n",
        "- If the number is either 7, 8, or 9, the month is in the third quarter\n",
        "- If the number is either 10, 11, or 12, the month is in the fourth quarter.\n",
        "- If the number is not between 1 and 12, the program should display an error."
      ],
      "metadata": {
        "id": "p5P3rDX_wGAc"
      }
    },
    {
      "cell_type": "code",
      "source": [
        "# Please write down your code here.\n",
        "def quarter_of_year(month):\n"
      ],
      "metadata": {
        "id": "IJeYNbGH6pZb"
      },
      "execution_count": null,
      "outputs": []
    },
    {
      "cell_type": "code",
      "source": [],
      "metadata": {
        "id": "48gW_exy77vC"
      },
      "execution_count": null,
      "outputs": []
    },
    {
      "cell_type": "markdown",
      "source": [
        "## **2. Opening discount (30 pts)**\n",
        "\n",
        "A bakery is offering discounts for the opening event. It sells a bread at $5, and quantity discounts are given according to the following table:\n",
        "\n",
        "| Quantity | Discount |\n",
        "|:--------:|:--------:|\n",
        "|    1-5   |   10 %   |\n",
        "|   6-10   |   20 %   |\n",
        "|  10-15   |   30 %   |\n",
        "|   > 15   |   40 %   |\n",
        "\n",
        "Write a function that **takes the number of breads as an argument and returns the total price after the discount**."
      ],
      "metadata": {
        "id": "2EHv3YT-65_-"
      }
    },
    {
      "cell_type": "code",
      "source": [
        "# Please write down your code here.\n",
        "def cal_total_price(quantity):\n"
      ],
      "metadata": {
        "id": "NYWWs02S7K1X"
      },
      "execution_count": null,
      "outputs": []
    },
    {
      "cell_type": "code",
      "source": [],
      "metadata": {
        "id": "Oyz9FLGQ78_n"
      },
      "execution_count": null,
      "outputs": []
    },
    {
      "cell_type": "markdown",
      "source": [
        "## **3. Calculating the Factorial of a Number (30 pts)**\n",
        "In mathematics, the notation *n!* represents the factorial of the nonnegative integer *n*. The factorial of *n* is the product of all the nonnegative integers from 1 to *n*. For example, 5! = 1 * 2 * 3 * 4 * 5 = 120 and 4! = 1 * 2 * 3 * 4 = 24. Write a function that **takes a number as an argument and returns the factorial of that number**."
      ],
      "metadata": {
        "id": "L2f2Fnxs7LNW"
      }
    },
    {
      "cell_type": "code",
      "source": [
        "# Please write down your code here.\n",
        "def factorial(num):\n"
      ],
      "metadata": {
        "id": "eXzX8f2i7wJK"
      },
      "execution_count": null,
      "outputs": []
    },
    {
      "cell_type": "code",
      "source": [],
      "metadata": {
        "id": "H6yE3-05797W"
      },
      "execution_count": null,
      "outputs": []
    },
    {
      "cell_type": "markdown",
      "source": [
        "## **4. Prime Numbers (10 pts)**\n",
        "A prime number is a number that is only evenly divisible by itself and 1. For example, the number 5 is prime because it can only be evenly divided by 1 and 5. The number 6, however, is not prime because it can be divided evenly by 1, 2, 3, and 6. Write a function that takes an integer as an argument and returns `true` if the argument is a prime number, or `false` otherwise.\n",
        "\n",
        "**TIP.** The `%` operator divides one number by another and returns the remainder of the division. In an expression such as `num1 % num2`, the `%` operator will return 0 if `num1` is evenly divisible by `num2`. (e.g., `8 % 2 = 0`, `8 % 3 = 2`)"
      ],
      "metadata": {
        "id": "pU5d5GDH7wXe"
      }
    },
    {
      "cell_type": "code",
      "source": [
        "# Please write down your code here.\n",
        "def prime_number(num):\n"
      ],
      "metadata": {
        "id": "aCBb1rUt7-mL"
      },
      "execution_count": null,
      "outputs": []
    },
    {
      "cell_type": "code",
      "source": [],
      "metadata": {
        "id": "PxCjv98I7--g"
      },
      "execution_count": null,
      "outputs": []
    }
  ]
}
