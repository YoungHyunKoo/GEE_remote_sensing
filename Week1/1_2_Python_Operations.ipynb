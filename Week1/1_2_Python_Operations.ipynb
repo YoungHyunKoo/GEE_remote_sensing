{
  "nbformat": 4,
  "nbformat_minor": 0,
  "metadata": {
    "colab": {
      "provenance": [],
      "toc_visible": true,
      "authorship_tag": "ABX9TyMQefeTfMXTfpnI6JyNr2Ou",
      "include_colab_link": true
    },
    "kernelspec": {
      "name": "python3",
      "display_name": "Python 3"
    },
    "language_info": {
      "name": "python"
    }
  },
  "cells": [
    {
      "cell_type": "markdown",
      "metadata": {
        "id": "view-in-github",
        "colab_type": "text"
      },
      "source": [
        "<a href=\"https://colab.research.google.com/github/YoungHyunKoo/GEE_remote_sensing/blob/main/Week1/1_2_Python_Operations.ipynb\" target=\"_parent\"><img src=\"https://colab.research.google.com/assets/colab-badge.svg\" alt=\"Open In Colab\"/></a>"
      ]
    },
    {
      "cell_type": "markdown",
      "source": [
        "### **[GEO 6083] Remote Sensing Imge Processing - Spring 2024**\n",
        "# **WEEK 1-2. Python Operations**\n",
        "\n",
        "### OBJECTIVES\n",
        "1. Understand how `if` statement works\n",
        "2. Understand how logical operators work\n",
        "3. Understand how `for` and `while` loop operators work\n",
        "\n",
        "Credited by Younghyun Koo (kooala317@gmail.com)"
      ],
      "metadata": {
        "id": "JwKQpqpwDBhY"
      }
    },
    {
      "cell_type": "markdown",
      "source": [
        "## **1. `If` statement**\n",
        "\n",
        "The `if` statement is used to create a decision structure, which allows a program to have more than one path of execution. The `if` statement causes one or more statements to execute only when a Boolean expression is true.\n",
        "\n",
        "Python supports the usual logical conditions from mathematics:\n",
        "- Equals: `a == b`\n",
        "- Not Equals: `a != b`\n",
        "- Less than: `a < b`\n",
        "- Less than or equal to: `a <= b`\n",
        "- Greater than: `a > b`\n",
        "- Greater than or equal to: `a >= b`\n"
      ],
      "metadata": {
        "id": "1hr0mmMrYYDf"
      }
    },
    {
      "cell_type": "code",
      "source": [
        "# If statement for comparing two numbers\n",
        "a = 3\n",
        "b = 5\n",
        "if b > a:\n",
        "  print(\"b is greater than a\")"
      ],
      "metadata": {
        "id": "LNugYrLrDDw4",
        "colab": {
          "base_uri": "https://localhost:8080/"
        },
        "outputId": "1006daf9-ff53-49be-a2f2-b3e896d0abdd"
      },
      "execution_count": null,
      "outputs": [
        {
          "output_type": "stream",
          "name": "stdout",
          "text": [
            "b is greater than a\n"
          ]
        }
      ]
    },
    {
      "cell_type": "code",
      "source": [
        "# If statement for comparing two strings\n",
        "a = \"fire\"\n",
        "b = \"hire\"\n",
        "if a != b:\n",
        "  print(\"b is different from a\")"
      ],
      "metadata": {
        "id": "k9xlgcwpFhUs",
        "colab": {
          "base_uri": "https://localhost:8080/"
        },
        "outputId": "84ac864f-deb0-49fb-b681-55792e35d1c8"
      },
      "execution_count": null,
      "outputs": [
        {
          "output_type": "stream",
          "name": "stdout",
          "text": [
            "b is different from a\n"
          ]
        }
      ]
    },
    {
      "cell_type": "markdown",
      "source": [
        "The `elif` keyword is Python's way of saying \"if the previous conditions were not true, then try this condition\"."
      ],
      "metadata": {
        "id": "7v-CFC3ZF5ZP"
      }
    },
    {
      "cell_type": "code",
      "source": [
        "a = 3\n",
        "b = 5\n",
        "if b > a:\n",
        "  print(\"b is greater than a\")\n",
        "elif a == b:\n",
        "  print(\"a and b are equal\")\n",
        "elif a > b:\n",
        "  print(\"a is greater than b\")"
      ],
      "metadata": {
        "id": "dCvj7dgfFxys",
        "colab": {
          "base_uri": "https://localhost:8080/"
        },
        "outputId": "2302ac74-e11e-454f-f228-9bf08d55178a"
      },
      "execution_count": null,
      "outputs": [
        {
          "output_type": "stream",
          "name": "stdout",
          "text": [
            "b is greater than a\n"
          ]
        }
      ]
    },
    {
      "cell_type": "markdown",
      "source": [
        "The `else` keyword catches anything which isn't caught by the preceding conditions."
      ],
      "metadata": {
        "id": "NZrwVKjvLLRn"
      }
    },
    {
      "cell_type": "code",
      "execution_count": null,
      "metadata": {
        "id": "NaGTXoRiCFca",
        "colab": {
          "base_uri": "https://localhost:8080/"
        },
        "outputId": "5b4ffff4-bf81-4f4c-d901-5e76a5be2112"
      },
      "outputs": [
        {
          "output_type": "stream",
          "name": "stdout",
          "text": [
            "a is greater than b\n"
          ]
        }
      ],
      "source": [
        "a = 10\n",
        "b = 5\n",
        "if b > a:\n",
        "  print(\"b is greater than a\")\n",
        "elif a == b:\n",
        "  print(\"a and b are equal\")\n",
        "else: # Replace the previous 'elif' with else\n",
        "  print(\"a is greater than b\")"
      ]
    },
    {
      "cell_type": "markdown",
      "source": [
        "You can use `and` and `or` logical operators to combine multiple conditional statements."
      ],
      "metadata": {
        "id": "vqnsl2r-Gkly"
      }
    },
    {
      "cell_type": "code",
      "source": [
        "# And operator\n",
        "a = 40\n",
        "b = 20\n",
        "c = 70\n",
        "if a > b and c < a:\n",
        "  print(\"Both conditions are True\")"
      ],
      "metadata": {
        "id": "cteD2cFNZCE_"
      },
      "execution_count": null,
      "outputs": []
    },
    {
      "cell_type": "code",
      "source": [
        "# & is the same to the and operator\n",
        "a = 40\n",
        "b = 20\n",
        "c = 70\n",
        "if (a > b) & (c > a):\n",
        "  print(\"Both conditions are True\")"
      ],
      "metadata": {
        "id": "MnHwkAkZHW4Z"
      },
      "execution_count": null,
      "outputs": []
    },
    {
      "cell_type": "code",
      "source": [
        "# Or operator\n",
        "a = 40\n",
        "b = 20\n",
        "c = 30\n",
        "if a > b or c > a:\n",
        "  print(\"At least one condition is True\")"
      ],
      "metadata": {
        "id": "0YMxO8erZHqY"
      },
      "execution_count": null,
      "outputs": []
    },
    {
      "cell_type": "code",
      "source": [
        "# | is the same to the or operator\n",
        "a = 40\n",
        "b = 20\n",
        "c = 30\n",
        "if (a > b) | (c > a):\n",
        "  print(\"At least one condition is True\")"
      ],
      "metadata": {
        "id": "VuzPMYVWHxz3"
      },
      "execution_count": null,
      "outputs": []
    },
    {
      "cell_type": "markdown",
      "source": [
        "The `not` operator can be used to reverse the result of the conditional statement."
      ],
      "metadata": {
        "id": "_lriNqu8HO_h"
      }
    },
    {
      "cell_type": "code",
      "source": [
        "a = 6\n",
        "b = 10\n",
        "if not a > b:\n",
        "  print(\"a is NOT greater than b\")"
      ],
      "metadata": {
        "id": "L2xV6lxmIC8Q",
        "colab": {
          "base_uri": "https://localhost:8080/"
        },
        "outputId": "3c08b9b8-000b-494e-d62b-194765a0c963"
      },
      "execution_count": null,
      "outputs": [
        {
          "output_type": "stream",
          "name": "stdout",
          "text": [
            "a is NOT greater than b\n"
          ]
        }
      ]
    },
    {
      "cell_type": "code",
      "source": [
        "# You can use ~ instead of not\n",
        "a = 6\n",
        "b = 10\n",
        "if ~(a > b):\n",
        "  print(\"a is NOT greater than b\")"
      ],
      "metadata": {
        "id": "2TounOWagmOe"
      },
      "execution_count": null,
      "outputs": []
    },
    {
      "cell_type": "markdown",
      "source": [
        "## **2. Repetation structures: `While` and `For`**\n",
        "\n",
        "A repetition structure causes a statement or set of statements to execute\n",
        "repeatedly. Repetation structures are also called loops.\n",
        "\n"
      ],
      "metadata": {
        "id": "8i3TheV9II00"
      }
    },
    {
      "cell_type": "markdown",
      "source": [
        "### **2.1. The `while` Loop**\n",
        "With the `while` loop we can execute a set of statements as long as a condition is true."
      ],
      "metadata": {
        "id": "CD1M_-_aoP2U"
      }
    },
    {
      "cell_type": "code",
      "source": [
        "# Print i as long as i is less than 6:\n",
        "\n",
        "i = 1\n",
        "while i < 6:\n",
        "  print(i)\n",
        "  i += 1 # This means i = i + 1\n",
        "\n",
        "## NOTE: If you do not increse i, the loop will continue forever."
      ],
      "metadata": {
        "id": "uHE8T39iZJI_",
        "colab": {
          "base_uri": "https://localhost:8080/"
        },
        "outputId": "aef3d682-6c6c-4db9-f40f-8747744c6f0d"
      },
      "execution_count": null,
      "outputs": [
        {
          "output_type": "stream",
          "name": "stdout",
          "text": [
            "1\n",
            "2\n",
            "3\n",
            "4\n",
            "5\n"
          ]
        }
      ]
    },
    {
      "cell_type": "markdown",
      "source": [
        "You can add the `break` statement to stop the loop even if the while condition is true."
      ],
      "metadata": {
        "id": "v6f6ofXQ1X9P"
      }
    },
    {
      "cell_type": "code",
      "source": [
        "# Exit the loop when i is 3:\n",
        "\n",
        "i = 1\n",
        "while i < 6:\n",
        "  print(i)\n",
        "  if i == 3:\n",
        "    break\n",
        "  i += 1"
      ],
      "metadata": {
        "id": "7TjlMM5nwvqZ",
        "colab": {
          "base_uri": "https://localhost:8080/"
        },
        "outputId": "69fcd2c6-95b8-4b62-e947-40aa6a699564"
      },
      "execution_count": null,
      "outputs": [
        {
          "output_type": "stream",
          "name": "stdout",
          "text": [
            "1\n",
            "2\n",
            "3\n"
          ]
        }
      ]
    },
    {
      "cell_type": "markdown",
      "source": [
        "### **2.2. `For` loop**\n",
        "\n",
        "A `For` loop is used for iterating over a sequence (e.g., list, dictionary, or string). With the `for` loop we can execute a set of statements, once for each item in a sequence."
      ],
      "metadata": {
        "id": "rjXBG9-s1ur1"
      }
    },
    {
      "cell_type": "code",
      "source": [
        "# A list of fruits\n",
        "fruits = [\"apple\", \"banana\", \"cherry\"]\n",
        "for x in fruits:\n",
        "  print(x)"
      ],
      "metadata": {
        "id": "83JT0QVnwyW3",
        "colab": {
          "base_uri": "https://localhost:8080/"
        },
        "outputId": "51e5f389-ca84-4871-efcc-cf46edfcb251"
      },
      "execution_count": null,
      "outputs": [
        {
          "output_type": "stream",
          "name": "stdout",
          "text": [
            "apple\n",
            "banana\n",
            "cherry\n"
          ]
        }
      ]
    },
    {
      "cell_type": "markdown",
      "source": [
        "You can also use the `break` statement inside the `For` loop."
      ],
      "metadata": {
        "id": "bYPQrCWd2QTC"
      }
    },
    {
      "cell_type": "code",
      "source": [
        "# Exit the loop when x is \"banana\":\n",
        "fruits = [\"apple\", \"banana\", \"cherry\"]\n",
        "for x in fruits:\n",
        "  print(x)\n",
        "  if x == \"banana\":\n",
        "    break"
      ],
      "metadata": {
        "id": "nOvWquw0ZLDv",
        "colab": {
          "base_uri": "https://localhost:8080/"
        },
        "outputId": "4f5b9172-c4aa-499c-d41e-d38b6b506e40"
      },
      "execution_count": null,
      "outputs": [
        {
          "output_type": "stream",
          "name": "stdout",
          "text": [
            "apple\n",
            "banana\n"
          ]
        }
      ]
    },
    {
      "cell_type": "markdown",
      "source": [
        "The `range()` function is useful in a `For` loop. The `range()` function returns a sequence of numbers, starting from 0 by default, and increments by 1 (by default), and ends at a specified number."
      ],
      "metadata": {
        "id": "Cx8o8UhA2pyS"
      }
    },
    {
      "cell_type": "code",
      "source": [
        "for x in range(6):\n",
        "  print(x)"
      ],
      "metadata": {
        "id": "Y7ZM4MKK26H3",
        "colab": {
          "base_uri": "https://localhost:8080/"
        },
        "outputId": "9f1e9287-a620-4130-a263-e10f521efca0"
      },
      "execution_count": null,
      "outputs": [
        {
          "output_type": "stream",
          "name": "stdout",
          "text": [
            "0\n",
            "1\n",
            "2\n",
            "3\n",
            "4\n",
            "5\n"
          ]
        }
      ]
    },
    {
      "cell_type": "markdown",
      "source": [
        "Please note that the 6 is NOT included in the loop."
      ],
      "metadata": {
        "id": "TYyB-sf83Bjj"
      }
    },
    {
      "cell_type": "code",
      "source": [
        "# Set a start number\n",
        "for x in range(2, 6):\n",
        "  print(x)"
      ],
      "metadata": {
        "id": "neVEVgcB2-N0",
        "colab": {
          "base_uri": "https://localhost:8080/"
        },
        "outputId": "687fec5f-192d-4d2b-abb9-72245673193b"
      },
      "execution_count": null,
      "outputs": [
        {
          "output_type": "stream",
          "name": "stdout",
          "text": [
            "2\n",
            "3\n",
            "4\n",
            "5\n"
          ]
        }
      ]
    },
    {
      "cell_type": "code",
      "source": [
        "# Increment the sequence with 5 (default is 1):\n",
        "for x in range(2, 30, 5):\n",
        "  print(x)"
      ],
      "metadata": {
        "id": "L-U2ijHs3ZLh",
        "colab": {
          "base_uri": "https://localhost:8080/"
        },
        "outputId": "5dc8d7c6-3eee-4ce2-944a-ac97cd6b8b3d"
      },
      "execution_count": null,
      "outputs": [
        {
          "output_type": "stream",
          "name": "stdout",
          "text": [
            "2\n",
            "7\n",
            "12\n",
            "17\n",
            "22\n",
            "27\n"
          ]
        }
      ]
    },
    {
      "cell_type": "code",
      "source": [
        "# Print the numbers 1 through 10 and their squares.\n",
        "for number in range(1, 11):\n",
        "  square = number**2\n",
        "  print(number, square)"
      ],
      "metadata": {
        "id": "lER-s7LS4UNa",
        "colab": {
          "base_uri": "https://localhost:8080/"
        },
        "outputId": "a7f41d39-eb6d-40eb-8fe5-baa08ecc22a9"
      },
      "execution_count": null,
      "outputs": [
        {
          "output_type": "stream",
          "name": "stdout",
          "text": [
            "1 1\n",
            "2 4\n",
            "3 9\n",
            "4 16\n",
            "5 25\n",
            "6 36\n",
            "7 49\n",
            "8 64\n",
            "9 81\n",
            "10 100\n"
          ]
        }
      ]
    },
    {
      "cell_type": "code",
      "source": [
        "# Convert km/hour to mile/hour\n",
        "# Print the table headings.\n",
        "print('KPH\\tMPH')\n",
        "print('--------------')\n",
        "\n",
        "# Print the speeds.\n",
        "for kph in range(20, 100, 10):\n",
        "  mph = kph * 0.6214\n",
        "  print(kph, '\\t', format(mph, '.1f'))"
      ],
      "metadata": {
        "id": "8JQrhtp24kP5",
        "colab": {
          "base_uri": "https://localhost:8080/"
        },
        "outputId": "ab7161e3-8b43-4feb-e852-1cd05beb1285"
      },
      "execution_count": null,
      "outputs": [
        {
          "output_type": "stream",
          "name": "stdout",
          "text": [
            "KPH\tMPH\n",
            "--------------\n",
            "20 \t 12.4\n",
            "30 \t 18.6\n",
            "40 \t 24.9\n",
            "50 \t 31.1\n",
            "60 \t 37.3\n",
            "70 \t 43.5\n",
            "80 \t 49.7\n",
            "90 \t 55.9\n"
          ]
        }
      ]
    },
    {
      "cell_type": "markdown",
      "source": [
        "You can add another `For` loop inside a `For` loop. (a.k.a. nested loop)"
      ],
      "metadata": {
        "id": "6rIkTCq33k-g"
      }
    },
    {
      "cell_type": "code",
      "source": [
        "adj = [\"red\", \"big\", \"tasty\"]\n",
        "fruits = [\"apple\", \"banana\", \"cherry\"]\n",
        "\n",
        "for x in adj:\n",
        "  for y in fruits:\n",
        "    print(x, y)"
      ],
      "metadata": {
        "id": "E80HygGd3qAP",
        "colab": {
          "base_uri": "https://localhost:8080/"
        },
        "outputId": "12131e64-991f-48d4-ca5a-8cee3e9d79da"
      },
      "execution_count": null,
      "outputs": [
        {
          "output_type": "stream",
          "name": "stdout",
          "text": [
            "red apple\n",
            "red banana\n",
            "red cherry\n",
            "big apple\n",
            "big banana\n",
            "big cherry\n",
            "tasty apple\n",
            "tasty banana\n",
            "tasty cherry\n"
          ]
        }
      ]
    },
    {
      "cell_type": "markdown",
      "source": [
        "## **References**\n",
        "- Tony Gaddis. 2017. Starting Out with Python (4th Edition). Pearson.\n",
        "- https://www.w3schools.com/python/python_conditions.asp\n",
        "- https://www.w3schools.com/python/python_while_loops.asp\n",
        "- https://w3schools.com/python/python_for_loops.asp"
      ],
      "metadata": {
        "id": "wgwQ8e1CnbRh"
      }
    }
  ]
}