{
  "nbformat": 4,
  "nbformat_minor": 0,
  "metadata": {
    "colab": {
      "provenance": [],
      "toc_visible": true,
      "include_colab_link": true
    },
    "kernelspec": {
      "name": "python3",
      "display_name": "Python 3"
    },
    "language_info": {
      "name": "python"
    }
  },
  "cells": [
    {
      "cell_type": "markdown",
      "metadata": {
        "id": "view-in-github",
        "colab_type": "text"
      },
      "source": [
        "<a href=\"https://colab.research.google.com/github/YoungHyunKoo/GEE_remote_sensing/blob/main/Week5/5_Assignment.ipynb\" target=\"_parent\"><img src=\"https://colab.research.google.com/assets/colab-badge.svg\" alt=\"Open In Colab\"/></a>"
      ]
    },
    {
      "cell_type": "markdown",
      "source": [
        "### **[GEO 6083] Remote Sensing Imge Processing - Spring 2024**\n",
        "# **WEEK 5 Assignments**\n",
        "\n",
        "*** Due by 04/08/2024 (Mon) 06:00 pm ***\n",
        "\n",
        "### Submission instructions\n",
        "- Please copy this notebook in your Google Drive. (File > Save a copy in Drive)\n",
        "- Rename the notebook into ***2024_5_Assignments_LASTNAME***. Put your lastname.\n",
        "- Once you complete the tasks, please press the \"Share\" button on the top right corner. Change the \"General Access\" to ***Anyone with this link*** and ***Viewer***.\n",
        "- Press the \"Copy link\" button. Paste this link and submit to Canvas."
      ],
      "metadata": {
        "id": "aiIlOPRIElwe"
      }
    },
    {
      "cell_type": "markdown",
      "source": [
        "## **1. Task 1 (100 pts)**\n",
        "\n",
        "Following the 5-1 tutorial, build a neural network (NN) model that **discriminates water bodies and non-water bodies** for the given image. Similar to the cloud detection model we have tried in tutorial 5-1, this model conduct binary classification.\n",
        "\n",
        "**NOTE**\n",
        "1. The NN model can have any number of layers and nodes.\n",
        "2. Please make sure you have more than **200** sampling points."
      ],
      "metadata": {
        "id": "xlvWswNS4Aui"
      }
    },
    {
      "cell_type": "code",
      "source": [
        "import ee\n",
        "\n",
        "# Authenticate\n",
        "ee.Authenticate()\n",
        "\n",
        "# Initialize with your own project.\n",
        "ee.Initialize(project = \"utsa-spring2024\")\n",
        "\n",
        "import geemap"
      ],
      "metadata": {
        "id": "QBJt043Csmsu"
      },
      "execution_count": null,
      "outputs": []
    },
    {
      "cell_type": "code",
      "source": [
        "# Install wxee library (convert ee to xarray)\n",
        "!pip install wxee"
      ],
      "metadata": {
        "id": "YtZfQtx7gQCf"
      },
      "execution_count": null,
      "outputs": []
    },
    {
      "cell_type": "code",
      "source": [
        "# For interactual plot\n",
        "!pip install ipympl"
      ],
      "metadata": {
        "id": "Yb6YROAZgU83"
      },
      "execution_count": null,
      "outputs": []
    },
    {
      "cell_type": "code",
      "source": [
        "import wxee\n",
        "import numpy as np\n",
        "import pandas as pd\n",
        "import matplotlib.pyplot as plt"
      ],
      "metadata": {
        "id": "Oc4NKwXxgW_T"
      },
      "execution_count": null,
      "outputs": []
    },
    {
      "cell_type": "code",
      "source": [
        "## Target image you will classify (near Las Vegas)\n",
        "AOI = ee.Geometry.Rectangle(\n",
        "  [[-114.85, 36.05], [-114.65, 36.20]]\n",
        ")\n",
        "\n",
        "# This is the image you will classify (img)\n",
        "img = ee.Image('LANDSAT/LC08/C02/T1_TOA/LC08_039035_20150724').clip(AOI)"
      ],
      "metadata": {
        "id": "EIF3ccsQwp1v"
      },
      "execution_count": null,
      "outputs": []
    },
    {
      "cell_type": "code",
      "source": [
        "Map = geemap.Map()\n",
        "Map.addLayer(img, {'ban'})\n",
        "Map"
      ],
      "metadata": {
        "id": "unGyu2oLMn4y"
      },
      "execution_count": null,
      "outputs": []
    },
    {
      "cell_type": "code",
      "source": [
        "# Export this image into xarray format (B1-B7)\n",
        "bands = ['B1', 'B2', 'B3', 'B4', 'B5', 'B6', 'B7']\n",
        "arr = img.select(bands).wx.to_xarray(scale = 30, crs = \"EPSG:32611\", progress = True)"
      ],
      "metadata": {
        "id": "3KVV6LU4yd_C"
      },
      "execution_count": null,
      "outputs": []
    }
  ]
}