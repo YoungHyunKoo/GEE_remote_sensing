{
  "nbformat": 4,
  "nbformat_minor": 0,
  "metadata": {
    "colab": {
      "provenance": [],
      "toc_visible": true,
      "include_colab_link": true
    },
    "kernelspec": {
      "name": "python3",
      "display_name": "Python 3"
    },
    "language_info": {
      "name": "python"
    }
  },
  "cells": [
    {
      "cell_type": "markdown",
      "metadata": {
        "id": "view-in-github",
        "colab_type": "text"
      },
      "source": [
        "<a href=\"https://colab.research.google.com/github/YoungHyunKoo/GEE_remote_sensing/blob/main/Week3/3_1_Math_Operations.ipynb\" target=\"_parent\"><img src=\"https://colab.research.google.com/assets/colab-badge.svg\" alt=\"Open In Colab\"/></a>"
      ]
    },
    {
      "cell_type": "markdown",
      "source": [
        "### **[GEO 6083] Remote Sensing Imge Processing - Spring 2024**\n",
        "# **WEEK 3-1. Math opereations**\n",
        "\n",
        "### OBJECTIVES\n",
        "1. Undestand and calculate NDVI and other indices.\n",
        "2. Calculate regional statistics.\n",
        "3. Apply terrain functions to elevation data.\n",
        "\n",
        "Credited by Younghyun Koo (kooala317@gmail.com)\n"
      ],
      "metadata": {
        "id": "spgKDXRFKukv"
      }
    },
    {
      "cell_type": "markdown",
      "source": [
        "## **1. Calculate NDVI**\n",
        "\n",
        "## How do math operations (or functions) work in GEE?\n",
        "Earth Engine supports many basic mathmatical operators (e.g. `add`, `subtract`, `multiply`, `divide`, etc.). Earth Engine performs these math operators by pixel. When an operator is applied to a single image, it's applied to pixels of each band. In the case of operations on two different images, the operation is only applied at the location where pixels in both images are unmasked. When an operator is applied to two images, the images are expected to have the same number of bands and spatial resolutions so they can be matched pairwise. However, if one of the images has only a single band, it is matched with all of the bands in the other image, essentially replicating that band enough time to match the other image."
      ],
      "metadata": {
        "id": "a2ueCQDcLDHW"
      }
    },
    {
      "cell_type": "markdown",
      "source": [
        "### **Import image collections**"
      ],
      "metadata": {
        "id": "g-I7w1rWZvK1"
      }
    },
    {
      "cell_type": "code",
      "source": [
        "# Import ee library\n",
        "import ee\n",
        "\n",
        "# Authenticate\n",
        "ee.Authenticate()\n",
        "\n",
        "# Initialize with your own project.\n",
        "ee.Initialize(project = \"utsa-spring2024\")"
      ],
      "metadata": {
        "id": "YVOBeRzgLBj-"
      },
      "execution_count": null,
      "outputs": []
    },
    {
      "cell_type": "code",
      "source": [
        "# Import geemap library\n",
        "import geemap\n",
        "\n",
        "# Import os library\n",
        "import os"
      ],
      "metadata": {
        "id": "AIlkKXylLseO"
      },
      "execution_count": null,
      "outputs": []
    },
    {
      "cell_type": "markdown",
      "source": [
        "Let's import a image collection for a specific region and time we are interested in. Also, we will filter out the images with cloud covers less than 10 %. We already did how to filter out an image collection using `filterDate`, `filterBounds`, and `filterMetadata` functions."
      ],
      "metadata": {
        "id": "V78fk5ySXfNP"
      }
    },
    {
      "cell_type": "code",
      "source": [
        "# Import image collection - Landsat 8 top of atmosphere reflectance\n",
        "L8 = ee.ImageCollection('LANDSAT/LC08/C02/T1_TOA') \\\n",
        "    .filterDate('2020-01-01', '2020-12-31') \\\n",
        "    .filterBounds(ee.Geometry.Point(-122.4488, 37.7589)) \\\n",
        "    .filterMetadata('CLOUD_COVER', 'less_than', 10) \\\n",
        "    .sort(\"CLOUD_COVER\")"
      ],
      "metadata": {
        "id": "8yCvw8VErivs"
      },
      "execution_count": null,
      "outputs": []
    },
    {
      "cell_type": "code",
      "source": [
        "# First image of the L8 image collection\n",
        "image = L8.first()"
      ],
      "metadata": {
        "id": "5Zkrozhm8Rtx"
      },
      "execution_count": null,
      "outputs": []
    },
    {
      "cell_type": "code",
      "source": [
        "# Load a geemap\n",
        "Map = geemap.Map()\n",
        "\n",
        "# image visualization factors\n",
        "vis_param = {'min': 0,\n",
        "             'max': 0.2,\n",
        "             'bands': ['B4', 'B3', 'B2'],\n",
        "             'gamma': 1.0}\n",
        "\n",
        "# Just in case of surface reflectance image\n",
        "# vis_param = {'min': 0,\n",
        "#              'max': 15000,\n",
        "#              'bands': ['SR_B4', 'SR_B3', 'SR_B2'],\n",
        "#              'gamma': 0.5}\n",
        "\n",
        "Map.addLayer(image, vis_param, \"First image\")\n",
        "Map.centerObject(image, 8)\n",
        "\n",
        "Map"
      ],
      "metadata": {
        "id": "LSUQQmQiYH69"
      },
      "execution_count": null,
      "outputs": []
    },
    {
      "cell_type": "markdown",
      "source": [
        "### **Use functions**"
      ],
      "metadata": {
        "id": "U_c4K_gR4ELg"
      }
    },
    {
      "cell_type": "markdown",
      "source": [
        "This is an image around San Francisco area. Now let's explore some band information of this image."
      ],
      "metadata": {
        "id": "Cv9udagDyopf"
      }
    },
    {
      "cell_type": "code",
      "source": [
        "# Band information as a list of dictinoary\n",
        "image.getInfo()['bands']"
      ],
      "metadata": {
        "id": "AYQY6nFKu--w"
      },
      "execution_count": null,
      "outputs": []
    },
    {
      "cell_type": "markdown",
      "source": [
        "Please find more details of Landsat 8 image via this link: [Landsat 8 TOA Reflectance](https://developers.google.com/earth-engine/datasets/catalog/LANDSAT_LC08_C02_T1_TOA)"
      ],
      "metadata": {
        "id": "OUh-Wm4Py49w"
      }
    },
    {
      "cell_type": "markdown",
      "source": [
        "Now we calculate NDVI (Normalized Difference Vegetation Index) from this image. NDVI quantified vegetation by measuring the difference between near-infrared (which vegetation strongly reflects) and red light (which vegetation absorbs). For more details about NDVI, please visit this website: [link](https://earthobservatory.nasa.gov/features/MeasuringVegetation/measuring_vegetation_2.php). NDVI ranges from -1 to 1.\n",
        "\n",
        "<img src=\"https://ece.montana.edu/seniordesign/archive/SP15/OpticalWeedMapping/uploads/4/9/2/7/49273335/1429843234.png\" width=\"400\">"
      ],
      "metadata": {
        "id": "oGPEZwEgPK3w"
      }
    },
    {
      "cell_type": "markdown",
      "source": [
        "For Landsat 8 images, Band 5 is NIR band and Band 4 is red band. We will use these badns to calculate NDVI."
      ],
      "metadata": {
        "id": "--ovr2DM0ZBU"
      }
    },
    {
      "cell_type": "code",
      "source": [
        "# Select NIR and Red band for NDVI\n",
        "NIR = image.select('B5') # NIR band\n",
        "Red = image.select('B4') # Red band\n",
        "Blue = image.select('B2') # Blue band"
      ],
      "metadata": {
        "id": "lARF5jof0qkC"
      },
      "execution_count": null,
      "outputs": []
    },
    {
      "cell_type": "markdown",
      "source": [
        "Now, from these selected NIR and Red bands, we will calculate NDVI by using `subtract`, `divide`, and `add` functions."
      ],
      "metadata": {
        "id": "xNT923Hp0_bD"
      }
    },
    {
      "cell_type": "code",
      "source": [
        "# Calculate NDVI\n",
        "NDVI = NIR.subtract(Red).divide(NIR.add(Red))"
      ],
      "metadata": {
        "id": "x6vYJFLU0hsT"
      },
      "execution_count": null,
      "outputs": []
    },
    {
      "cell_type": "markdown",
      "source": [
        "Do you understand how these operator work? All of these functions are applied sequentially (i.e., `subtract` &rarr; `divde`), but `add` inside the parentheses is run before `divide` is calculated.\n",
        "\n",
        "(1) Substract Red image from NIR image\n",
        "\n",
        "(2) Add Red image to NIR image\n",
        "\n",
        "(3) The image from (1) is divided by the image from (2)\n"
      ],
      "metadata": {
        "id": "N_8DRXiG1N_0"
      }
    },
    {
      "cell_type": "code",
      "source": [
        "palette = ['red', 'white', 'green']\n",
        "\n",
        "# Map = geemap.Map()\n",
        "Map.addLayer(NDVI, {'min': -1, 'max': 1, 'palette': palette}, \"NDVI\")\n",
        "Map.centerObject(image, 8)\n",
        "Map"
      ],
      "metadata": {
        "id": "zQOWf_d11RlT"
      },
      "execution_count": null,
      "outputs": []
    },
    {
      "cell_type": "markdown",
      "source": [
        "On the above map, green color indicates vegetation area. The more green color it appears, the more or healthier vegetation covers are there."
      ],
      "metadata": {
        "id": "qx7HSQF-2luH"
      }
    },
    {
      "cell_type": "markdown",
      "source": [
        "***DO IT YOURSELF!!***\n",
        "- Although NDVI is the most popular vegetation index, there are various vegetation indices beside NDVI. Among them, EVI (Enhanced Vegetation Index)corrects for some atmospheric conditions and canopy background noise, which is more sensitive in areas with dense vegetation. Please visit this website to see how to calculate EVI from Landsat 8 images: [EVI](https://www.usgs.gov/landsat-missions/landsat-enhanced-vegetation-index#:~:text=Landsat%20Enhanced%20Vegetation%20Index%20(EVI,in%20areas%20with%20dense%20vegetation.)\n",
        "\n",
        "![image.png](data:image/png;base64,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)\n",
        "\n",
        "- For the same image above, calculate EVI and map it. Can you see any difference between EVI and NDVI?"
      ],
      "metadata": {
        "id": "PlYyjY1PDiLa"
      }
    },
    {
      "cell_type": "code",
      "source": [
        "## Calculate and visualize EVI here...\n",
        "EVI = NIR.subtract(Red).divide(NIR.add(Red.multiply(6).subtract(Blue.multiply(7.5).add(1)))).multiply(2.5)"
      ],
      "metadata": {
        "id": "5IZHIX5r3skG"
      },
      "execution_count": null,
      "outputs": []
    },
    {
      "cell_type": "markdown",
      "source": [
        "### **Use Expressions**\n",
        "\n",
        "So far, we use very brief operations, such as add, subtract, multiply, divide. However, some mathmetical equations can be more complicating and long to obtain any information you want to get. Therefore, to implement more complex mathematical expressions, it may be more convenient to use image.expression(), which parses a text representation of a math operation. The following example uses expression() to compute the Enhanced Vegetation Index (EVI):"
      ],
      "metadata": {
        "id": "AXNrcby147do"
      }
    },
    {
      "cell_type": "code",
      "source": [
        "# Compute the EVI using an expression.\n",
        "EVI = image.expression(\n",
        "    '2.5 * ((NIR - RED) / (NIR + 6 * RED - 7.5 * BLUE + 1))', {\n",
        "      'NIR': image.select('B5'),\n",
        "      'RED': image.select('B4'),\n",
        "      'BLUE': image.select('B2')\n",
        "})\n",
        "\n",
        "# Map = geemap.Map()\n",
        "Map.addLayer(EVI, {'min': -1, 'max': 1, 'palette': palette}, 'EVI')\n",
        "Map"
      ],
      "metadata": {
        "id": "sDq2P7YU4gGv"
      },
      "execution_count": null,
      "outputs": []
    },
    {
      "cell_type": "markdown",
      "source": [
        "As you can see in the previous cell, expression requires a few arguments\n",
        "\n",
        "(1) Textual representation of the math operation: `2.5 * ((NIR - RED) / (NIR + 6 * RED - 7.5 * BLUE + 1))`\n",
        "\n",
        "(2) Dictionary where the keys are variable names used in the expression and the values are the image bands to which the variables should be mapped: `{'NIR': image.select('B5'), 'RED': image.select('B4'), 'BLUE': image.select('B2')}`"
      ],
      "metadata": {
        "id": "LAzHacra5kmT"
      }
    },
    {
      "cell_type": "markdown",
      "source": [
        "***DO IT YOURSELF!!***\n",
        "- You can see some other indices as well in this website: [Remote Sensing Indices](https://medium.com/regen-network/remote-sensing-indices-389153e3d947). Please try and visualize any index you want to calculate using expressions."
      ],
      "metadata": {
        "id": "0Gb5cBbM6i2q"
      }
    },
    {
      "cell_type": "code",
      "source": [
        "# Try your own index here\n"
      ],
      "metadata": {
        "id": "RKAu_KWDmk-I"
      },
      "execution_count": null,
      "outputs": []
    },
    {
      "cell_type": "markdown",
      "source": [
        "## **2. Calculation between different images**\n",
        "\n",
        "So far, we learn how to implement mathmatical operations for a single image to calculate vegetation indices. But we can also apply this mathmatical operations for two or more different images. For example, if you want to see how vegetation has changed between two different dates, you can calculate the differences of NDVI for these two images. Here, in this practice, you will calculate the difference of NDVI for two different dates. We are using another dataset named MODIS. Although MODIS has a coarse resoltuion (500 m - 1 km) compared to Landsat, it provides global scale observations for a large area with a daily time scale. The daily NDVI data from MODIS is available in GEE (16-days average). Please see the details of this dataset via this link: [MODIS Terra NDVI](https://developers.google.com/earth-engine/datasets/catalog/MODIS_006_MOD13A1#bands)"
      ],
      "metadata": {
        "id": "hJreWSPz6i6y"
      }
    },
    {
      "cell_type": "code",
      "source": [
        "# First NDVI image from winter (Jan 2020)\n",
        "modis = ee.ImageCollection(\"MODIS/006/MOD13A1\").filterDate('2020-01-01', '2020-01-31');\n",
        "\n",
        "ndvi1 = modis.select('NDVI').mean().multiply(0.0001);\n",
        "# multiply scale factor (0.0001) because the NDVI value of MODIS data ranges 0-10000"
      ],
      "metadata": {
        "id": "5e7Wo17ssFwy"
      },
      "execution_count": null,
      "outputs": []
    },
    {
      "cell_type": "code",
      "source": [
        "# Second NDVI image from summer (Jul 2020)\n",
        "modis = ee.ImageCollection(\"MODIS/006/MOD13A1\").filterDate('2020-07-01', '2020-07-31');\n",
        "\n",
        "ndvi2 = modis.select('NDVI').mean().multiply(0.0001);\n",
        "# multiply scale factor (0.0001) because the NDVI value of MODIS data ranges 0-10000"
      ],
      "metadata": {
        "id": "YtPWNyTkvWFb"
      },
      "execution_count": null,
      "outputs": []
    },
    {
      "cell_type": "code",
      "source": [
        "Map = geemap.Map()\n",
        "\n",
        "Map.addLayer(ndvi1, {'min': -1, 'max': 1, 'palette': ['blue', 'white', 'green']}, \"NDVI1\")\n",
        "Map.setCenter(-74, 40, 8);\n",
        "\n",
        "Map"
      ],
      "metadata": {
        "id": "DQn-Kt6QsIgK"
      },
      "execution_count": null,
      "outputs": []
    },
    {
      "cell_type": "code",
      "source": [
        "Map = geemap.Map()\n",
        "\n",
        "Map.addLayer(ndvi2, {'min': -1, 'max': 1, 'palette': ['blue', 'white', 'green']}, \"NDVI2\")\n",
        "Map.setCenter(-74, 40, 8);\n",
        "\n",
        "Map"
      ],
      "metadata": {
        "id": "6HUXqCHYw3ZN"
      },
      "execution_count": null,
      "outputs": []
    },
    {
      "cell_type": "code",
      "source": [
        "# Calculate difference of NDVI\n",
        "ndvi_diff = ndvi2.subtract(ndvi1) # NDVI2 - NDVI1 -> changes of NDVI from Jan to Jul"
      ],
      "metadata": {
        "id": "ojBkGUtkyH4A"
      },
      "execution_count": null,
      "outputs": []
    },
    {
      "cell_type": "code",
      "source": [
        "Map = geemap.Map()\n",
        "\n",
        "Map.addLayer(ndvi_diff, {'min': -0.5, 'max': 0.5, 'palette': ['blue', 'white', 'red']}, \"NDVI2\")\n",
        "Map.setCenter(-74, 40, 8);\n",
        "\n",
        "Map"
      ],
      "metadata": {
        "id": "OV0v8cZ7yFx5"
      },
      "execution_count": null,
      "outputs": []
    },
    {
      "cell_type": "markdown",
      "source": [
        "Please note that the `ndvi1` and `ndvi2` images have the same extent and spatial resolutions (from the same sensor)."
      ],
      "metadata": {
        "id": "5i7aL-z9y2YJ"
      }
    },
    {
      "cell_type": "markdown",
      "source": [
        "## **3. Get image statistcis by region**"
      ],
      "metadata": {
        "id": "tTeRlGRwn5V8"
      }
    },
    {
      "cell_type": "markdown",
      "source": [
        "You are also able to calculate the statistics of image for a certain region of interst. Here we will calculate the NDVI values for a certain state/county and compare each state and county.\n",
        "\n",
        "- US Census 2018 states data [LINK](https://developers.google.com/earth-engine/datasets/catalog/TIGER_2018_States)\n",
        "- US Census 2018 counties data: [LINK](https://developers.google.com/earth-engine/datasets/catalog/TIGER_2018_Counties#table-schema)"
      ],
      "metadata": {
        "id": "6id_-WAbrUyz"
      }
    },
    {
      "cell_type": "code",
      "source": [
        "# See state feature collection\n",
        "states = ee.FeatureCollection('TIGER/2018/States').filter(ee.Filter.lt(\"REGION\", \"9\"))\n",
        "# filter 50 states + DC\n",
        "\n",
        "Map = geemap.Map()\n",
        "\n",
        "Map.addLayer(states)\n",
        "Map.centerObject(states, 4)\n",
        "Map"
      ],
      "metadata": {
        "id": "EEjUpafDYL7O"
      },
      "execution_count": null,
      "outputs": []
    },
    {
      "cell_type": "code",
      "source": [
        "# Feature collection to pandas table\n",
        "states_table = geemap.ee_to_df(states)\n",
        "\n",
        "states_table"
      ],
      "metadata": {
        "id": "4CT6DKehJWY5"
      },
      "execution_count": null,
      "outputs": []
    },
    {
      "cell_type": "code",
      "source": [
        "# See Texas state feature\n",
        "Texas = ee.FeatureCollection('TIGER/2018/States').filter(ee.Filter.eq(\"STATEFP\", \"48\"))\n",
        "\n",
        "Map = geemap.Map()\n",
        "\n",
        "Map.addLayer(Texas)\n",
        "Map.centerObject(Texas, 6)\n",
        "Map"
      ],
      "metadata": {
        "id": "mZkdIEHSrQFs"
      },
      "execution_count": null,
      "outputs": []
    },
    {
      "cell_type": "code",
      "source": [
        "# US contiguous states\n",
        "continguous = states.filter(ee.Filter.neq(\"STUSPS\", \"AK\")).filter(ee.Filter.neq(\"STUSPS\", \"HI\"))\n",
        "Map = geemap.Map()\n",
        "\n",
        "Map.addLayer(continguous)\n",
        "Map.centerObject(continguous, 4)\n",
        "Map"
      ],
      "metadata": {
        "id": "J9p7vSF1IfOu"
      },
      "execution_count": null,
      "outputs": []
    },
    {
      "cell_type": "code",
      "source": [
        "# See Texas counties feature collection\n",
        "counties_TX = ee.FeatureCollection('TIGER/2018/Counties').filter(ee.Filter.eq(\"STATEFP\", \"48\"))\n",
        "\n",
        "Map = geemap.Map()\n",
        "\n",
        "Map.addLayer(counties_TX)\n",
        "Map.centerObject(counties_TX, 6)\n",
        "Map"
      ],
      "metadata": {
        "id": "mvo3PIaBsSR1"
      },
      "execution_count": null,
      "outputs": []
    },
    {
      "cell_type": "code",
      "source": [
        "# See Bexar county feature collection\n",
        "Bexar = ee.FeatureCollection('TIGER/2018/Counties').filter(ee.Filter.eq(\"NAME\", \"Bexar\"))\n",
        "\n",
        "Map = geemap.Map()\n",
        "\n",
        "Map.addLayer(Bexar)\n",
        "Map.centerObject(Bexar, 8)\n",
        "Map"
      ],
      "metadata": {
        "id": "NK6yKHW6sbMd"
      },
      "execution_count": null,
      "outputs": []
    },
    {
      "cell_type": "markdown",
      "source": [
        "### **Reduceregion**\n",
        "\n",
        "Now we will use `reduceRegion` function to extract the mean NDVI of Texas. [reduceRegion](https://developers.google.com/earth-engine/apidocs/ee-image-reduceregion)"
      ],
      "metadata": {
        "id": "w9NLnY7rfwLE"
      }
    },
    {
      "cell_type": "code",
      "source": [
        "ndvi = ee.Image('MODIS/006/MOD13A1/2018_06_10').select(\"NDVI\").multiply(0.0001)\n",
        "\n",
        "ndvi_TX = ndvi.reduceRegion(\n",
        "    geometry = Texas.geometry(),\n",
        "    reducer = ee.Reducer.mean(),\n",
        "    scale = 1000,\n",
        "    maxPixels = 1e9\n",
        ")\n",
        "\n",
        "# Output of reduceRegion: ee.dictionary\n",
        "print(ndvi_TX.getInfo()['NDVI'])"
      ],
      "metadata": {
        "id": "tJwdscVltovM"
      },
      "execution_count": null,
      "outputs": []
    },
    {
      "cell_type": "markdown",
      "source": [
        "We can do the same thing for the Bexar County."
      ],
      "metadata": {
        "id": "Yfi_eg02fApn"
      }
    },
    {
      "cell_type": "code",
      "source": [
        "ndvi = ee.Image('MODIS/006/MOD13A1/2018_06_10').select(\"NDVI\").multiply(0.0001)\n",
        "\n",
        "# reduceRegion function for Bexar County\n",
        "ndvi_Bexar = ndvi.reduceRegion(\n",
        "    geometry = Bexar.geometry(),\n",
        "    reducer = ee.Reducer.mean(),\n",
        "    scale = 1000,\n",
        "    maxPixels = 1e9 # The maximum number of pixels to reduce (should be large enough to cover the entire Bexar County).\n",
        ")\n",
        "\n",
        "# Output of reduceRegion: ee.dictionary\n",
        "print(ndvi_Bexar.getInfo()['NDVI'])"
      ],
      "metadata": {
        "id": "DQsfd6FUsrPW"
      },
      "execution_count": null,
      "outputs": []
    },
    {
      "cell_type": "markdown",
      "source": [
        "### **Reduceregions**\n",
        "\n",
        "If you want to compare multiple features in the feature collection, we can use `reduceRegions` function. [reduceRegions](https://developers.google.com/earth-engine/apidocs/ee-image-reduceregions) This function will allow us to extract the reduce results for multiple states or counties."
      ],
      "metadata": {
        "id": "vhKj7mbqf6BW"
      }
    },
    {
      "cell_type": "code",
      "source": [
        "# reduceRegions function: multiple continguous states\n",
        "ndvi_states = ndvi.reduceRegions(\n",
        "    collection = continguous,\n",
        "    reducer = ee.Reducer.mean(),\n",
        "    scale = 1000\n",
        ")\n",
        "\n",
        "# Output of reduceRegions: feature collection\n",
        "# Convert the reduceregions result into pandas dataframe\n",
        "df_ndvi_states = geemap.ee_to_gdf(ndvi_states)\n",
        "df_ndvi_states.head(10)"
      ],
      "metadata": {
        "id": "Go2zVC5xoPhE"
      },
      "execution_count": null,
      "outputs": []
    },
    {
      "cell_type": "code",
      "source": [
        "# reduceRegions function: multiple counties\n",
        "ndvi_counties = ndvi.reduceRegions(\n",
        "    collection = counties_TX,\n",
        "    reducer = ee.Reducer.mean(),\n",
        "    scale = 1000\n",
        ")\n",
        "\n",
        "# Output of reduceRegions: feature collection\n",
        "df_ndvi_counties = geemap.ee_to_df(ndvi_counties)\n",
        "df_ndvi_counties.head(10)"
      ],
      "metadata": {
        "id": "itv1QMuPoXTz"
      },
      "execution_count": null,
      "outputs": []
    },
    {
      "cell_type": "code",
      "source": [
        "# Check the information for Bexar County\n",
        "df_ndvi_counties[df_ndvi_counties[\"NAME\"] == \"Bexar\"]"
      ],
      "metadata": {
        "id": "bdW3Bp1DpvRo"
      },
      "execution_count": null,
      "outputs": []
    },
    {
      "cell_type": "markdown",
      "source": [
        "Now let's do the same thing for the MODIS land surface temperature data. [MODIS Terra Land Surface Temperature and Emissivity 8-Day Global 1km ](https://developers.google.com/earth-engine/datasets/catalog/MODIS_061_MOD11A2)"
      ],
      "metadata": {
        "id": "GILVL-fHgsKt"
      }
    },
    {
      "cell_type": "code",
      "source": [
        "# Land surface temperature on June 10, 2018\n",
        "temp = ee.Image(\"MODIS/061/MOD11A2/2018_06_10\").select(\"LST_Day_1km\").multiply(0.02)\n",
        "# Multiply 0.02 to convert DN to K\n",
        "\n",
        "# Multiple states\n",
        "temp_states = temp.reduceRegions(\n",
        "    collection = continguous,\n",
        "    reducer = ee.Reducer.mean(),\n",
        "    scale = 1000\n",
        ")\n",
        "\n",
        "# Output of reduceRegions: feature collection\n",
        "df_temp_states = geemap.ee_to_df(temp_states)\n",
        "df_temp_states.head(10)"
      ],
      "metadata": {
        "id": "3OQo8aNDYMfF"
      },
      "execution_count": null,
      "outputs": []
    },
    {
      "cell_type": "code",
      "source": [
        "# Multiple counties\n",
        "temp_counties = temp.reduceRegions(\n",
        "    collection = counties_TX,\n",
        "    reducer = ee.Reducer.mean(),\n",
        "    scale = 1000\n",
        ")\n",
        "\n",
        "# Output of reduceRegions: feature collection\n",
        "df_temp_counties = geemap.ee_to_df(temp_counties)\n",
        "df_temp_counties.head(10)"
      ],
      "metadata": {
        "id": "Qpp0XWBsv0TO"
      },
      "execution_count": null,
      "outputs": []
    },
    {
      "cell_type": "markdown",
      "source": [
        "### **Plot the relationship with NDVI v. temperature**\n",
        "\n",
        "From this result, let's draw a plot to compare the relationships between NDVI and surface temperature."
      ],
      "metadata": {
        "id": "bKlhgZPKwu6_"
      }
    },
    {
      "cell_type": "code",
      "source": [
        "import matplotlib.pyplot as plt"
      ],
      "metadata": {
        "id": "BQ37WIiUwzZO"
      },
      "execution_count": null,
      "outputs": []
    },
    {
      "cell_type": "code",
      "source": [
        "plt.scatter(df_ndvi_counties['mean'], df_temp_counties['mean'])\n",
        "plt.xlabel(\"NDVI\")\n",
        "plt.ylabel(\"Temperature (K)\")\n",
        "plt.title(\"NDVI v. Temperature for TX counties\")"
      ],
      "metadata": {
        "id": "NIRdaBkIwqNe"
      },
      "execution_count": null,
      "outputs": []
    },
    {
      "cell_type": "markdown",
      "source": [
        "On the above scater plot, each point represent NDVI and LST for each county in Texas."
      ],
      "metadata": {
        "id": "AT7GbeYVhZp9"
      }
    },
    {
      "cell_type": "code",
      "source": [
        "plt.scatter(df_ndvi_states['mean'], df_temp_states['mean'])\n",
        "plt.ylabel(\"Temperature (K)\")\n",
        "plt.xlabel(\"NDVI\")\n",
        "plt.title(\"NDVI v. Temperature for US states\")\n",
        "\n",
        "# Add annotation of state names on the scatter plot\n",
        "for i in range(len(df_ndvi_states)):\n",
        "  plt.text(df_ndvi_states['mean'][i], df_temp_states['mean'][i], df_temp_states['STUSPS'][i])"
      ],
      "metadata": {
        "id": "y056E5zoxIyW"
      },
      "execution_count": null,
      "outputs": []
    },
    {
      "cell_type": "markdown",
      "source": [
        "Now let's draw the scatter plot between latitude and temperature to see if these two variables have any significant correlations."
      ],
      "metadata": {
        "id": "JvpYwSE6hpU0"
      }
    },
    {
      "cell_type": "code",
      "source": [
        "from scipy import stats\n",
        "import numpy as np\n",
        "\n",
        "res = stats.linregress(df_temp_states['INTPTLAT'].astype(float), df_temp_states['mean'])\n",
        "res"
      ],
      "metadata": {
        "id": "biNBNU-FAB23"
      },
      "execution_count": null,
      "outputs": []
    },
    {
      "cell_type": "code",
      "source": [
        "a = res.slope\n",
        "b = res.intercept"
      ],
      "metadata": {
        "id": "7j2-fiPEBodB"
      },
      "execution_count": null,
      "outputs": []
    },
    {
      "cell_type": "code",
      "source": [
        "# Convert datatype of latitude field (str -> float)\n",
        "df_temp_states['INTPTLAT'] = df_temp_states['INTPTLAT'].astype(float)\n",
        "\n",
        "plt.scatter(df_temp_states['INTPTLAT'], df_temp_states['mean'])\n",
        "plt.xlabel(\"Latitude\")\n",
        "plt.ylabel(\"Temperature (K)\")\n",
        "\n",
        "# Linear regression line\n",
        "x = np.arange(df_temp_states['INTPTLAT'].min(), df_temp_states['INTPTLAT'].max()+2)\n",
        "plt.plot(x, a*x + b, color = 'k', ls = \"--\")\n",
        "\n",
        "plt.title(\"NDVI v. Temperature for US states\")\n",
        "\n",
        "# Indicate the name of each state\n",
        "for i, txt in enumerate(df_temp_states['STUSPS']):\n",
        "    plt.annotate(txt, (df_temp_states['INTPTLAT'][i], df_temp_states['mean'][i]))"
      ],
      "metadata": {
        "id": "lJj9yYox1yW_"
      },
      "execution_count": null,
      "outputs": []
    },
    {
      "cell_type": "markdown",
      "source": [
        "## **4. Terrain Mapping**\n",
        "\n",
        "Another very useful image data we can access in GEE is elevation data. We can also apply some mathmatical functions to these topographical data. We will use a very popular elevation data named SRTM: [SRTM Digital Elevation Data](https://developers.google.com/earth-engine/datasets/catalog/CGIAR_SRTM90_V4)"
      ],
      "metadata": {
        "id": "G_uFHItY0akV"
      }
    },
    {
      "cell_type": "code",
      "source": [
        "# Import SRTM data\n",
        "srtm = ee.Image('CGIAR/SRTM90_V4')"
      ],
      "metadata": {
        "id": "LCx9e-FF0Wju"
      },
      "execution_count": null,
      "outputs": []
    },
    {
      "cell_type": "markdown",
      "source": [
        "From the elevation data, we can two important terrain factors: (1) Slope [Slope function](https://developers.google.com/earth-engine/apidocs/ee-terrain-slope) and (2) Aspect [Aspect function](https://developers.google.com/earth-engine/apidocs/ee-terrain-aspect). Please watch this video to understand what they mean and how to derive these parameters from DEM. [Video: Slope and Aspect](https://www.youtube.com/watch?time_continue=129&v=_pbFnznqRAk&feature=emb_logo)"
      ],
      "metadata": {
        "id": "CtsnflBeRSqF"
      }
    },
    {
      "cell_type": "code",
      "source": [
        "# Calculate slope from the terrain data\n",
        "slope = ee.Terrain.slope(srtm)\n",
        "\n",
        "# Calculate aspect from the terrain data\n",
        "aspect = ee.Terrain.aspect(srtm)\n",
        "\n",
        "Map = geemap.Map()\n",
        "\n",
        "Map.addLayer(aspect, {'min': 0, 'max': 360}, \"Aspect\")\n",
        "Map"
      ],
      "metadata": {
        "id": "o5PnaXTb1rbG"
      },
      "execution_count": null,
      "outputs": []
    },
    {
      "cell_type": "markdown",
      "source": [
        "***DO IT YOURSELF!!***\n",
        "- By default, the slope is calculated as \"degree\", and the aspect is also calculated as \"degree\". Can you convert the slope into percentage (tangent percentage) and aspect into radians?\n",
        "- Hint: use `tan` function for slope and `divide` or `multiply` for aspect."
      ],
      "metadata": {
        "id": "DUnVx0oJS5s1"
      }
    },
    {
      "cell_type": "code",
      "source": [
        "Map = geemap.Map()\n",
        "\n",
        "Map.addLayer(srtm, {'min': 0, 'max': 1000}, \"Elevation\")\n",
        "Map.setCenter(-74, 40, 8);\n",
        "\n",
        "Map"
      ],
      "metadata": {
        "id": "CvP4N4PS1wQG"
      },
      "execution_count": null,
      "outputs": []
    },
    {
      "cell_type": "code",
      "source": [
        "Map.addLayer(slope, {'max': 10}, \"Slope\")\n",
        "Map.setCenter(-74, 40, 8);\n",
        "\n",
        "Map"
      ],
      "metadata": {
        "id": "g6FesaeMyA7k"
      },
      "execution_count": null,
      "outputs": []
    },
    {
      "cell_type": "code",
      "source": [
        "Map.addLayer(aspect, {}, \"Aspect\")\n",
        "Map.setCenter(-74, 40, 8);\n",
        "\n",
        "Map"
      ],
      "metadata": {
        "id": "VeWMMEsa12W3"
      },
      "execution_count": null,
      "outputs": []
    },
    {
      "cell_type": "markdown",
      "source": [
        "## **References**\n",
        "- https://geemap.org/tutorials/#geemap-tutorials\n",
        "- https://developers.google.com/earth-engine/apidocs/ee-image-reduceregions"
      ],
      "metadata": {
        "id": "lJ1eh1K50Kqj"
      }
    }
  ]
}