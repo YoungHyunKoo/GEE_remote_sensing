{
  "nbformat": 4,
  "nbformat_minor": 0,
  "metadata": {
    "colab": {
      "provenance": [],
      "authorship_tag": "ABX9TyOhpBK3Zzp/bOAymNQACwVR",
      "include_colab_link": true
    },
    "kernelspec": {
      "name": "python3",
      "display_name": "Python 3"
    },
    "language_info": {
      "name": "python"
    }
  },
  "cells": [
    {
      "cell_type": "markdown",
      "metadata": {
        "id": "view-in-github",
        "colab_type": "text"
      },
      "source": [
        "<a href=\"https://colab.research.google.com/github/YoungHyunKoo/GEE_remote_sensing/blob/main/Week3/3_Assignment.ipynb\" target=\"_parent\"><img src=\"https://colab.research.google.com/assets/colab-badge.svg\" alt=\"Open In Colab\"/></a>"
      ]
    },
    {
      "cell_type": "markdown",
      "source": [
        "### **[GEO 6083] Remote Sensing Imge Processing - Spring 2024**\n",
        "# **WEEK 1 Assignments**\n",
        "\n",
        "*** Due by 03/25/2024 (Mon) 06:00 pm ***\n",
        "\n",
        "### Submission instructions\n",
        "- Please copy this notebook in your Google Drive. (File > Save a copy in Drive)\n",
        "- Rename the notebook into ***2024_3_Assignments_LASTNAME***. Put your lastname.\n",
        "- Once you complete the tasks, please press the \"Share\" button on the top right corner. Change the \"General Access\" to ***Anyone with this link*** and ***Viewer***.\n",
        "- Press the \"Copy link\" button. Paste this link and submit to Canvas."
      ],
      "metadata": {
        "id": "aiIlOPRIElwe"
      }
    },
    {
      "cell_type": "markdown",
      "source": [
        "## **1. Task 1 (60 pts)**\n",
        "\n",
        "From August 2020 to November 2020, there was a large wildfire in Glenn County, CA.\n",
        "\n",
        "- Find a Landsat 8 image collection available for this location: latitude 39.71, longitude -122.69. **[5 pts]**\n",
        "- Find a imagery during the wildfire (i.e. August 2020 to November 2020) and visulize it on the map. Can you find any wildfire in that imagery? **[10 pts]**\n",
        "- Find Landsat 8 images before and after the wildfire, **but in the same month of two different years** (e.g. July 2020 and July 2021). Visualize them on the map as true color images. **[15 pts]**\n",
        "- For these two images, please calculate Normalized Burn Ratio (NBR) and visualize them on the map with appropriate palette option: [NBR](https://www.usgs.gov/landsat-missions/landsat-normalized-burn-ratio) **[15 pts]**\n",
        "- Calculate the difference in NBR. Can you identify burned area from the difference in NBR index? **[15 pts]**"
      ],
      "metadata": {
        "id": "xlvWswNS4Aui"
      }
    },
    {
      "cell_type": "code",
      "source": [],
      "metadata": {
        "id": "DtuarD-I9etT"
      },
      "execution_count": null,
      "outputs": []
    },
    {
      "cell_type": "markdown",
      "source": [
        "## **2. Task 2 (40 pts)**\n",
        "\n",
        "- What is the state FIPS code of Coloardo (CO)?\n",
        "- Calculate the mean elevation for all counties in Colorado using SRTM elevation data. **[15 pts]**\n",
        "\n",
        "[SRTM Digital Elevation Data](https://developers.google.com/earth-engine/datasets/catalog/CGIAR_SRTM90_V4)\n",
        "- Calculate the mean surface temperature for all CO counties on January 9, 2017 using MODIS surface temperature data. **[15 pts]**\n",
        "\n",
        "[MOD11A2.061 Terra Land Surface Temperature and Emissivity 8-Day Global 1km](https://developers.google.com/earth-engine/datasets/catalog/MODIS_061_MOD11A2)\n",
        "\n",
        "- Draw a scatter plot between the mean elevation and temperature for all CO counties. Do you find any significant trend between elevation and temperature? Why? **[10 pts]**\n"
      ],
      "metadata": {
        "id": "AESNiGNZEpeH"
      }
    },
    {
      "cell_type": "code",
      "source": [],
      "metadata": {
        "id": "P61uZNW84ADK"
      },
      "execution_count": null,
      "outputs": []
    }
  ]
}