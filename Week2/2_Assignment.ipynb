{
  "nbformat": 4,
  "nbformat_minor": 0,
  "metadata": {
    "colab": {
      "provenance": [],
      "include_colab_link": true
    },
    "kernelspec": {
      "name": "python3",
      "display_name": "Python 3"
    },
    "language_info": {
      "name": "python"
    }
  },
  "cells": [
    {
      "cell_type": "markdown",
      "metadata": {
        "id": "view-in-github",
        "colab_type": "text"
      },
      "source": [
        "<a href=\"https://colab.research.google.com/github/YoungHyunKoo/GEE_remote_sensing/blob/main/Week2/2_Assignment.ipynb\" target=\"_parent\"><img src=\"https://colab.research.google.com/assets/colab-badge.svg\" alt=\"Open In Colab\"/></a>"
      ]
    },
    {
      "cell_type": "markdown",
      "source": [
        "### **[GEO 6083] Remote Sensing Imge Processing - Spring 2024**\n",
        "# **WEEK 2 Assignments**\n",
        "\n",
        "*** Due by 03/18/2024 (Mon) 06:00 pm ***\n",
        "\n",
        "### Submission instructions\n",
        "- Please copy this notebook in your Google Drive. (File > Save a copy in Drive)\n",
        "- Rename the notebook into ***2024_2_Assignments_LASTNAME***. Put your lastname.\n",
        "- Once you complete the tasks, please press the \"Share\" button on the top right corner. Change the \"General Access\" to ***Anyone with this link*** and ***Viewer***.\n",
        "- Press the \"Copy link\" button. Paste this link and submit to Canvas."
      ],
      "metadata": {
        "id": "spgKDXRFKukv"
      }
    },
    {
      "cell_type": "markdown",
      "source": [
        "## **1. Task 1 (20 pts)**\n",
        "\n",
        "In the Google Earth Engine data catalogue ([Google Earth Engine Data Catalogue](https://developers.google.com/earth-engine/datasets)), find the following data sets. Please find the **spatial resolution** and **number of bands** of these data sets in the band information.\n",
        "\n",
        "(1) MYD11A1.061 MODIS Aqua Land Surface Temperature and Emissivity Daily Global\n",
        "\n",
        "(2) NASADEM\n",
        "\n",
        "(3) Sentinel-5P OFFL HCHO: Offline Formaldehyde\n",
        "\n",
        "(4) ERA5 Daily Aggregates"
      ],
      "metadata": {
        "id": "a2ueCQDcLDHW"
      }
    },
    {
      "cell_type": "code",
      "source": [
        "# Please write down your code here.\n"
      ],
      "metadata": {
        "id": "4SF-GZvsi35X"
      },
      "execution_count": null,
      "outputs": []
    },
    {
      "cell_type": "markdown",
      "source": [
        "## **2. Task 2 (30 pts)**\n",
        "\n",
        "Please import the **NASADEM** data around San Antonio area and visualize it on the map. Zoom into San Antonio area and describe the overall distribution of elevation over the San Antonio region. Please set the appropriate visualization parameters: adjust min/max elevation values and palette colors."
      ],
      "metadata": {
        "id": "2HugfX_6m3s1"
      }
    },
    {
      "cell_type": "code",
      "source": [
        "# Please write down your code here.\n"
      ],
      "metadata": {
        "id": "Mtar8uAjsI-4"
      },
      "execution_count": null,
      "outputs": []
    },
    {
      "cell_type": "markdown",
      "source": [
        "## **3. Task 3 (30 pts)**\n",
        "\n",
        "Find a Landsat 8 TOA imagery covering San Antonio city area. It can be any date, but this imagery should have a cloud cover less than 10 %. Please import and visualize the true color image on the map, and find the following image properties:\n",
        "\n",
        "(1) Landsat image ID\n",
        "\n",
        "(2) cloud cover\n",
        "\n",
        "(3) solar azimuth & zenith angle"
      ],
      "metadata": {
        "id": "KQKV6WRClvIS"
      }
    },
    {
      "cell_type": "code",
      "source": [
        "# Please write down your code here.\n"
      ],
      "metadata": {
        "id": "F_Q7W97vjVcE"
      },
      "execution_count": null,
      "outputs": []
    },
    {
      "cell_type": "markdown",
      "source": [
        "For the Landsat 8 imagery you found in the task 3, please visualize it with at least 3 false color band combinations in the below table:"
      ],
      "metadata": {
        "id": "5NSgsEtsq9fI"
      }
    },
    {
      "cell_type": "markdown",
      "source": [
        "## **4. Task 4 (20 pts)**\n",
        "\n",
        "For the Landsat 8 imagery you found in the task 3, please visualize it with at least 2 false color band combinations in the below table:\n",
        "\n",
        "| Applications | R, G, B combination |\n",
        "|:------------:|:---------------:|\n",
        "|  Urban       |   7, 6, 4  |\n",
        "|  Vegetation   |  5, 4, 3   |\n",
        "|  Agriculture  |  6, 5, 2  |\n",
        "|  Atmospheric Penetration   |   7, 6, 5   |\n",
        "|  Healthy Vegetation   |   5, 6, 2   |\n",
        "|  Land / Water  |   5, 6, 4   |\n",
        "|  Shortwave Infrared  |   7, 5, 4   |"
      ],
      "metadata": {
        "id": "BCRlLG3NskgO"
      }
    },
    {
      "cell_type": "code",
      "source": [
        "# Please write down your code here.\n"
      ],
      "metadata": {
        "id": "NZC9QNJbslD4"
      },
      "execution_count": null,
      "outputs": []
    }
  ]
}