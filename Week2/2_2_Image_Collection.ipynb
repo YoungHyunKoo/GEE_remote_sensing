{
  "nbformat": 4,
  "nbformat_minor": 0,
  "metadata": {
    "colab": {
      "provenance": [],
      "toc_visible": true,
      "include_colab_link": true
    },
    "kernelspec": {
      "name": "python3",
      "display_name": "Python 3"
    },
    "language_info": {
      "name": "python"
    }
  },
  "cells": [
    {
      "cell_type": "markdown",
      "metadata": {
        "id": "view-in-github",
        "colab_type": "text"
      },
      "source": [
        "<a href=\"https://colab.research.google.com/github/YoungHyunKoo/GEE_remote_sensing/blob/main/Week2/2_2_Image_Collection.ipynb\" target=\"_parent\"><img src=\"https://colab.research.google.com/assets/colab-badge.svg\" alt=\"Open In Colab\"/></a>"
      ]
    },
    {
      "cell_type": "markdown",
      "source": [
        "### **[GEO 6083] Remote Sensing Imge Processing - Spring 2024**\n",
        "# **WEEK 2-2. Image Collection**\n",
        "\n",
        "### OBJECTIVES\n",
        "1. Explore how an image collection is constructed.\n",
        "2.Use filter functions to ge the image collection of interest.\n",
        "3. Visualize image collections.\n",
        "\n",
        "Credited by Younghyun Koo (kooala317@gmail.com)\n",
        "\n",
        "## GEE Image collection\n",
        "An `ImageCollection` is a stack or sequence of images. An ImageCollection can be loaded by pasting an GEE asset ID into the ImageCollection constructor. In the data catalog [link](https://developers.google.com/earth-engine/datasets), you can find some IDs of ImageCollection. In this tutorial, you will be able to how to handle these image collections by temporal information (date and time), spatial information (latitude/longitude), and metadata (e.g. cloud covers)\n",
        "\n"
      ],
      "metadata": {
        "id": "spgKDXRFKukv"
      }
    },
    {
      "cell_type": "markdown",
      "source": [
        "## **1. Import an image collection**\n",
        "\n",
        "First, let's import and initialize `ee` library.\n"
      ],
      "metadata": {
        "id": "qo3nJX7_MO2H"
      }
    },
    {
      "cell_type": "code",
      "source": [
        "# Import ee library\n",
        "import ee\n",
        "\n",
        "# Authenticate\n",
        "ee.Authenticate()\n",
        "\n",
        "# Initialize with your own project.\n",
        "ee.Initialize(project = \"utsa-spring2024\")"
      ],
      "metadata": {
        "id": "AIlkKXylLseO"
      },
      "execution_count": null,
      "outputs": []
    },
    {
      "cell_type": "code",
      "source": [
        "import geemap"
      ],
      "metadata": {
        "id": "99cdsqVmf_GR"
      },
      "execution_count": null,
      "outputs": []
    },
    {
      "cell_type": "markdown",
      "source": [
        "We will import [USGS Landsat 8 Level 2, Collection 2, Tier 1 ](https://developers.google.com/earth-engine/datasets/catalog/LANDSAT_LC08_C02_T1_L2) image collection."
      ],
      "metadata": {
        "id": "cjnsBFOte00p"
      }
    },
    {
      "cell_type": "code",
      "source": [
        "# Import image collection - Landsat 8 surface reflectance\n",
        "collection = ee.ImageCollection('LANDSAT/LC08/C02/T1_L2')"
      ],
      "metadata": {
        "id": "8yCvw8VErivs"
      },
      "execution_count": null,
      "outputs": []
    },
    {
      "cell_type": "code",
      "source": [
        "# How many images are in the image collection?\n",
        "print(collection.size().getInfo())"
      ],
      "metadata": {
        "id": "njWdQnHfsTes"
      },
      "execution_count": null,
      "outputs": []
    },
    {
      "cell_type": "markdown",
      "source": [
        "There are more than 1.8 million images in this image collection. However, we don't need all of these images because they are from various locations over the world with very long time series (2013-present). Therefore, we need to filter out a specific date and location that we are interested in."
      ],
      "metadata": {
        "id": "oO0_eck-siMK"
      }
    },
    {
      "cell_type": "markdown",
      "source": [
        "### **Filter by dates**\n",
        "\n",
        "There is a function named `filterDate` to filter an image collection by a date range. You need to provide start and end day for this function. You can find the details of `filterDate` function here: [filterDate](https://developers.google.com/earth-engine/apidocs/ee-imagecollection-filterdate)"
      ],
      "metadata": {
        "id": "yE4MUP_ItGLa"
      }
    },
    {
      "cell_type": "code",
      "source": [
        "# ImageCollection.filterDate(start, end)\n",
        "collction = ee.ImageCollection('LANDSAT/LC08/C02/T1_L2').filterDate('2020-05-01', '2020-06-01')"
      ],
      "metadata": {
        "id": "kKa_qX_OtNWL"
      },
      "execution_count": null,
      "outputs": []
    },
    {
      "cell_type": "markdown",
      "source": [
        "**NOTE:** Start date is INCLUSIVE but end date is EXCLUSIVE."
      ],
      "metadata": {
        "id": "ux-b64STzV0w"
      }
    },
    {
      "cell_type": "code",
      "source": [
        "# Number of images in the filtered image collection\n",
        "print(collction.size().getInfo())"
      ],
      "metadata": {
        "id": "p8S8nq1_tSrU"
      },
      "execution_count": null,
      "outputs": []
    },
    {
      "cell_type": "markdown",
      "source": [
        "Now you filtered out the image collection in May 2020. The number of images are reduced."
      ],
      "metadata": {
        "id": "m9otF4l67Z0L"
      }
    },
    {
      "cell_type": "markdown",
      "source": [
        "### **Filter by location**\n",
        "\n",
        "In addition to the temporal filtering, you can use the `filterBounds` function to narrow down to your region of interest (ROI). You will filter out the image collection based on the GEE `geometry`. Before running the `filterBounds` function, you need to define the `geometry` as a ROI. We will set a ROI using `BBox` function. ([Link to BBox function](https://developers.google.com/earth-engine/apidocs/ee-geometry-bbox))"
      ],
      "metadata": {
        "id": "OhkWu4iY7t7L"
      }
    },
    {
      "cell_type": "code",
      "source": [
        "# Region of interest as a point (longitude, latitude)\n",
        "roi = ee.Geometry.BBox(-99, 29, -98, 30)\n",
        "# San Antonio region: ee.Geometry.BBox(west, south, east, north)"
      ],
      "metadata": {
        "id": "5Zkrozhm8Rtx"
      },
      "execution_count": null,
      "outputs": []
    },
    {
      "cell_type": "code",
      "source": [
        "Map = geemap.Map()\n",
        "Map.addLayer(roi, {}, \"ROI\")\n",
        "Map.centerObject(roi, 8)\n",
        "Map"
      ],
      "metadata": {
        "id": "bRXBzVMszjUK"
      },
      "execution_count": null,
      "outputs": []
    },
    {
      "cell_type": "markdown",
      "source": [
        "In addition to the Point geometry, there are several other geometry types you can use: Line string, Linear ring, rectangle, polygon. Please visit the link below and practice how to create another type of geometry. [GEE geometry](https://developers.google.com/earth-engine/guides/geometries)"
      ],
      "metadata": {
        "id": "EKhpbLcsAgEr"
      }
    },
    {
      "cell_type": "code",
      "source": [
        "# # Geometry\n",
        "# point = ee.Geometry.Point([1.5, 1.5]);\n",
        "\n",
        "# # Rectangle\n",
        "# rectangle = ee.Geometry.Rectangle([-40, -20, 40, 20]);\n",
        "\n",
        "# # Polygon\n",
        "# polygon = ee.Geometry.Polygon([\n",
        "#   [[-5, 40], [65, 40], [65, 60], [-5, 60], [-5, 60]]\n",
        "# ]);\n",
        "\n",
        "# # Line string\n",
        "# lines = ee.Geometry.LineString([[5, -10], [35, -10], [35, 10], [5, 10], [5, -10]])"
      ],
      "metadata": {
        "id": "KfgS7rZbhkwf"
      },
      "execution_count": null,
      "outputs": []
    },
    {
      "cell_type": "markdown",
      "source": [
        "***DO IT YOURSELF!!***\n",
        "- Please create Line string, Linear ring, rectangle, and polygon with any latitude and longitude. I also encourage you to try using these geometries for the following location filters."
      ],
      "metadata": {
        "id": "PlYyjY1PDiLa"
      }
    },
    {
      "cell_type": "markdown",
      "source": [
        "Now we will filter the image collection based on this defined geometry using the `filterBounds` function. Please find more details about this function here: [filterBounds](https://developers.google.com/earth-engine/apidocs/ee-imagecollection-filterbounds)"
      ],
      "metadata": {
        "id": "r-FniKx8DHij"
      }
    },
    {
      "cell_type": "code",
      "source": [
        "collection = ee.ImageCollection('LANDSAT/LC08/C02/T1_L2') \\\n",
        "    .filterDate('2020-05-01', '2020-05-31') \\\n",
        "    .filterBounds(roi)"
      ],
      "metadata": {
        "id": "gAYTkRcF8c77"
      },
      "execution_count": null,
      "outputs": []
    },
    {
      "cell_type": "code",
      "source": [
        "# Number of images in the filtered image collection\n",
        "print(collection.size().getInfo())"
      ],
      "metadata": {
        "id": "LyWJ4Lrl82vV"
      },
      "execution_count": null,
      "outputs": []
    },
    {
      "cell_type": "code",
      "source": [
        "# Load a geemap\n",
        "Map = geemap.Map()\n",
        "\n",
        "# \"First\" function gets the first image in the collection\n",
        "image = collection.first()\n",
        "\n",
        "# image visualization factors\n",
        "vis_param = {'min': 0,\n",
        "             'max': 20000,\n",
        "             'bands': ['SR_B5', 'SR_B4', 'SR_B3'],\n",
        "             'gamma': 0.5}\n",
        "\n",
        "Map.addLayer(image, vis_param, \"First image\")\n",
        "Map.centerObject(image, 8)\n",
        "\n",
        "Map"
      ],
      "metadata": {
        "id": "-1PlHwwdMBw3"
      },
      "execution_count": null,
      "outputs": []
    },
    {
      "cell_type": "code",
      "source": [
        "# Check the image properties\n",
        "geemap.image_props(image).getInfo()"
      ],
      "metadata": {
        "id": "NRjdbiXk-xwj"
      },
      "execution_count": null,
      "outputs": []
    },
    {
      "cell_type": "markdown",
      "source": [
        "### **Filter by metadata**\n",
        "\n",
        "As you can see in the image properties above, this image is from May 10, 2020. (See \"system:time_end\") However, the cloud cover of this image is about 50 % (i.e., 50 % of the entire image is covered by cloud). This cloud-covered image is not very useful for monitoring earth surfaces. Therefore, we need to select some images with low cloud covers. GEE provides the function named `filterMetadata` to filter out the image collection based on the metadata. To filter out cloud-covered images, we will use the 'CLOUD_COVER' property from the metadata."
      ],
      "metadata": {
        "id": "5sminT6D-0Vq"
      }
    },
    {
      "cell_type": "code",
      "source": [
        "collection = ee.ImageCollection('LANDSAT/LC08/C02/T1_L2') \\\n",
        "    .filterDate('2020-01-01', '2020-12-31') \\\n",
        "    .filterBounds(ee.Geometry.Point(-122.4488, 37.7589)) \\\n",
        "    .filterMetadata('CLOUD_COVER', 'less_than', 10) \\\n",
        "    .sort(\"CLOUD_COVER\")\n",
        "\n",
        "# Filter by metadata: cloud cover is less than 10 %.\n",
        "# In this case, we use 'less than' operator to filter out low cloud cover area.\n",
        "# However, there are some other operators as well: 'greater than', 'equals', etc.\n",
        "# .sort function is to sort the images in the image collection based on cloud covers.\n",
        "# That is, the images are sorted from low cloud covers to higher cloud covers\n"
      ],
      "metadata": {
        "id": "fxL9RBG7_xAC"
      },
      "execution_count": null,
      "outputs": []
    },
    {
      "cell_type": "code",
      "source": [
        "# Number of images in the filtered image collection\n",
        "print(collection.size().getInfo())"
      ],
      "metadata": {
        "id": "IkzUFA-tClfS"
      },
      "execution_count": null,
      "outputs": []
    },
    {
      "cell_type": "code",
      "source": [
        "# Load a geemap\n",
        "Map = geemap.Map()\n",
        "\n",
        "# \"First\" function gets the first image in the collection\n",
        "image = collection.first()\n",
        "\n",
        "# image visualization factors\n",
        "vis_param = {'min': 0,\n",
        "             'max': 15000,\n",
        "             'bands': ['SR_B4', 'SR_B3', 'SR_B2'],\n",
        "             'gamma': 0.5}\n",
        "\n",
        "Map.addLayer(image, vis_param, \"First image\")\n",
        "Map.centerObject(image, 8)\n",
        "\n",
        "Map"
      ],
      "metadata": {
        "id": "tg-QqP_nWROb"
      },
      "execution_count": null,
      "outputs": []
    },
    {
      "cell_type": "code",
      "source": [
        "geemap.image_props(image).getInfo()"
      ],
      "metadata": {
        "id": "wtC8NjTACV7S"
      },
      "execution_count": null,
      "outputs": []
    },
    {
      "cell_type": "markdown",
      "source": [
        "You can extract the information of the images in the image collection as a form of array by using \"aggregate_array\" function."
      ],
      "metadata": {
        "id": "GsdxtWErEWxY"
      }
    },
    {
      "cell_type": "code",
      "source": [
        "# Cloud cover information as a array\n",
        "collection.aggregate_array('CLOUD_COVER').getInfo()"
      ],
      "metadata": {
        "id": "J5pIiI-FCUp0"
      },
      "execution_count": null,
      "outputs": []
    },
    {
      "cell_type": "code",
      "source": [
        "# Image ID information as a array\n",
        "collection.aggregate_array('system:id').getInfo()"
      ],
      "metadata": {
        "id": "8gJFIK1wEUh0"
      },
      "execution_count": null,
      "outputs": []
    },
    {
      "cell_type": "code",
      "source": [
        "# From this image ID information, you can import an image you want from the image collection.\n",
        "\n",
        "# Array of IDs is saved as a variable named \"id_array\"\n",
        "id_array = collection.aggregate_array('system:id').getInfo()\n",
        "\n",
        "# Import the 3rd image (index: 2) as a image\n",
        "image = ee.Image(id_array[2])\n",
        "\n",
        "# image visualization factors\n",
        "vis_param = {'min': 0,\n",
        "             'max': 15000,\n",
        "             'bands': ['SR_B4', 'SR_B3', 'SR_B2'],\n",
        "             'gamma': 0.5}\n",
        "\n",
        "Map.addLayer(image, vis_param, \"First image\")\n",
        "Map.centerObject(image, 8)\n",
        "\n",
        "Map"
      ],
      "metadata": {
        "id": "qlP4rh06E4Iz"
      },
      "execution_count": null,
      "outputs": []
    },
    {
      "cell_type": "markdown",
      "source": [
        "***DO IT YOURSELF!!***\n",
        "- So far, we used Landsat 8 image collections. Please do the same process you did for Landsat 8 above, but now with Sentinel-2 data. If you want to get the band information about this data, please go to this link: [Sentinel-2 MSI: MultiSpectral Instrument, Level-2A](https://developers.google.com/earth-engine/datasets/catalog/COPERNICUS_S2_SR)\n",
        "- Also, please change the region of interest with using different latitude and longitude.\n",
        "- Please keep in mind that the keys of metadata for Sentinel-2 can be different from the keys of Landsat 8 data. For example, Sentinel-2 uses \"CLOUDY_PIXEL_PERCENTAGE\" for cloud covers, instead of \"CLOUD_COVER\" of the Landsat image."
      ],
      "metadata": {
        "id": "dc-eEe5LCxGj"
      }
    },
    {
      "cell_type": "markdown",
      "source": [
        "## **2. Reduce image collections**\n",
        "\n",
        "In the previous examples, we filter image collections using dates, regions, and metadata, and extract an image (e.g., first image) from the image collection. However, sometimes you may need to calculate some statistics (e.g., mean, median, standard devation, max, min) from the image collections. To composite images in an `ImageCollection`, we can use `imageCollection.reduce()` function. This will composite all the images in the collection to a single image representing, for example, the m mean, median, standard devation, max, or min of the images. You will learn how to use this `reduce()` function to extract the information you want."
      ],
      "metadata": {
        "id": "e-etEV5liYmR"
      }
    },
    {
      "cell_type": "markdown",
      "source": [
        "### Median & Mean reducer\n",
        "\n",
        "First, let's see how the reducer `median()` works for the Landsat 8 TOA image collection."
      ],
      "metadata": {
        "id": "wzRvP340Qmpq"
      }
    },
    {
      "cell_type": "code",
      "source": [
        "# Load a Landsat 8 TOA collection for a single path-row.\n",
        "collection = ee.ImageCollection('LANDSAT/LC08/C02/T1_TOA')\\\n",
        ".filterDate('2014-01-01', '2015-01-01') \\\n",
        ".filter(ee.Filter.eq('WRS_PATH', 44)) \\\n",
        ".filter(ee.Filter.eq('WRS_ROW', 34))\n",
        "# Filter the image collecetion with path and row (from metadata)\n",
        "\n",
        "## The above script is the same to the below script using filterMetadata\n",
        "# collection = ee.ImageCollection('LANDSAT/LC08/C02/T1_TOA')\\\n",
        "# .filterDate('2014-01-01', '2015-01-01') \\\n",
        "# .filterMetadata('WRS_PATH', 'equals', 44) \\\n",
        "# .filterMetadata('WRS_ROW', 'equals', 34) \\\n",
        "\n",
        "# Compute a median image and display.\n",
        "median = collection.median()\n",
        "\n",
        "# Draw a map\n",
        "Map = geemap.Map()\n",
        "Map.centerObject(collection, 8)\n",
        "Map.addLayer(median, {'bands': ['B4', 'B3', 'B2'], 'max': 0.3}, 'Median')\n",
        "Map"
      ],
      "metadata": {
        "id": "JUGr3RDFlbQa"
      },
      "execution_count": null,
      "outputs": []
    },
    {
      "cell_type": "code",
      "source": [
        "# See what is stored in the median variable\n",
        "median"
      ],
      "metadata": {
        "id": "d48H1kecNMi4"
      },
      "execution_count": null,
      "outputs": []
    },
    {
      "cell_type": "code",
      "source": [
        "# Reduce the collection with a median reducer.\n",
        "median = collection.reduce(ee.Reducer.median())\n",
        "\n",
        "# Display the median image.\n",
        "Map.addLayer(median, {'bands': ['B4_median', 'B3_median', 'B2_median'], 'max': 0.3}, 'Also median')\n",
        "Map"
      ],
      "metadata": {
        "id": "1YomnSAgMaCR"
      },
      "execution_count": null,
      "outputs": []
    },
    {
      "cell_type": "markdown",
      "source": [
        "Please note that the band names differ as a result of using `reduce()` instead of the convenience method. Specifically, the names of the reducer have been appended to the band names. Let's see another reduce `mean()`."
      ],
      "metadata": {
        "id": "i5jYgfTsNuOn"
      }
    },
    {
      "cell_type": "code",
      "source": [
        "# Reduce the collection with a mean reducer.\n",
        "mean = collection.reduce(ee.Reducer.mean())\n",
        "\n",
        "# Display the mean image.\n",
        "Map.addLayer(mean, {'bands': ['B4_mean', 'B3_mean', 'B2_mean'], 'max': 0.3}, 'Mean')\n",
        "Map"
      ],
      "metadata": {
        "id": "-f3pzSsZNSKv"
      },
      "execution_count": null,
      "outputs": []
    },
    {
      "cell_type": "markdown",
      "source": [
        "You can find various `ee.Reducer()` in this web page: [ee.Reducer](https://developers.google.com/earth-engine/apidocs/ee-reducer-count)"
      ],
      "metadata": {
        "id": "TR_LgqChOGCJ"
      }
    },
    {
      "cell_type": "markdown",
      "source": [
        "### Linear fitting reducer\n",
        "\n",
        "Now, let's try more complex reductions. For example, to compute the long term linear trend over a collection, use one of the linear regression reducers. The following code computes the linear trend of MODIS Enhanced Vegetation Index (EVI) ([LINK](https://developers.google.com/earth-engine/datasets/catalog/MODIS_061_MYD13A1)).\n",
        "\n"
      ],
      "metadata": {
        "id": "tc5fL8W-Oo6w"
      }
    },
    {
      "cell_type": "code",
      "source": [
        "# This function adds a band representing the image timestamp.\n",
        "def addTime(image):\n",
        "  return image.addBands(image.metadata('system:time_start').divide(1000 * 60 * 60 * 24 * 365))\n",
        "  # Convert milliseconds from epoch to years to aid in interpretation of the following trend calculation.\n",
        "\n",
        "# Load a MODIS collection, filter to several years of 16 day mosaics, and map the time band function over it.\n",
        "collection = ee.ImageCollection('MODIS/006/MYD13A1').filterDate('2010-01-01', '2020-01-01').map(addTime)\n",
        "\n",
        "# Select the bands to model with the independent variable first.\n",
        "trend = collection.select(['system:time_start', 'EVI']).reduce(ee.Reducer.linearFit())\n",
        "\n",
        "Map = geemap.Map()\n",
        "Map.setCenter(-96.943, 39.436, 5)\n",
        "Map.addLayer(trend, {'min': -100, 'max': 100, 'bands': ['scale'], 'palette': ['red', 'white', 'blue']}, 'EVI trend')\n",
        "Map"
      ],
      "metadata": {
        "id": "L70Z84HBifIC"
      },
      "execution_count": null,
      "outputs": []
    },
    {
      "cell_type": "code",
      "source": [
        "trend"
      ],
      "metadata": {
        "id": "2fliQrI_0tDW"
      },
      "execution_count": null,
      "outputs": []
    },
    {
      "cell_type": "markdown",
      "source": [
        "## **References**\n",
        "- https://geemap.org/tutorials/\n",
        "- https://developers.google.com/earth-engine/guides/ic_reducing"
      ],
      "metadata": {
        "id": "UcmTKyCwnc2S"
      }
    }
  ]
}