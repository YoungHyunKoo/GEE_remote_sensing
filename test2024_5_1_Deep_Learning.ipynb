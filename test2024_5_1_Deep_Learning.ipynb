{
  "nbformat": 4,
  "nbformat_minor": 0,
  "metadata": {
    "colab": {
      "provenance": [],
      "toc_visible": true,
      "include_colab_link": true
    },
    "kernelspec": {
      "name": "python3",
      "display_name": "Python 3"
    },
    "language_info": {
      "name": "python"
    }
  },
  "cells": [
    {
      "cell_type": "markdown",
      "metadata": {
        "id": "view-in-github",
        "colab_type": "text"
      },
      "source": [
        "<a href=\"https://colab.research.google.com/github/YoungHyunKoo/GEE_remote_sensing/blob/main/test2024_5_1_Deep_Learning.ipynb\" target=\"_parent\"><img src=\"https://colab.research.google.com/assets/colab-badge.svg\" alt=\"Open In Colab\"/></a>"
      ]
    },
    {
      "cell_type": "markdown",
      "source": [
        "### **[GEO 6083] Remote Sensing Imge Processing - Spring 2024**\n",
        "# **WEEK 5-1. Deep learning with Earth Engine**\n",
        "\n",
        "### OBJECTIVES\n",
        "1. Import earth engine images as numpy arrays\n",
        "2. Train and test a simple neural network (NN) model with the imported images\n",
        "\n",
        "Credited by Younghyun Koo (kooala317@gmail.com)"
      ],
      "metadata": {
        "id": "spgKDXRFKukv"
      }
    },
    {
      "cell_type": "markdown",
      "source": [
        "## **Convert Earth Engine image into Xarray format**\n",
        "\n",
        "In this tutorial, we will train and test a **neural network (NN)** model to filter out cloud coveres in a Landsat 8 imagery. Earth Engine provides its own AI platform ([Earth Engine Vertex AI example](https://developers.google.com/earth-engine/guides/ml_examples)), but this service requires commercial licenses and charges for the access to Google Cloud. Therefore, instead of using the GEE AI platform, we will extract the `ee.Image` into more accessible and Python-compatible array format to conduct advanced machine learning and AI training. In this tutorial, we will export a GEE image into `xarray` format using an external library called `wxee`. `xarray` is a very popular and useful package specialized for processing multi-dimensional array data. You can find more information here: https://xarray.dev/\n",
        "\n"
      ],
      "metadata": {
        "id": "762yPdQwCsyQ"
      }
    },
    {
      "cell_type": "code",
      "source": [
        "# Import ee library\n",
        "import ee\n",
        "\n",
        "# Authenticate\n",
        "ee.Authenticate()\n",
        "\n",
        "# Initialize with your own project.\n",
        "ee.Initialize(project = \"utsa-spring2024\")"
      ],
      "metadata": {
        "id": "Fd9zaUXIHShv"
      },
      "execution_count": null,
      "outputs": []
    },
    {
      "cell_type": "code",
      "source": [
        "# Import geemap library\n",
        "import geemap"
      ],
      "metadata": {
        "id": "WnAX3z0DCzb5"
      },
      "execution_count": null,
      "outputs": []
    },
    {
      "cell_type": "code",
      "source": [
        "# Import geopandas and pandas library\n",
        "import geopandas\n",
        "import pandas as pd\n",
        "import numpy as np"
      ],
      "metadata": {
        "id": "EZukgApFC1AZ"
      },
      "execution_count": null,
      "outputs": []
    },
    {
      "cell_type": "code",
      "source": [
        "# Install wxee library (convert ee to xarray)\n",
        "!pip install wxee"
      ],
      "metadata": {
        "id": "gbcbVNeCBiMx"
      },
      "execution_count": null,
      "outputs": []
    },
    {
      "cell_type": "code",
      "source": [
        "# For interactual plot\n",
        "!pip install ipympl"
      ],
      "metadata": {
        "id": "fKh8ct_MBk55"
      },
      "execution_count": null,
      "outputs": []
    },
    {
      "cell_type": "code",
      "source": [
        "import wxee\n",
        "import matplotlib.pyplot as plt"
      ],
      "metadata": {
        "id": "peiSGKX6vmJg"
      },
      "execution_count": null,
      "outputs": []
    },
    {
      "cell_type": "code",
      "source": [
        "# Target area: San Antonio area\n",
        "AOI = ee.Geometry.Rectangle(\n",
        "  [\n",
        "    [-98.50, 29.20],\n",
        "    [-98.30, 29.50]\n",
        "  ]\n",
        ")\n",
        "\n",
        "# import image data\n",
        "dataset = ee.ImageCollection(\"LANDSAT/LC08/C02/T1_TOA\")\\\n",
        ".filterDate('2015-01-01', '2015-12-31')\\\n",
        ".filterMetadata('CLOUD_COVER', 'greater_than', 20) \\\n",
        ".filterMetadata('WRS_ROW', 'equals', 40)\\\n",
        ".filterMetadata('WRS_PATH', 'equals', 27)\\\n",
        ".filterBounds(AOI) \\\n",
        ".sort(\"CLOUD_COVER\")\n",
        "\n",
        "img = dataset.first().clip(AOI) #mean()#.clip(AOI)\n",
        "\n",
        "# trueColor = dataset.select(['R', 'G', 'B']);\n",
        "trueColorVis = {\n",
        "    'bands': ['B4', 'B3', 'B2'],\n",
        "    'min': 0.0,\n",
        "    'max': 0.3,\n",
        "};\n",
        "\n",
        "Map = geemap.Map()\n",
        "\n",
        "Map.centerObject(img, 12);\n",
        "Map.addLayer(img, trueColorVis, 'True Color')\n",
        "\n",
        "Map"
      ],
      "metadata": {
        "id": "Rp8UvBd5CK3s"
      },
      "execution_count": null,
      "outputs": []
    },
    {
      "cell_type": "code",
      "source": [
        "# Get the information about this image\n",
        "img.getInfo()"
      ],
      "metadata": {
        "id": "js8kfbMBEN4E"
      },
      "execution_count": null,
      "outputs": []
    },
    {
      "cell_type": "code",
      "source": [
        "# Export this image into xarray format (B1-B7)\n",
        "bands = ['B1', 'B2', 'B3', 'B4', 'B5', 'B6', 'B7']\n",
        "arr = img.select(bands).wx.to_xarray(scale = 30, crs = \"EPSG:32614\", progress = True)"
      ],
      "metadata": {
        "id": "-IQGzZ8nJwwe"
      },
      "execution_count": null,
      "outputs": []
    },
    {
      "cell_type": "code",
      "source": [
        "arr"
      ],
      "metadata": {
        "id": "WtrVQd7hLC47"
      },
      "execution_count": null,
      "outputs": []
    },
    {
      "cell_type": "code",
      "source": [
        "# Show RGB true color image\n",
        "RGB = np.dstack([arr['B4'][0], arr['B3'][0], arr['B2'][0]])\n",
        "plt.imshow(RGB)"
      ],
      "metadata": {
        "id": "OvIn1n_mvvev"
      },
      "execution_count": null,
      "outputs": []
    },
    {
      "cell_type": "markdown",
      "source": [
        "## **Prepare training datasets**\n",
        "\n",
        "The NN model is fully **data-driven**, which means that this model learns how to distinguish clouds and non-cloud area using given sets of data. Therefore, in order to train the NN model, we need a lot of labeled training datasets. In this section, we will manually digitize some cloud and non-cloud areas."
      ],
      "metadata": {
        "id": "4AIYRg0fwaxT"
      }
    },
    {
      "cell_type": "code",
      "source": [
        "# Define a function that extracts band information for a specific point\n",
        "def derive_inputs(data, coord, bands):\n",
        "  # data: xarray format of the input image\n",
        "  # coord: x and y pixel location of the selected point\n",
        "  # bands: input bands (B1-B7)\n",
        "\n",
        "  # Output - dataframe format\n",
        "  df = pd.DataFrame({})\n",
        "\n",
        "  if len(data) > 0:\n",
        "\n",
        "    for band in bands:\n",
        "\n",
        "      df.loc[0, band] = data[band][0][(coord[1], coord[0])]\n",
        "\n",
        "  return df"
      ],
      "metadata": {
        "id": "QNse8tZ8LlGV"
      },
      "execution_count": null,
      "outputs": []
    },
    {
      "cell_type": "code",
      "source": [
        "%matplotlib widget\n",
        "fig, ax = plt.subplots(constrained_layout=True, figsize = (8, 8))\n",
        "\n",
        "plt.imshow(RGB)\n",
        "\n",
        "# Function for storing and showing the clicked values\n",
        "coord1 = []\n",
        "coord2 = []\n",
        "\n",
        "def onclick(event):\n",
        "\n",
        "    global coord1, coord2, cloud\n",
        "\n",
        "    x = int(event.xdata)\n",
        "    y = int(event.ydata)\n",
        "\n",
        "    if event.button == 1: # Left click (clouds)\n",
        "        coord1.append((x, y))\n",
        "        ax.scatter(x, y, marker = \"x\", color = \"r\")\n",
        "        df = derive_inputs(arr, (x,y), bands)\n",
        "        df['cloud'] = 1\n",
        "        cloud = pd.concat([cloud, df]).reset_index(drop = True)\n",
        "\n",
        "    elif event.button == 3: # Right click (non-clouds)\n",
        "        coord2.append((x, y))\n",
        "        ax.scatter(x, y, marker = \"x\", color = \"b\")\n",
        "        df = derive_inputs(arr, (x,y), bands)\n",
        "        df['cloud'] = 0\n",
        "        cloud = pd.concat([cloud, df]).reset_index(drop = True)\n",
        "\n",
        "    # berg.to_csv(filepath + \"\\\\\" + filename)\n",
        "\n",
        "    fig.canvas.draw() #redraw the figure\n",
        "\n",
        "cloud = pd.DataFrame({})\n",
        "\n",
        "fig.canvas.mpl_connect('button_press_event', onclick)\n",
        "\n",
        "plt.show()"
      ],
      "metadata": {
        "id": "ThAYalUwK1D9"
      },
      "execution_count": null,
      "outputs": []
    },
    {
      "cell_type": "code",
      "source": [
        "%matplotlib widget\n",
        "fig, ax = plt.subplots(constrained_layout=True, figsize = (8, 8))\n",
        "\n",
        "plt.imshow(RGB)\n",
        "\n",
        "# Function for storing and showing the clicked values\n",
        "coord1 = []\n",
        "coord2 = []\n",
        "\n",
        "def onclick(event):\n",
        "\n",
        "    global coord1, coord2, cloud, shadow\n",
        "\n",
        "    x = int(event.xdata)\n",
        "    y = int(event.ydata)\n",
        "\n",
        "    if event.button == 1: # Left click (clouds)\n",
        "        coord1.append((x, y))\n",
        "        ax.scatter(x, y, marker = \"x\", color = \"r\")\n",
        "        df = derive_inputs(arr, (x,y), bands)\n",
        "        df['cloud'] = 2\n",
        "        shadow = shadow.append(df).reset_index(drop = True)\n",
        "\n",
        "    # berg.to_csv(filepath + \"\\\\\" + filename)\n",
        "\n",
        "    fig.canvas.draw() #redraw the figure\n",
        "\n",
        "shadow = pd.DataFrame({})\n",
        "\n",
        "fig.canvas.mpl_connect('button_press_event', onclick)\n",
        "\n",
        "plt.show()"
      ],
      "metadata": {
        "id": "TweGzXaOIRwB"
      },
      "execution_count": null,
      "outputs": []
    },
    {
      "cell_type": "code",
      "source": [],
      "metadata": {
        "id": "cS6vcXCTI59v"
      },
      "execution_count": null,
      "outputs": []
    },
    {
      "cell_type": "code",
      "source": [
        "cloud"
      ],
      "metadata": {
        "id": "hn4_8fouKB34"
      },
      "execution_count": null,
      "outputs": []
    },
    {
      "cell_type": "code",
      "source": [
        "# X: input data (band values); y: output data (binary classification of cloud and non-cloud)\n",
        "X = cloud[bands]\n",
        "y = cloud['cloud']"
      ],
      "metadata": {
        "id": "Kh2_pqu0gsxw"
      },
      "execution_count": null,
      "outputs": []
    },
    {
      "cell_type": "code",
      "source": [
        "X"
      ],
      "metadata": {
        "id": "qJ8Y4rmCBZCk"
      },
      "execution_count": null,
      "outputs": []
    },
    {
      "cell_type": "code",
      "source": [
        "y"
      ],
      "metadata": {
        "id": "QsZKN782Bbeg"
      },
      "execution_count": null,
      "outputs": []
    },
    {
      "cell_type": "code",
      "source": [
        "from sklearn.model_selection import train_test_split\n",
        "\n",
        "# Split train and test datasets\n",
        "X_train, X_test, y_train, y_test = train_test_split(X, y, test_size = 0.4)"
      ],
      "metadata": {
        "id": "qrlelKeAd9PT"
      },
      "execution_count": null,
      "outputs": []
    },
    {
      "cell_type": "markdown",
      "source": [
        "## **Train neural network**\n",
        "\n",
        "Neural Network, especially **Multi-layer Perceptron (MLP)** in this case, is a supervised learning algorithm that learns a function by training on a dataset. The process of creating a neural network begins with the **perceptron (or neural)**. In simple terms, the perceptron receives inputs, multiplies them by some weights, and then passes them into an activation function (such as logistic, relu, tanh, identity) to produce an output. Neural networks are created by adding the layers of these perceptrons together, known as a multi-layer perceptron. There are three layers of a neural network - the input, hidden, and output layers. The input layer directly receives the data, whereas the output layer creates the required output. The layers in between are known as hidden layers where the intermediate computation takes place. [Multilayer perceptron](https://scikit-learn.org/stable/modules/neural_networks_supervised.html)\n",
        "\n",
        "https://dev.to/dattran1999/how-neural-networks-work-dma\n",
        "\n",
        "<img src = \"https://www.ibm.com/content/dam/connectedassets-adobe-cms/worldwide-content/cdp/cf/ul/g/3a/b8/ICLH_Diagram_Batch_01_03-DeepNeuralNetwork.component.simple-narrative-xl.ts=1708454686214.png/content/adobe-cms/us/en/topics/neural-networks/jcr:content/root/table_of_contents/body/content_section_styled/content-section-body/simple_narrative_2144712998/image\" width = 600>\n",
        "\n",
        "<img src = \"https://res.cloudinary.com/practicaldev/image/fetch/s--nlat4t7K--/c_limit%2Cf_auto%2Cfl_progressive%2Cq_auto%2Cw_880/https://pythonmachinelearning.pro/wp-content/uploads/2017/09/Single-Perceptron.png.webp\" width = 600>"
      ],
      "metadata": {
        "id": "viI_vndIyvzZ"
      }
    },
    {
      "cell_type": "code",
      "source": [
        "# Dependencies: Import keras package\n",
        "import keras\n",
        "from keras.models import Sequential\n",
        "from keras.layers import Dense\n",
        "\n",
        "# Design a neural network\n",
        "model = Sequential()\n",
        "model.add(Dense(10, input_dim=7, activation='ReLU'))\n",
        "model.add(Dense(10, activation='ReLU'))\n",
        "model.add(Dense(1, activation='sigmoid'))"
      ],
      "metadata": {
        "id": "rv9-_0uMdnbY"
      },
      "execution_count": null,
      "outputs": []
    },
    {
      "cell_type": "markdown",
      "source": [
        "*** NOTE ***\n",
        "Various types of activation functions:\n",
        "\n",
        "<img src = \"https://aman.ai/primers/ai/assets/activation/1.png\" width = 500>"
      ],
      "metadata": {
        "id": "ghGgzvpE1zEp"
      }
    },
    {
      "cell_type": "code",
      "source": [
        "model.summary()"
      ],
      "metadata": {
        "id": "7twuN8MN3Ikj"
      },
      "execution_count": null,
      "outputs": []
    },
    {
      "cell_type": "code",
      "source": [
        "# Compile model: loss function, gradient optimizer, etc.\n",
        "model.compile(loss='binary_crossentropy', optimizer='adam', metrics=[\"accuracy\"])"
      ],
      "metadata": {
        "id": "ENTDz6dJd2Bi"
      },
      "execution_count": null,
      "outputs": []
    },
    {
      "cell_type": "markdown",
      "source": [
        "<img src = \"https://miro.medium.com/v2/resize:fit:1400/format:webp/1*SCz0aTETjTYC864Bqjt6Og.png\" width = 600>"
      ],
      "metadata": {
        "id": "y_tZC5034Jjv"
      }
    },
    {
      "cell_type": "code",
      "source": [
        "# Train model: set up some parameters, e.g., epochs, batch size, etc.\n",
        "history = model.fit(X_train, y_train, validation_data = (X_test, y_test), epochs=100, batch_size=16)"
      ],
      "metadata": {
        "id": "Nv4CDOtXd9Ri"
      },
      "execution_count": null,
      "outputs": []
    },
    {
      "cell_type": "code",
      "source": [
        "# Check final test accuracy\n",
        "test_loss, test_acc = model.evaluate(X_test,  y_test, verbose=2)"
      ],
      "metadata": {
        "id": "lGY8q68lhOlg"
      },
      "execution_count": null,
      "outputs": []
    },
    {
      "cell_type": "code",
      "source": [
        "# Make matplotlib inactive mode\n",
        "%matplotlib inline\n",
        "\n",
        "# Draw learning plot\n",
        "plt.figure()\n",
        "plt.plot(history.history['accuracy'])\n",
        "plt.plot(history.history['val_accuracy'])\n",
        "plt.title('Model accuracy')\n",
        "plt.ylabel('Accuracy')\n",
        "plt.xlabel('Epoch')\n",
        "plt.legend(['Train', 'Test'], loc='upper left')\n",
        "plt.show()"
      ],
      "metadata": {
        "id": "swcoCK8Tzawu"
      },
      "execution_count": null,
      "outputs": []
    },
    {
      "cell_type": "code",
      "source": [
        "def predict_cloud(data, model, bands):\n",
        "  # data: should be xarray with attributes name\n",
        "  # model: keras NN model that is already trained\n",
        "  # bands: list of bands (attributes of xarray) to be used as input features\n",
        "\n",
        "  # Initialize the output result into 0\n",
        "  result = np.zeros((arr.y.shape[0], arr.x.shape[0]))\n",
        "\n",
        "  # Get all pixel values as a single dataframe (initialize dataframe)\n",
        "  x_input = pd.DataFrame(columns = bands)\n",
        "\n",
        "  # Assign pixel values to dataframe\n",
        "  for b in bands:\n",
        "    x_input[b] = data[b][0].values.flatten()\n",
        "\n",
        "  # Predict cloud probability using NN model\n",
        "  result0 = model.predict(x_input)\n",
        "\n",
        "  # Reshape the tabular data to grid format (same gridsize with the original array)\n",
        "  result0 = result0.reshape((data.y.shape[0], data.x.shape[0]))\n",
        "\n",
        "  # Assign binary values (0 or 1) to result (threshold 0.5)\n",
        "  result[result0 > 0.5] = 1\n",
        "\n",
        "  return result\n"
      ],
      "metadata": {
        "id": "8jzmM8hvhcqg"
      },
      "execution_count": null,
      "outputs": []
    },
    {
      "cell_type": "code",
      "source": [
        "# Apply model to the entire image\n",
        "result = predict_cloud(arr, model, bands)"
      ],
      "metadata": {
        "id": "L0Z4lkgtqXow"
      },
      "execution_count": null,
      "outputs": []
    },
    {
      "cell_type": "code",
      "source": [
        "%matplotlib inline\n",
        "fig, ax = plt.subplots(1,2,figsize = (12,5))\n",
        "ax[0].imshow(RGB, vmin = 0.0, vmax = 0.2)\n",
        "ax[0].set_title(\"Original RGB True color\")\n",
        "ax[1].imshow(result)\n",
        "ax[1].set_title(\"Result: detected clouds\")\n",
        "plt.show()"
      ],
      "metadata": {
        "id": "fm1BbavJhcse"
      },
      "execution_count": null,
      "outputs": []
    },
    {
      "cell_type": "markdown",
      "source": [
        "## References\n",
        "- https://wxee.readthedocs.io/en/latest/\n",
        "- https://www.tensorflow.org/tutorials"
      ],
      "metadata": {
        "id": "LlhmFRm-W8LJ"
      }
    }
  ]
}